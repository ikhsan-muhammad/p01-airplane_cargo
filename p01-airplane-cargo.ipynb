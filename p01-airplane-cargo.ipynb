{
 "cells": [
  {
   "cell_type": "markdown",
   "id": "0cb5ace9",
   "metadata": {
    "colab_type": "text",
    "id": "view-in-github"
   },
   "source": [
    "<a href=\"https://colab.research.google.com/github/ikhsan-muhammad/p01-airplane_cargo/blob/main/p01-airplane-cargo.ipynb\" target=\"_parent\"><img src=\"https://colab.research.google.com/assets/colab-badge.svg\" alt=\"Open In Colab\"/></a>"
   ]
  },
  {
   "cell_type": "markdown",
   "id": "846b739f",
   "metadata": {
    "id": "846b739f",
    "papermill": {
     "duration": 0.009862,
     "end_time": "2024-05-22T14:34:40.251488",
     "exception": false,
     "start_time": "2024-05-22T14:34:40.241626",
     "status": "completed"
    },
    "tags": []
   },
   "source": [
    "# Airplane Cargo Analysist"
   ]
  },
  {
   "cell_type": "markdown",
   "id": "cea4c257",
   "metadata": {
    "id": "cea4c257",
    "papermill": {
     "duration": 0.009679,
     "end_time": "2024-05-22T14:34:40.271220",
     "exception": false,
     "start_time": "2024-05-22T14:34:40.261541",
     "status": "completed"
    },
    "tags": []
   },
   "source": [
    "<img src=\"https://indianonlineseller.com/images/blogs/editor/amazon-transportation-services-helping-hand-or-grabbing-hand.jpg\" alt=\"Flowers in Chania\" style=\"border-radius: 15px 15px 15px 15px;\"/>\n",
    "\n",
    "**Metadata:**\n",
    "\n",
    "https://data.sfgov.org/Transportation/Air-Traffic-Cargo-Statistics/u397-j8nr/about_data [san francisco air cargo data]"
   ]
  },
  {
   "cell_type": "markdown",
   "id": "a97c090f",
   "metadata": {},
   "source": [
    "# Understanding Problem"
   ]
  },
  {
   "cell_type": "markdown",
   "id": "0fa9b82e",
   "metadata": {},
   "source": [
    "**Problem case:**\n",
    "* Evaluate the performance of different airlines based on cargo metrics, identifying top performers and areas for improvement.\n",
    "* Analyze patterns in different types of cargo activities to understand trends in the industry, such as the prevalence of express shipments or bulk cargo.\n",
    "* Examine cargo operations over time to identify seasonality, peak periods, or long-term trends in air cargo demand.\n",
    "* Benchmark the performance of specific airlines, regions, or aircraft types against industry averages to assess competitiveness\n",
    "* Utilize historical data to build predictive models for future air cargo trends, helping stakeholders make informed decisions."
   ]
  },
  {
   "cell_type": "markdown",
   "id": "yE9WAc9-JMpq",
   "metadata": {
    "id": "yE9WAc9-JMpq"
   },
   "source": [
    "# Set-UP"
   ]
  },
  {
   "cell_type": "code",
   "execution_count": 1,
   "id": "raD7wJxjIj3t",
   "metadata": {
    "id": "raD7wJxjIj3t"
   },
   "outputs": [],
   "source": [
    "# from google.colab import drive\n",
    "# drive.mount('/content/drive')"
   ]
  },
  {
   "cell_type": "code",
   "execution_count": 2,
   "id": "rKuijNYGW41e",
   "metadata": {
    "id": "rKuijNYGW41e"
   },
   "outputs": [],
   "source": [
    "# # pull data from kaggle datasets\n",
    "# ! pip install kaggle\n",
    "# ! mkdir ~/.kaggle\n",
    "# ! cp /content/drive/MyDrive/Colab\\ Notebooks/kaggle.json ~/.kaggle/\n",
    "# ! chmod 600 ~/.kaggle/kaggle.json\n",
    "# ! kaggle datasets download ikhsanmhmd/air-traffic-cargo-statistic\n",
    "# ! unzip /content/air-traffic-cargo-statistic.zip\n",
    "# ! rm /content/air-traffic-cargo-statistic.zip"
   ]
  },
  {
   "cell_type": "markdown",
   "id": "9964405f",
   "metadata": {
    "id": "9964405f",
    "papermill": {
     "duration": 0.009113,
     "end_time": "2024-05-22T14:34:40.289732",
     "exception": false,
     "start_time": "2024-05-22T14:34:40.280619",
     "status": "completed"
    },
    "tags": []
   },
   "source": [
    "# Data Wrangling"
   ]
  },
  {
   "cell_type": "markdown",
   "id": "207383ff",
   "metadata": {},
   "source": [
    "## Import"
   ]
  },
  {
   "cell_type": "code",
   "execution_count": 3,
   "id": "c84761e9",
   "metadata": {
    "execution": {
     "iopub.execute_input": "2024-05-22T14:34:40.311946Z",
     "iopub.status.busy": "2024-05-22T14:34:40.311112Z",
     "iopub.status.idle": "2024-05-22T14:34:43.537047Z",
     "shell.execute_reply": "2024-05-22T14:34:43.535558Z"
    },
    "id": "c84761e9",
    "papermill": {
     "duration": 3.240397,
     "end_time": "2024-05-22T14:34:43.540003",
     "exception": false,
     "start_time": "2024-05-22T14:34:40.299606",
     "status": "completed"
    },
    "tags": []
   },
   "outputs": [],
   "source": [
    "#import necessary library\n",
    "import pandas as pd\n",
    "pd.plotting.register_matplotlib_converters\n",
    "import numpy as np\n",
    "import matplotlib.pyplot as plt\n",
    "%matplotlib inline\n",
    "import seaborn as sns\n",
    "import plotly.express as px\n",
    "import nbformat as nb\n",
    "\n",
    "#set all things that needed\n",
    "pd.set_option('display.max_columns', 100)\n",
    "# pd.set_option('display.max_rows',200)\n",
    "pd.reset_option('display.max_rows')\n",
    "# plt.style.use('dark_background')\n",
    "\n",
    "# with kaggle\n",
    "# df = pd.read_csv('/kaggle/input/air-traffic-cargo-statistic/Air_Traffic_Cargo_Statistics.csv', parse_dates=[1,13,14], date_format='mixed')\n",
    "# with colab\n",
    "# df = pd.read_csv('/content/drive/MyDrive/Ori Data Import/Air_Traffic_Cargo_Statistics.csv', parse_dates=[1,13,14], date_format='mixed')\n",
    "# local\n",
    "df = pd.read_csv('D:/.project/p01-airplane_cargo/Air_Traffic_Cargo_Statistics.csv', parse_dates=[1,13,14], date_format='mixed')"
   ]
  },
  {
   "cell_type": "code",
   "execution_count": 4,
   "id": "1428f9e5",
   "metadata": {
    "colab": {
     "base_uri": "https://localhost:8080/"
    },
    "execution": {
     "iopub.execute_input": "2024-05-22T14:34:43.562675Z",
     "iopub.status.busy": "2024-05-22T14:34:43.562267Z",
     "iopub.status.idle": "2024-05-22T14:34:43.643030Z",
     "shell.execute_reply": "2024-05-22T14:34:43.641723Z"
    },
    "id": "1428f9e5",
    "outputId": "ae0bd39f-5716-48f7-8c62-b7cadc55209a",
    "papermill": {
     "duration": 0.095634,
     "end_time": "2024-05-22T14:34:43.645646",
     "exception": false,
     "start_time": "2024-05-22T14:34:43.550012",
     "status": "completed"
    },
    "tags": []
   },
   "outputs": [
    {
     "name": "stdout",
     "output_type": "stream",
     "text": [
      "<class 'pandas.core.frame.DataFrame'>\n",
      "RangeIndex: 55038 entries, 0 to 55037\n",
      "Data columns (total 15 columns):\n",
      " #   Column                       Non-Null Count  Dtype         \n",
      "---  ------                       --------------  -----         \n",
      " 0   Activity Period              55038 non-null  int64         \n",
      " 1   Activity Period Start Date   55038 non-null  datetime64[ns]\n",
      " 2   Operating Airline            55038 non-null  object        \n",
      " 3   Operating Airline IATA Code  54460 non-null  object        \n",
      " 4   Published Airline            55038 non-null  object        \n",
      " 5   Published Airline IATA Code  54460 non-null  object        \n",
      " 6   GEO Summary                  55038 non-null  object        \n",
      " 7   GEO Region                   55038 non-null  object        \n",
      " 8   Activity Type Code           55038 non-null  object        \n",
      " 9   Cargo Type Code              55038 non-null  object        \n",
      " 10  Cargo Aircraft Type          55038 non-null  object        \n",
      " 11  Cargo Weight LBS             55038 non-null  int64         \n",
      " 12  Cargo Metric TONS            55038 non-null  float64       \n",
      " 13  data_as_of                   55038 non-null  datetime64[ns]\n",
      " 14  data_loaded_at               55038 non-null  datetime64[ns]\n",
      "dtypes: datetime64[ns](3), float64(1), int64(2), object(9)\n",
      "memory usage: 6.3+ MB\n"
     ]
    }
   ],
   "source": [
    "# df.shape\n",
    "df.info()"
   ]
  },
  {
   "cell_type": "code",
   "execution_count": 5,
   "id": "5e3fe0c0",
   "metadata": {
    "colab": {
     "base_uri": "https://localhost:8080/",
     "height": 379
    },
    "execution": {
     "iopub.execute_input": "2024-05-22T14:34:43.666701Z",
     "iopub.status.busy": "2024-05-22T14:34:43.666303Z",
     "iopub.status.idle": "2024-05-22T14:34:43.786743Z",
     "shell.execute_reply": "2024-05-22T14:34:43.785497Z"
    },
    "id": "5e3fe0c0",
    "outputId": "923c5750-c12c-4f64-dd8d-5a5fdb28c71d",
    "papermill": {
     "duration": 0.134306,
     "end_time": "2024-05-22T14:34:43.789608",
     "exception": false,
     "start_time": "2024-05-22T14:34:43.655302",
     "status": "completed"
    },
    "tags": []
   },
   "outputs": [
    {
     "data": {
      "text/html": [
       "<div>\n",
       "<style scoped>\n",
       "    .dataframe tbody tr th:only-of-type {\n",
       "        vertical-align: middle;\n",
       "    }\n",
       "\n",
       "    .dataframe tbody tr th {\n",
       "        vertical-align: top;\n",
       "    }\n",
       "\n",
       "    .dataframe thead th {\n",
       "        text-align: right;\n",
       "    }\n",
       "</style>\n",
       "<table border=\"1\" class=\"dataframe\">\n",
       "  <thead>\n",
       "    <tr style=\"text-align: right;\">\n",
       "      <th></th>\n",
       "      <th>Activity Period</th>\n",
       "      <th>Activity Period Start Date</th>\n",
       "      <th>Operating Airline</th>\n",
       "      <th>Operating Airline IATA Code</th>\n",
       "      <th>Published Airline</th>\n",
       "      <th>Published Airline IATA Code</th>\n",
       "      <th>GEO Summary</th>\n",
       "      <th>GEO Region</th>\n",
       "      <th>Activity Type Code</th>\n",
       "      <th>Cargo Type Code</th>\n",
       "      <th>Cargo Aircraft Type</th>\n",
       "      <th>Cargo Weight LBS</th>\n",
       "      <th>Cargo Metric TONS</th>\n",
       "      <th>data_as_of</th>\n",
       "      <th>data_loaded_at</th>\n",
       "    </tr>\n",
       "  </thead>\n",
       "  <tbody>\n",
       "    <tr>\n",
       "      <th>0</th>\n",
       "      <td>199907</td>\n",
       "      <td>1999-07-01</td>\n",
       "      <td>ATA Airlines</td>\n",
       "      <td>TZ</td>\n",
       "      <td>ATA Airlines</td>\n",
       "      <td>TZ</td>\n",
       "      <td>Domestic</td>\n",
       "      <td>US</td>\n",
       "      <td>Deplaned</td>\n",
       "      <td>Cargo</td>\n",
       "      <td>Passenger</td>\n",
       "      <td>349048</td>\n",
       "      <td>158.328173</td>\n",
       "      <td>2024-06-20 13:00:06</td>\n",
       "      <td>2024-06-22 15:01:45</td>\n",
       "    </tr>\n",
       "    <tr>\n",
       "      <th>1</th>\n",
       "      <td>199907</td>\n",
       "      <td>1999-07-01</td>\n",
       "      <td>ATA Airlines</td>\n",
       "      <td>TZ</td>\n",
       "      <td>ATA Airlines</td>\n",
       "      <td>TZ</td>\n",
       "      <td>Domestic</td>\n",
       "      <td>US</td>\n",
       "      <td>Deplaned</td>\n",
       "      <td>Mail</td>\n",
       "      <td>Passenger</td>\n",
       "      <td>122003</td>\n",
       "      <td>55.340561</td>\n",
       "      <td>2024-06-20 13:00:06</td>\n",
       "      <td>2024-06-22 15:01:45</td>\n",
       "    </tr>\n",
       "    <tr>\n",
       "      <th>2</th>\n",
       "      <td>199907</td>\n",
       "      <td>1999-07-01</td>\n",
       "      <td>ATA Airlines</td>\n",
       "      <td>TZ</td>\n",
       "      <td>ATA Airlines</td>\n",
       "      <td>TZ</td>\n",
       "      <td>Domestic</td>\n",
       "      <td>US</td>\n",
       "      <td>Enplaned</td>\n",
       "      <td>Cargo</td>\n",
       "      <td>Passenger</td>\n",
       "      <td>514450</td>\n",
       "      <td>233.354520</td>\n",
       "      <td>2024-06-20 13:00:06</td>\n",
       "      <td>2024-06-22 15:01:45</td>\n",
       "    </tr>\n",
       "    <tr>\n",
       "      <th>3</th>\n",
       "      <td>199907</td>\n",
       "      <td>1999-07-01</td>\n",
       "      <td>ATA Airlines</td>\n",
       "      <td>TZ</td>\n",
       "      <td>ATA Airlines</td>\n",
       "      <td>TZ</td>\n",
       "      <td>Domestic</td>\n",
       "      <td>US</td>\n",
       "      <td>Enplaned</td>\n",
       "      <td>Mail</td>\n",
       "      <td>Passenger</td>\n",
       "      <td>89776</td>\n",
       "      <td>40.722394</td>\n",
       "      <td>2024-06-20 13:00:06</td>\n",
       "      <td>2024-06-22 15:01:45</td>\n",
       "    </tr>\n",
       "    <tr>\n",
       "      <th>4</th>\n",
       "      <td>199907</td>\n",
       "      <td>1999-07-01</td>\n",
       "      <td>Aeroflot Russian International Airlines</td>\n",
       "      <td>NaN</td>\n",
       "      <td>Aeroflot Russian International Airlines</td>\n",
       "      <td>NaN</td>\n",
       "      <td>International</td>\n",
       "      <td>Europe</td>\n",
       "      <td>Deplaned</td>\n",
       "      <td>Cargo</td>\n",
       "      <td>Passenger</td>\n",
       "      <td>13086</td>\n",
       "      <td>5.935810</td>\n",
       "      <td>2024-06-20 13:00:06</td>\n",
       "      <td>2024-06-22 15:01:45</td>\n",
       "    </tr>\n",
       "  </tbody>\n",
       "</table>\n",
       "</div>"
      ],
      "text/plain": [
       "   Activity Period Activity Period Start Date  \\\n",
       "0           199907                 1999-07-01   \n",
       "1           199907                 1999-07-01   \n",
       "2           199907                 1999-07-01   \n",
       "3           199907                 1999-07-01   \n",
       "4           199907                 1999-07-01   \n",
       "\n",
       "                         Operating Airline Operating Airline IATA Code  \\\n",
       "0                             ATA Airlines                          TZ   \n",
       "1                             ATA Airlines                          TZ   \n",
       "2                             ATA Airlines                          TZ   \n",
       "3                             ATA Airlines                          TZ   \n",
       "4  Aeroflot Russian International Airlines                         NaN   \n",
       "\n",
       "                         Published Airline Published Airline IATA Code  \\\n",
       "0                             ATA Airlines                          TZ   \n",
       "1                             ATA Airlines                          TZ   \n",
       "2                             ATA Airlines                          TZ   \n",
       "3                             ATA Airlines                          TZ   \n",
       "4  Aeroflot Russian International Airlines                         NaN   \n",
       "\n",
       "     GEO Summary GEO Region Activity Type Code Cargo Type Code  \\\n",
       "0       Domestic         US           Deplaned           Cargo   \n",
       "1       Domestic         US           Deplaned            Mail   \n",
       "2       Domestic         US           Enplaned           Cargo   \n",
       "3       Domestic         US           Enplaned            Mail   \n",
       "4  International     Europe           Deplaned           Cargo   \n",
       "\n",
       "  Cargo Aircraft Type  Cargo Weight LBS  Cargo Metric TONS  \\\n",
       "0           Passenger            349048         158.328173   \n",
       "1           Passenger            122003          55.340561   \n",
       "2           Passenger            514450         233.354520   \n",
       "3           Passenger             89776          40.722394   \n",
       "4           Passenger             13086           5.935810   \n",
       "\n",
       "           data_as_of      data_loaded_at  \n",
       "0 2024-06-20 13:00:06 2024-06-22 15:01:45  \n",
       "1 2024-06-20 13:00:06 2024-06-22 15:01:45  \n",
       "2 2024-06-20 13:00:06 2024-06-22 15:01:45  \n",
       "3 2024-06-20 13:00:06 2024-06-22 15:01:45  \n",
       "4 2024-06-20 13:00:06 2024-06-22 15:01:45  "
      ]
     },
     "execution_count": 5,
     "metadata": {},
     "output_type": "execute_result"
    }
   ],
   "source": [
    "df.head()"
   ]
  },
  {
   "cell_type": "code",
   "execution_count": 6,
   "id": "a2681033",
   "metadata": {
    "colab": {
     "base_uri": "https://localhost:8080/"
    },
    "execution": {
     "iopub.execute_input": "2024-05-22T14:34:43.811599Z",
     "iopub.status.busy": "2024-05-22T14:34:43.811147Z",
     "iopub.status.idle": "2024-05-22T14:34:43.831924Z",
     "shell.execute_reply": "2024-05-22T14:34:43.830700Z"
    },
    "id": "a2681033",
    "outputId": "a74c4ada-c59e-44ab-b3d7-439367d06838",
    "papermill": {
     "duration": 0.034758,
     "end_time": "2024-05-22T14:34:43.834434",
     "exception": false,
     "start_time": "2024-05-22T14:34:43.799676",
     "status": "completed"
    },
    "tags": []
   },
   "outputs": [
    {
     "data": {
      "text/html": [
       "<div>\n",
       "<style scoped>\n",
       "    .dataframe tbody tr th:only-of-type {\n",
       "        vertical-align: middle;\n",
       "    }\n",
       "\n",
       "    .dataframe tbody tr th {\n",
       "        vertical-align: top;\n",
       "    }\n",
       "\n",
       "    .dataframe thead th {\n",
       "        text-align: right;\n",
       "    }\n",
       "</style>\n",
       "<table border=\"1\" class=\"dataframe\">\n",
       "  <thead>\n",
       "    <tr style=\"text-align: right;\">\n",
       "      <th></th>\n",
       "      <th>Activity Period Start Date</th>\n",
       "      <th>Operating Airline</th>\n",
       "      <th>Published Airline</th>\n",
       "      <th>GEO Summary</th>\n",
       "      <th>GEO Region</th>\n",
       "      <th>Activity Type Code</th>\n",
       "      <th>Cargo Type Code</th>\n",
       "      <th>Cargo Aircraft Type</th>\n",
       "      <th>Cargo Weight LBS</th>\n",
       "    </tr>\n",
       "  </thead>\n",
       "  <tbody>\n",
       "    <tr>\n",
       "      <th>0</th>\n",
       "      <td>1999-07-01</td>\n",
       "      <td>ATA Airlines</td>\n",
       "      <td>ATA Airlines</td>\n",
       "      <td>Domestic</td>\n",
       "      <td>US</td>\n",
       "      <td>Deplaned</td>\n",
       "      <td>Cargo</td>\n",
       "      <td>Passenger</td>\n",
       "      <td>349048</td>\n",
       "    </tr>\n",
       "    <tr>\n",
       "      <th>1</th>\n",
       "      <td>1999-07-01</td>\n",
       "      <td>ATA Airlines</td>\n",
       "      <td>ATA Airlines</td>\n",
       "      <td>Domestic</td>\n",
       "      <td>US</td>\n",
       "      <td>Deplaned</td>\n",
       "      <td>Mail</td>\n",
       "      <td>Passenger</td>\n",
       "      <td>122003</td>\n",
       "    </tr>\n",
       "    <tr>\n",
       "      <th>2</th>\n",
       "      <td>1999-07-01</td>\n",
       "      <td>ATA Airlines</td>\n",
       "      <td>ATA Airlines</td>\n",
       "      <td>Domestic</td>\n",
       "      <td>US</td>\n",
       "      <td>Enplaned</td>\n",
       "      <td>Cargo</td>\n",
       "      <td>Passenger</td>\n",
       "      <td>514450</td>\n",
       "    </tr>\n",
       "    <tr>\n",
       "      <th>3</th>\n",
       "      <td>1999-07-01</td>\n",
       "      <td>ATA Airlines</td>\n",
       "      <td>ATA Airlines</td>\n",
       "      <td>Domestic</td>\n",
       "      <td>US</td>\n",
       "      <td>Enplaned</td>\n",
       "      <td>Mail</td>\n",
       "      <td>Passenger</td>\n",
       "      <td>89776</td>\n",
       "    </tr>\n",
       "    <tr>\n",
       "      <th>4</th>\n",
       "      <td>1999-07-01</td>\n",
       "      <td>Aeroflot Russian International Airlines</td>\n",
       "      <td>Aeroflot Russian International Airlines</td>\n",
       "      <td>International</td>\n",
       "      <td>Europe</td>\n",
       "      <td>Deplaned</td>\n",
       "      <td>Cargo</td>\n",
       "      <td>Passenger</td>\n",
       "      <td>13086</td>\n",
       "    </tr>\n",
       "    <tr>\n",
       "      <th>...</th>\n",
       "      <td>...</td>\n",
       "      <td>...</td>\n",
       "      <td>...</td>\n",
       "      <td>...</td>\n",
       "      <td>...</td>\n",
       "      <td>...</td>\n",
       "      <td>...</td>\n",
       "      <td>...</td>\n",
       "      <td>...</td>\n",
       "    </tr>\n",
       "    <tr>\n",
       "      <th>55033</th>\n",
       "      <td>2024-04-01</td>\n",
       "      <td>Vietnam Airlines JSC</td>\n",
       "      <td>Vietnam Airlines JSC</td>\n",
       "      <td>International</td>\n",
       "      <td>Asia</td>\n",
       "      <td>Enplaned</td>\n",
       "      <td>Cargo</td>\n",
       "      <td>Passenger</td>\n",
       "      <td>19323</td>\n",
       "    </tr>\n",
       "    <tr>\n",
       "      <th>55034</th>\n",
       "      <td>2024-04-01</td>\n",
       "      <td>Virgin Atlantic</td>\n",
       "      <td>Virgin Atlantic</td>\n",
       "      <td>International</td>\n",
       "      <td>Europe</td>\n",
       "      <td>Deplaned</td>\n",
       "      <td>Cargo</td>\n",
       "      <td>Passenger</td>\n",
       "      <td>414753</td>\n",
       "    </tr>\n",
       "    <tr>\n",
       "      <th>55035</th>\n",
       "      <td>2024-04-01</td>\n",
       "      <td>Virgin Atlantic</td>\n",
       "      <td>Virgin Atlantic</td>\n",
       "      <td>International</td>\n",
       "      <td>Europe</td>\n",
       "      <td>Enplaned</td>\n",
       "      <td>Cargo</td>\n",
       "      <td>Passenger</td>\n",
       "      <td>174269</td>\n",
       "    </tr>\n",
       "    <tr>\n",
       "      <th>55036</th>\n",
       "      <td>2024-04-01</td>\n",
       "      <td>ZIPAIR Tokyo Inc</td>\n",
       "      <td>ZIPAIR Tokyo Inc</td>\n",
       "      <td>International</td>\n",
       "      <td>Asia</td>\n",
       "      <td>Deplaned</td>\n",
       "      <td>Cargo</td>\n",
       "      <td>Passenger</td>\n",
       "      <td>845137</td>\n",
       "    </tr>\n",
       "    <tr>\n",
       "      <th>55037</th>\n",
       "      <td>2024-04-01</td>\n",
       "      <td>ZIPAIR Tokyo Inc</td>\n",
       "      <td>ZIPAIR Tokyo Inc</td>\n",
       "      <td>International</td>\n",
       "      <td>Asia</td>\n",
       "      <td>Enplaned</td>\n",
       "      <td>Cargo</td>\n",
       "      <td>Passenger</td>\n",
       "      <td>143802</td>\n",
       "    </tr>\n",
       "  </tbody>\n",
       "</table>\n",
       "<p>55038 rows × 9 columns</p>\n",
       "</div>"
      ],
      "text/plain": [
       "      Activity Period Start Date                        Operating Airline  \\\n",
       "0                     1999-07-01                             ATA Airlines   \n",
       "1                     1999-07-01                             ATA Airlines   \n",
       "2                     1999-07-01                             ATA Airlines   \n",
       "3                     1999-07-01                             ATA Airlines   \n",
       "4                     1999-07-01  Aeroflot Russian International Airlines   \n",
       "...                          ...                                      ...   \n",
       "55033                 2024-04-01                     Vietnam Airlines JSC   \n",
       "55034                 2024-04-01                          Virgin Atlantic   \n",
       "55035                 2024-04-01                          Virgin Atlantic   \n",
       "55036                 2024-04-01                         ZIPAIR Tokyo Inc   \n",
       "55037                 2024-04-01                         ZIPAIR Tokyo Inc   \n",
       "\n",
       "                             Published Airline    GEO Summary GEO Region  \\\n",
       "0                                 ATA Airlines       Domestic         US   \n",
       "1                                 ATA Airlines       Domestic         US   \n",
       "2                                 ATA Airlines       Domestic         US   \n",
       "3                                 ATA Airlines       Domestic         US   \n",
       "4      Aeroflot Russian International Airlines  International     Europe   \n",
       "...                                        ...            ...        ...   \n",
       "55033                     Vietnam Airlines JSC  International       Asia   \n",
       "55034                          Virgin Atlantic  International     Europe   \n",
       "55035                          Virgin Atlantic  International     Europe   \n",
       "55036                         ZIPAIR Tokyo Inc  International       Asia   \n",
       "55037                         ZIPAIR Tokyo Inc  International       Asia   \n",
       "\n",
       "      Activity Type Code Cargo Type Code Cargo Aircraft Type  Cargo Weight LBS  \n",
       "0               Deplaned           Cargo           Passenger            349048  \n",
       "1               Deplaned            Mail           Passenger            122003  \n",
       "2               Enplaned           Cargo           Passenger            514450  \n",
       "3               Enplaned            Mail           Passenger             89776  \n",
       "4               Deplaned           Cargo           Passenger             13086  \n",
       "...                  ...             ...                 ...               ...  \n",
       "55033           Enplaned           Cargo           Passenger             19323  \n",
       "55034           Deplaned           Cargo           Passenger            414753  \n",
       "55035           Enplaned           Cargo           Passenger            174269  \n",
       "55036           Deplaned           Cargo           Passenger            845137  \n",
       "55037           Enplaned           Cargo           Passenger            143802  \n",
       "\n",
       "[55038 rows x 9 columns]"
      ]
     },
     "execution_count": 6,
     "metadata": {},
     "output_type": "execute_result"
    }
   ],
   "source": [
    "#select all columns that we need\n",
    "selected_df = df[[\n",
    "#     'Activity Period',\n",
    "    'Activity Period Start Date',\n",
    "    'Operating Airline',\n",
    "#     'Operating Airline IATA Code',\n",
    "    'Published Airline',\n",
    "#     'Published Airline IATA Code',\n",
    "    'GEO Summary',\n",
    "    'GEO Region',\n",
    "    'Activity Type Code',\n",
    "    'Cargo Type Code',\n",
    "    'Cargo Aircraft Type',\n",
    "    'Cargo Weight LBS',\n",
    "    # 'Cargo Metric TONS',\n",
    "#     'data_as_of',\n",
    "#     'data_loaded_at'\n",
    "]].copy()\n",
    "\n",
    "selected_df"
   ]
  },
  {
   "cell_type": "code",
   "execution_count": 7,
   "id": "b794e6a6",
   "metadata": {
    "colab": {
     "base_uri": "https://localhost:8080/",
     "height": 441
    },
    "execution": {
     "iopub.execute_input": "2024-05-22T14:34:43.858093Z",
     "iopub.status.busy": "2024-05-22T14:34:43.856712Z",
     "iopub.status.idle": "2024-05-22T14:34:43.887173Z",
     "shell.execute_reply": "2024-05-22T14:34:43.885980Z"
    },
    "id": "b794e6a6",
    "outputId": "472bebfb-77ba-4975-922c-770aec94356a",
    "papermill": {
     "duration": 0.045303,
     "end_time": "2024-05-22T14:34:43.890003",
     "exception": false,
     "start_time": "2024-05-22T14:34:43.844700",
     "status": "completed"
    },
    "tags": []
   },
   "outputs": [
    {
     "data": {
      "text/html": [
       "<div>\n",
       "<style scoped>\n",
       "    .dataframe tbody tr th:only-of-type {\n",
       "        vertical-align: middle;\n",
       "    }\n",
       "\n",
       "    .dataframe tbody tr th {\n",
       "        vertical-align: top;\n",
       "    }\n",
       "\n",
       "    .dataframe thead th {\n",
       "        text-align: right;\n",
       "    }\n",
       "</style>\n",
       "<table border=\"1\" class=\"dataframe\">\n",
       "  <thead>\n",
       "    <tr style=\"text-align: right;\">\n",
       "      <th></th>\n",
       "      <th>period</th>\n",
       "      <th>operating_airline</th>\n",
       "      <th>published_airline</th>\n",
       "      <th>geo_summary</th>\n",
       "      <th>geo_region</th>\n",
       "      <th>activity_type</th>\n",
       "      <th>cargo_type</th>\n",
       "      <th>aircraft_type</th>\n",
       "      <th>lbs</th>\n",
       "    </tr>\n",
       "  </thead>\n",
       "  <tbody>\n",
       "    <tr>\n",
       "      <th>0</th>\n",
       "      <td>1999-07-01</td>\n",
       "      <td>ATA Airlines</td>\n",
       "      <td>ATA Airlines</td>\n",
       "      <td>Domestic</td>\n",
       "      <td>US</td>\n",
       "      <td>Deplaned</td>\n",
       "      <td>Cargo</td>\n",
       "      <td>Passenger</td>\n",
       "      <td>349048</td>\n",
       "    </tr>\n",
       "    <tr>\n",
       "      <th>1</th>\n",
       "      <td>1999-07-01</td>\n",
       "      <td>ATA Airlines</td>\n",
       "      <td>ATA Airlines</td>\n",
       "      <td>Domestic</td>\n",
       "      <td>US</td>\n",
       "      <td>Deplaned</td>\n",
       "      <td>Mail</td>\n",
       "      <td>Passenger</td>\n",
       "      <td>122003</td>\n",
       "    </tr>\n",
       "    <tr>\n",
       "      <th>2</th>\n",
       "      <td>1999-07-01</td>\n",
       "      <td>ATA Airlines</td>\n",
       "      <td>ATA Airlines</td>\n",
       "      <td>Domestic</td>\n",
       "      <td>US</td>\n",
       "      <td>Enplaned</td>\n",
       "      <td>Cargo</td>\n",
       "      <td>Passenger</td>\n",
       "      <td>514450</td>\n",
       "    </tr>\n",
       "    <tr>\n",
       "      <th>3</th>\n",
       "      <td>1999-07-01</td>\n",
       "      <td>ATA Airlines</td>\n",
       "      <td>ATA Airlines</td>\n",
       "      <td>Domestic</td>\n",
       "      <td>US</td>\n",
       "      <td>Enplaned</td>\n",
       "      <td>Mail</td>\n",
       "      <td>Passenger</td>\n",
       "      <td>89776</td>\n",
       "    </tr>\n",
       "    <tr>\n",
       "      <th>4</th>\n",
       "      <td>1999-07-01</td>\n",
       "      <td>Aeroflot Russian International Airlines</td>\n",
       "      <td>Aeroflot Russian International Airlines</td>\n",
       "      <td>International</td>\n",
       "      <td>Europe</td>\n",
       "      <td>Deplaned</td>\n",
       "      <td>Cargo</td>\n",
       "      <td>Passenger</td>\n",
       "      <td>13086</td>\n",
       "    </tr>\n",
       "    <tr>\n",
       "      <th>...</th>\n",
       "      <td>...</td>\n",
       "      <td>...</td>\n",
       "      <td>...</td>\n",
       "      <td>...</td>\n",
       "      <td>...</td>\n",
       "      <td>...</td>\n",
       "      <td>...</td>\n",
       "      <td>...</td>\n",
       "      <td>...</td>\n",
       "    </tr>\n",
       "    <tr>\n",
       "      <th>55033</th>\n",
       "      <td>2024-04-01</td>\n",
       "      <td>Vietnam Airlines JSC</td>\n",
       "      <td>Vietnam Airlines JSC</td>\n",
       "      <td>International</td>\n",
       "      <td>Asia</td>\n",
       "      <td>Enplaned</td>\n",
       "      <td>Cargo</td>\n",
       "      <td>Passenger</td>\n",
       "      <td>19323</td>\n",
       "    </tr>\n",
       "    <tr>\n",
       "      <th>55034</th>\n",
       "      <td>2024-04-01</td>\n",
       "      <td>Virgin Atlantic</td>\n",
       "      <td>Virgin Atlantic</td>\n",
       "      <td>International</td>\n",
       "      <td>Europe</td>\n",
       "      <td>Deplaned</td>\n",
       "      <td>Cargo</td>\n",
       "      <td>Passenger</td>\n",
       "      <td>414753</td>\n",
       "    </tr>\n",
       "    <tr>\n",
       "      <th>55035</th>\n",
       "      <td>2024-04-01</td>\n",
       "      <td>Virgin Atlantic</td>\n",
       "      <td>Virgin Atlantic</td>\n",
       "      <td>International</td>\n",
       "      <td>Europe</td>\n",
       "      <td>Enplaned</td>\n",
       "      <td>Cargo</td>\n",
       "      <td>Passenger</td>\n",
       "      <td>174269</td>\n",
       "    </tr>\n",
       "    <tr>\n",
       "      <th>55036</th>\n",
       "      <td>2024-04-01</td>\n",
       "      <td>ZIPAIR Tokyo Inc</td>\n",
       "      <td>ZIPAIR Tokyo Inc</td>\n",
       "      <td>International</td>\n",
       "      <td>Asia</td>\n",
       "      <td>Deplaned</td>\n",
       "      <td>Cargo</td>\n",
       "      <td>Passenger</td>\n",
       "      <td>845137</td>\n",
       "    </tr>\n",
       "    <tr>\n",
       "      <th>55037</th>\n",
       "      <td>2024-04-01</td>\n",
       "      <td>ZIPAIR Tokyo Inc</td>\n",
       "      <td>ZIPAIR Tokyo Inc</td>\n",
       "      <td>International</td>\n",
       "      <td>Asia</td>\n",
       "      <td>Enplaned</td>\n",
       "      <td>Cargo</td>\n",
       "      <td>Passenger</td>\n",
       "      <td>143802</td>\n",
       "    </tr>\n",
       "  </tbody>\n",
       "</table>\n",
       "<p>55038 rows × 9 columns</p>\n",
       "</div>"
      ],
      "text/plain": [
       "          period                        operating_airline  \\\n",
       "0     1999-07-01                             ATA Airlines   \n",
       "1     1999-07-01                             ATA Airlines   \n",
       "2     1999-07-01                             ATA Airlines   \n",
       "3     1999-07-01                             ATA Airlines   \n",
       "4     1999-07-01  Aeroflot Russian International Airlines   \n",
       "...          ...                                      ...   \n",
       "55033 2024-04-01                     Vietnam Airlines JSC   \n",
       "55034 2024-04-01                          Virgin Atlantic   \n",
       "55035 2024-04-01                          Virgin Atlantic   \n",
       "55036 2024-04-01                         ZIPAIR Tokyo Inc   \n",
       "55037 2024-04-01                         ZIPAIR Tokyo Inc   \n",
       "\n",
       "                             published_airline    geo_summary geo_region  \\\n",
       "0                                 ATA Airlines       Domestic         US   \n",
       "1                                 ATA Airlines       Domestic         US   \n",
       "2                                 ATA Airlines       Domestic         US   \n",
       "3                                 ATA Airlines       Domestic         US   \n",
       "4      Aeroflot Russian International Airlines  International     Europe   \n",
       "...                                        ...            ...        ...   \n",
       "55033                     Vietnam Airlines JSC  International       Asia   \n",
       "55034                          Virgin Atlantic  International     Europe   \n",
       "55035                          Virgin Atlantic  International     Europe   \n",
       "55036                         ZIPAIR Tokyo Inc  International       Asia   \n",
       "55037                         ZIPAIR Tokyo Inc  International       Asia   \n",
       "\n",
       "      activity_type cargo_type aircraft_type     lbs  \n",
       "0          Deplaned      Cargo     Passenger  349048  \n",
       "1          Deplaned       Mail     Passenger  122003  \n",
       "2          Enplaned      Cargo     Passenger  514450  \n",
       "3          Enplaned       Mail     Passenger   89776  \n",
       "4          Deplaned      Cargo     Passenger   13086  \n",
       "...             ...        ...           ...     ...  \n",
       "55033      Enplaned      Cargo     Passenger   19323  \n",
       "55034      Deplaned      Cargo     Passenger  414753  \n",
       "55035      Enplaned      Cargo     Passenger  174269  \n",
       "55036      Deplaned      Cargo     Passenger  845137  \n",
       "55037      Enplaned      Cargo     Passenger  143802  \n",
       "\n",
       "[55038 rows x 9 columns]"
      ]
     },
     "execution_count": 7,
     "metadata": {},
     "output_type": "execute_result"
    }
   ],
   "source": [
    "#change all columns name\n",
    "selected_df = selected_df.rename(columns={\n",
    "    'Activity Period Start Date' : 'period',\n",
    "    'Operating Airline' : 'operating_airline',\n",
    "    'Published Airline' : 'published_airline',\n",
    "    'GEO Summary' : 'geo_summary',\n",
    "    'GEO Region' : 'geo_region',\n",
    "    'Activity Type Code' : 'activity_type',\n",
    "    'Cargo Type Code' : 'cargo_type',\n",
    "    'Cargo Aircraft Type' : 'aircraft_type',\n",
    "    'Cargo Weight LBS' : 'lbs'\n",
    "}) # type: ignore\n",
    "\n",
    "selected_df"
   ]
  },
  {
   "cell_type": "code",
   "execution_count": 8,
   "id": "ec9a0e9f",
   "metadata": {
    "colab": {
     "base_uri": "https://localhost:8080/",
     "height": 441
    },
    "execution": {
     "iopub.execute_input": "2024-05-22T14:34:43.915809Z",
     "iopub.status.busy": "2024-05-22T14:34:43.915303Z",
     "iopub.status.idle": "2024-05-22T14:34:43.931445Z",
     "shell.execute_reply": "2024-05-22T14:34:43.930187Z"
    },
    "id": "ec9a0e9f",
    "outputId": "5473a955-8530-4319-c4de-e2ffc13aea5e",
    "papermill": {
     "duration": 0.03273,
     "end_time": "2024-05-22T14:34:43.934381",
     "exception": false,
     "start_time": "2024-05-22T14:34:43.901651",
     "status": "completed"
    },
    "tags": []
   },
   "outputs": [
    {
     "data": {
      "text/html": [
       "<div>\n",
       "<style scoped>\n",
       "    .dataframe tbody tr th:only-of-type {\n",
       "        vertical-align: middle;\n",
       "    }\n",
       "\n",
       "    .dataframe tbody tr th {\n",
       "        vertical-align: top;\n",
       "    }\n",
       "\n",
       "    .dataframe thead th {\n",
       "        text-align: right;\n",
       "    }\n",
       "</style>\n",
       "<table border=\"1\" class=\"dataframe\">\n",
       "  <thead>\n",
       "    <tr style=\"text-align: right;\">\n",
       "      <th></th>\n",
       "      <th>period</th>\n",
       "      <th>operating_airline</th>\n",
       "      <th>published_airline</th>\n",
       "      <th>geo_summary</th>\n",
       "      <th>geo_region</th>\n",
       "      <th>activity_type</th>\n",
       "      <th>cargo_type</th>\n",
       "      <th>aircraft_type</th>\n",
       "      <th>lbs</th>\n",
       "    </tr>\n",
       "  </thead>\n",
       "  <tbody>\n",
       "    <tr>\n",
       "      <th>0</th>\n",
       "      <td>1999-07</td>\n",
       "      <td>ATA Airlines</td>\n",
       "      <td>ATA Airlines</td>\n",
       "      <td>Domestic</td>\n",
       "      <td>US</td>\n",
       "      <td>Deplaned</td>\n",
       "      <td>Cargo</td>\n",
       "      <td>Passenger</td>\n",
       "      <td>349048</td>\n",
       "    </tr>\n",
       "    <tr>\n",
       "      <th>1</th>\n",
       "      <td>1999-07</td>\n",
       "      <td>ATA Airlines</td>\n",
       "      <td>ATA Airlines</td>\n",
       "      <td>Domestic</td>\n",
       "      <td>US</td>\n",
       "      <td>Deplaned</td>\n",
       "      <td>Mail</td>\n",
       "      <td>Passenger</td>\n",
       "      <td>122003</td>\n",
       "    </tr>\n",
       "    <tr>\n",
       "      <th>2</th>\n",
       "      <td>1999-07</td>\n",
       "      <td>ATA Airlines</td>\n",
       "      <td>ATA Airlines</td>\n",
       "      <td>Domestic</td>\n",
       "      <td>US</td>\n",
       "      <td>Enplaned</td>\n",
       "      <td>Cargo</td>\n",
       "      <td>Passenger</td>\n",
       "      <td>514450</td>\n",
       "    </tr>\n",
       "    <tr>\n",
       "      <th>3</th>\n",
       "      <td>1999-07</td>\n",
       "      <td>ATA Airlines</td>\n",
       "      <td>ATA Airlines</td>\n",
       "      <td>Domestic</td>\n",
       "      <td>US</td>\n",
       "      <td>Enplaned</td>\n",
       "      <td>Mail</td>\n",
       "      <td>Passenger</td>\n",
       "      <td>89776</td>\n",
       "    </tr>\n",
       "    <tr>\n",
       "      <th>4</th>\n",
       "      <td>1999-07</td>\n",
       "      <td>Aeroflot Russian International Airlines</td>\n",
       "      <td>Aeroflot Russian International Airlines</td>\n",
       "      <td>International</td>\n",
       "      <td>Europe</td>\n",
       "      <td>Deplaned</td>\n",
       "      <td>Cargo</td>\n",
       "      <td>Passenger</td>\n",
       "      <td>13086</td>\n",
       "    </tr>\n",
       "    <tr>\n",
       "      <th>...</th>\n",
       "      <td>...</td>\n",
       "      <td>...</td>\n",
       "      <td>...</td>\n",
       "      <td>...</td>\n",
       "      <td>...</td>\n",
       "      <td>...</td>\n",
       "      <td>...</td>\n",
       "      <td>...</td>\n",
       "      <td>...</td>\n",
       "    </tr>\n",
       "    <tr>\n",
       "      <th>55033</th>\n",
       "      <td>2024-04</td>\n",
       "      <td>Vietnam Airlines JSC</td>\n",
       "      <td>Vietnam Airlines JSC</td>\n",
       "      <td>International</td>\n",
       "      <td>Asia</td>\n",
       "      <td>Enplaned</td>\n",
       "      <td>Cargo</td>\n",
       "      <td>Passenger</td>\n",
       "      <td>19323</td>\n",
       "    </tr>\n",
       "    <tr>\n",
       "      <th>55034</th>\n",
       "      <td>2024-04</td>\n",
       "      <td>Virgin Atlantic</td>\n",
       "      <td>Virgin Atlantic</td>\n",
       "      <td>International</td>\n",
       "      <td>Europe</td>\n",
       "      <td>Deplaned</td>\n",
       "      <td>Cargo</td>\n",
       "      <td>Passenger</td>\n",
       "      <td>414753</td>\n",
       "    </tr>\n",
       "    <tr>\n",
       "      <th>55035</th>\n",
       "      <td>2024-04</td>\n",
       "      <td>Virgin Atlantic</td>\n",
       "      <td>Virgin Atlantic</td>\n",
       "      <td>International</td>\n",
       "      <td>Europe</td>\n",
       "      <td>Enplaned</td>\n",
       "      <td>Cargo</td>\n",
       "      <td>Passenger</td>\n",
       "      <td>174269</td>\n",
       "    </tr>\n",
       "    <tr>\n",
       "      <th>55036</th>\n",
       "      <td>2024-04</td>\n",
       "      <td>ZIPAIR Tokyo Inc</td>\n",
       "      <td>ZIPAIR Tokyo Inc</td>\n",
       "      <td>International</td>\n",
       "      <td>Asia</td>\n",
       "      <td>Deplaned</td>\n",
       "      <td>Cargo</td>\n",
       "      <td>Passenger</td>\n",
       "      <td>845137</td>\n",
       "    </tr>\n",
       "    <tr>\n",
       "      <th>55037</th>\n",
       "      <td>2024-04</td>\n",
       "      <td>ZIPAIR Tokyo Inc</td>\n",
       "      <td>ZIPAIR Tokyo Inc</td>\n",
       "      <td>International</td>\n",
       "      <td>Asia</td>\n",
       "      <td>Enplaned</td>\n",
       "      <td>Cargo</td>\n",
       "      <td>Passenger</td>\n",
       "      <td>143802</td>\n",
       "    </tr>\n",
       "  </tbody>\n",
       "</table>\n",
       "<p>55038 rows × 9 columns</p>\n",
       "</div>"
      ],
      "text/plain": [
       "        period                        operating_airline  \\\n",
       "0      1999-07                             ATA Airlines   \n",
       "1      1999-07                             ATA Airlines   \n",
       "2      1999-07                             ATA Airlines   \n",
       "3      1999-07                             ATA Airlines   \n",
       "4      1999-07  Aeroflot Russian International Airlines   \n",
       "...        ...                                      ...   \n",
       "55033  2024-04                     Vietnam Airlines JSC   \n",
       "55034  2024-04                          Virgin Atlantic   \n",
       "55035  2024-04                          Virgin Atlantic   \n",
       "55036  2024-04                         ZIPAIR Tokyo Inc   \n",
       "55037  2024-04                         ZIPAIR Tokyo Inc   \n",
       "\n",
       "                             published_airline    geo_summary geo_region  \\\n",
       "0                                 ATA Airlines       Domestic         US   \n",
       "1                                 ATA Airlines       Domestic         US   \n",
       "2                                 ATA Airlines       Domestic         US   \n",
       "3                                 ATA Airlines       Domestic         US   \n",
       "4      Aeroflot Russian International Airlines  International     Europe   \n",
       "...                                        ...            ...        ...   \n",
       "55033                     Vietnam Airlines JSC  International       Asia   \n",
       "55034                          Virgin Atlantic  International     Europe   \n",
       "55035                          Virgin Atlantic  International     Europe   \n",
       "55036                         ZIPAIR Tokyo Inc  International       Asia   \n",
       "55037                         ZIPAIR Tokyo Inc  International       Asia   \n",
       "\n",
       "      activity_type cargo_type aircraft_type     lbs  \n",
       "0          Deplaned      Cargo     Passenger  349048  \n",
       "1          Deplaned       Mail     Passenger  122003  \n",
       "2          Enplaned      Cargo     Passenger  514450  \n",
       "3          Enplaned       Mail     Passenger   89776  \n",
       "4          Deplaned      Cargo     Passenger   13086  \n",
       "...             ...        ...           ...     ...  \n",
       "55033      Enplaned      Cargo     Passenger   19323  \n",
       "55034      Deplaned      Cargo     Passenger  414753  \n",
       "55035      Enplaned      Cargo     Passenger  174269  \n",
       "55036      Deplaned      Cargo     Passenger  845137  \n",
       "55037      Enplaned      Cargo     Passenger  143802  \n",
       "\n",
       "[55038 rows x 9 columns]"
      ]
     },
     "execution_count": 8,
     "metadata": {},
     "output_type": "execute_result"
    }
   ],
   "source": [
    "#Always run this cell one time, cant do it twice\n",
    "selected_df['period'] = selected_df['period'].dt.to_period('M')\n",
    "selected_df"
   ]
  },
  {
   "cell_type": "code",
   "execution_count": 9,
   "id": "5ed35f59",
   "metadata": {
    "colab": {
     "base_uri": "https://localhost:8080/"
    },
    "execution": {
     "iopub.execute_input": "2024-05-22T14:34:44.010669Z",
     "iopub.status.busy": "2024-05-22T14:34:44.010160Z",
     "iopub.status.idle": "2024-05-22T14:34:44.031316Z",
     "shell.execute_reply": "2024-05-22T14:34:44.029991Z"
    },
    "id": "5ed35f59",
    "outputId": "0588c862-0964-4351-db3a-3982114a7540",
    "papermill": {
     "duration": 0.037229,
     "end_time": "2024-05-22T14:34:44.034220",
     "exception": false,
     "start_time": "2024-05-22T14:34:43.996991",
     "status": "completed"
    },
    "tags": []
   },
   "outputs": [
    {
     "data": {
      "text/plain": [
       "operating_airline\n",
       "21 Air, LLC             28\n",
       "ABX Air                346\n",
       "ASTAR USA, LLC          16\n",
       "ATA Airlines           324\n",
       "Active Aero Charter      2\n",
       "                      ... \n",
       "Virgin America           5\n",
       "Virgin Atlantic        718\n",
       "WOW Air                 55\n",
       "World Airways           36\n",
       "ZIPAIR Tokyo Inc        17\n",
       "Name: count, Length: 132, dtype: int64"
      ]
     },
     "execution_count": 9,
     "metadata": {},
     "output_type": "execute_result"
    }
   ],
   "source": [
    "selected_df['operating_airline'].value_counts().sort_index()"
   ]
  },
  {
   "cell_type": "code",
   "execution_count": 10,
   "id": "1143b114",
   "metadata": {
    "colab": {
     "base_uri": "https://localhost:8080/"
    },
    "execution": {
     "iopub.execute_input": "2024-05-22T14:34:44.059459Z",
     "iopub.status.busy": "2024-05-22T14:34:44.059011Z",
     "iopub.status.idle": "2024-05-22T14:34:44.108309Z",
     "shell.execute_reply": "2024-05-22T14:34:44.107001Z"
    },
    "id": "1143b114",
    "outputId": "58275606-7bb5-4ee3-eaa5-ab0c1947c774",
    "papermill": {
     "duration": 0.065246,
     "end_time": "2024-05-22T14:34:44.111000",
     "exception": false,
     "start_time": "2024-05-22T14:34:44.045754",
     "status": "completed"
    },
    "tags": []
   },
   "outputs": [
    {
     "data": {
      "text/plain": [
       "Index(['All Nippon Company Airways, Ltd.', 'TACA International Airlines, S.A.',\n",
       "       'Aer Lingus, Ltd.', 'Atlas Air, Inc', 'COPA Airlines, Inc.',\n",
       "       'Air Transport International, Inc.', 'Atlas Air, Inc. (inactive)',\n",
       "       'China Eastern Airlines, Inc', 'Emery Worldwide Airlines, Inc.',\n",
       "       '21 Air, LLC', 'ASTAR USA, LLC', 'Air Transport International, LLC.',\n",
       "       'Total Airport Services, Inc. (Inactive)', 'Norse Atlantic UK, Ltd.',\n",
       "       'Envoy Air, Inc.'],\n",
       "      dtype='object', name='operating_airline')"
      ]
     },
     "execution_count": 10,
     "metadata": {},
     "output_type": "execute_result"
    }
   ],
   "source": [
    "#see all airline names contain (,)\n",
    "selected_df['operating_airline'].loc[selected_df['operating_airline'].str.contains(',')].value_counts().index"
   ]
  },
  {
   "cell_type": "code",
   "execution_count": 11,
   "id": "2225ec85",
   "metadata": {
    "colab": {
     "base_uri": "https://localhost:8080/"
    },
    "execution": {
     "iopub.execute_input": "2024-05-22T14:34:44.138051Z",
     "iopub.status.busy": "2024-05-22T14:34:44.137557Z",
     "iopub.status.idle": "2024-05-22T14:34:46.549204Z",
     "shell.execute_reply": "2024-05-22T14:34:46.547930Z"
    },
    "id": "2225ec85",
    "outputId": "8f4e6a17-be4a-4696-f54f-f7beb94237c4",
    "papermill": {
     "duration": 2.428481,
     "end_time": "2024-05-22T14:34:46.551771",
     "exception": false,
     "start_time": "2024-05-22T14:34:44.123290",
     "status": "completed"
    },
    "tags": []
   },
   "outputs": [
    {
     "data": {
      "text/plain": [
       "operating_airline\n",
       "21 Air                  28\n",
       "ABX Air                346\n",
       "ASTAR USA               16\n",
       "ATA Airlines           324\n",
       "Active Aero Charter      2\n",
       "                      ... \n",
       "Virgin America           5\n",
       "Virgin Atlantic        718\n",
       "WOW Air                 55\n",
       "World Airways           36\n",
       "ZIPAIR Tokyo            17\n",
       "Name: count, Length: 128, dtype: int64"
      ]
     },
     "execution_count": 11,
     "metadata": {},
     "output_type": "execute_result"
    }
   ],
   "source": [
    "#remove extension from airlines name\n",
    "def airline_name_cleaner(selected_df):\n",
    "    selected_df = selected_df.replace(r'\\bInc\\b|\\bLLC\\b|\\bLimited\\b|\\bLtd\\b|\\binactive\\b|\\bPre 07/01/2013\\b|\\bbecame Delta\\b|\\bLTD\\b|\\bGmbH\\b|\\bEHF\\b|\\bASA\\b|\\bCO\\b|\\bJSC\\b|\\bSPA\\b|\\bSA\\b', '',regex=True).copy()\n",
    "    selected_df = selected_df.replace(r'\\([^)]*\\)|[-,.]', '', regex=True)\n",
    "    selected_df = selected_df.map(lambda x: x.strip() if isinstance(x, str) else x) #remove all white space\n",
    "    return selected_df\n",
    "\n",
    "selected_df = airline_name_cleaner(selected_df)\n",
    "selected_df['operating_airline'].value_counts().sort_index()"
   ]
  },
  {
   "cell_type": "code",
   "execution_count": 12,
   "id": "8c97ac23",
   "metadata": {
    "colab": {
     "base_uri": "https://localhost:8080/",
     "height": 441
    },
    "execution": {
     "iopub.execute_input": "2024-05-22T14:34:46.577416Z",
     "iopub.status.busy": "2024-05-22T14:34:46.577023Z",
     "iopub.status.idle": "2024-05-22T14:34:46.600411Z",
     "shell.execute_reply": "2024-05-22T14:34:46.599166Z"
    },
    "id": "8c97ac23",
    "outputId": "8ede7135-a17b-4863-9b14-e3ed9fa369ad",
    "papermill": {
     "duration": 0.039366,
     "end_time": "2024-05-22T14:34:46.603184",
     "exception": false,
     "start_time": "2024-05-22T14:34:46.563818",
     "status": "completed"
    },
    "tags": []
   },
   "outputs": [
    {
     "data": {
      "text/plain": [
       "operating_airline\n",
       "21 Air                  28\n",
       "ABX Air                346\n",
       "ASTAR USA               16\n",
       "ATA Airlines           324\n",
       "Active Aero Charter      2\n",
       "                      ... \n",
       "Virgin America           5\n",
       "Virgin Atlantic        718\n",
       "WOW Air                 55\n",
       "World Airways           36\n",
       "ZIPAIR Tokyo            17\n",
       "Name: count, Length: 128, dtype: int64"
      ]
     },
     "execution_count": 12,
     "metadata": {},
     "output_type": "execute_result"
    }
   ],
   "source": [
    "selected_df['operating_airline'].value_counts().sort_index()"
   ]
  },
  {
   "cell_type": "code",
   "execution_count": 13,
   "id": "b5c23f0e",
   "metadata": {
    "colab": {
     "base_uri": "https://localhost:8080/",
     "height": 300
    },
    "execution": {
     "iopub.execute_input": "2024-05-22T14:34:46.629848Z",
     "iopub.status.busy": "2024-05-22T14:34:46.629448Z",
     "iopub.status.idle": "2024-05-22T14:34:46.657044Z",
     "shell.execute_reply": "2024-05-22T14:34:46.655766Z"
    },
    "id": "b5c23f0e",
    "outputId": "a9bae415-48c5-44cc-b33c-a7bf9932672a",
    "papermill": {
     "duration": 0.044017,
     "end_time": "2024-05-22T14:34:46.659601",
     "exception": false,
     "start_time": "2024-05-22T14:34:46.615584",
     "status": "completed"
    },
    "tags": []
   },
   "outputs": [
    {
     "data": {
      "text/html": [
       "<div>\n",
       "<style scoped>\n",
       "    .dataframe tbody tr th:only-of-type {\n",
       "        vertical-align: middle;\n",
       "    }\n",
       "\n",
       "    .dataframe tbody tr th {\n",
       "        vertical-align: top;\n",
       "    }\n",
       "\n",
       "    .dataframe thead th {\n",
       "        text-align: right;\n",
       "    }\n",
       "</style>\n",
       "<table border=\"1\" class=\"dataframe\">\n",
       "  <thead>\n",
       "    <tr style=\"text-align: right;\">\n",
       "      <th></th>\n",
       "      <th>lbs</th>\n",
       "    </tr>\n",
       "  </thead>\n",
       "  <tbody>\n",
       "    <tr>\n",
       "      <th>count</th>\n",
       "      <td>5.503800e+04</td>\n",
       "    </tr>\n",
       "    <tr>\n",
       "      <th>mean</th>\n",
       "      <td>5.204636e+05</td>\n",
       "    </tr>\n",
       "    <tr>\n",
       "      <th>std</th>\n",
       "      <td>1.023128e+06</td>\n",
       "    </tr>\n",
       "    <tr>\n",
       "      <th>min</th>\n",
       "      <td>1.000000e+00</td>\n",
       "    </tr>\n",
       "    <tr>\n",
       "      <th>25%</th>\n",
       "      <td>1.936650e+04</td>\n",
       "    </tr>\n",
       "    <tr>\n",
       "      <th>50%</th>\n",
       "      <td>1.442165e+05</td>\n",
       "    </tr>\n",
       "    <tr>\n",
       "      <th>75%</th>\n",
       "      <td>5.915170e+05</td>\n",
       "    </tr>\n",
       "    <tr>\n",
       "      <th>max</th>\n",
       "      <td>2.381234e+07</td>\n",
       "    </tr>\n",
       "  </tbody>\n",
       "</table>\n",
       "</div>"
      ],
      "text/plain": [
       "                lbs\n",
       "count  5.503800e+04\n",
       "mean   5.204636e+05\n",
       "std    1.023128e+06\n",
       "min    1.000000e+00\n",
       "25%    1.936650e+04\n",
       "50%    1.442165e+05\n",
       "75%    5.915170e+05\n",
       "max    2.381234e+07"
      ]
     },
     "execution_count": 13,
     "metadata": {},
     "output_type": "execute_result"
    }
   ],
   "source": [
    "selected_df.describe()"
   ]
  },
  {
   "cell_type": "code",
   "execution_count": 14,
   "id": "92660767",
   "metadata": {
    "colab": {
     "base_uri": "https://localhost:8080/",
     "height": 175
    },
    "execution": {
     "iopub.execute_input": "2024-05-22T14:34:46.686093Z",
     "iopub.status.busy": "2024-05-22T14:34:46.685614Z",
     "iopub.status.idle": "2024-05-22T14:34:46.807077Z",
     "shell.execute_reply": "2024-05-22T14:34:46.805949Z"
    },
    "id": "92660767",
    "outputId": "2e582a8a-8ef9-45db-a132-4692b12ee556",
    "papermill": {
     "duration": 0.137872,
     "end_time": "2024-05-22T14:34:46.809740",
     "exception": false,
     "start_time": "2024-05-22T14:34:46.671868",
     "status": "completed"
    },
    "tags": []
   },
   "outputs": [
    {
     "data": {
      "text/html": [
       "<div>\n",
       "<style scoped>\n",
       "    .dataframe tbody tr th:only-of-type {\n",
       "        vertical-align: middle;\n",
       "    }\n",
       "\n",
       "    .dataframe tbody tr th {\n",
       "        vertical-align: top;\n",
       "    }\n",
       "\n",
       "    .dataframe thead th {\n",
       "        text-align: right;\n",
       "    }\n",
       "</style>\n",
       "<table border=\"1\" class=\"dataframe\">\n",
       "  <thead>\n",
       "    <tr style=\"text-align: right;\">\n",
       "      <th></th>\n",
       "      <th>operating_airline</th>\n",
       "      <th>published_airline</th>\n",
       "      <th>geo_summary</th>\n",
       "      <th>geo_region</th>\n",
       "      <th>activity_type</th>\n",
       "      <th>cargo_type</th>\n",
       "      <th>aircraft_type</th>\n",
       "    </tr>\n",
       "  </thead>\n",
       "  <tbody>\n",
       "    <tr>\n",
       "      <th>count</th>\n",
       "      <td>55038</td>\n",
       "      <td>55038</td>\n",
       "      <td>55038</td>\n",
       "      <td>55038</td>\n",
       "      <td>55038</td>\n",
       "      <td>55038</td>\n",
       "      <td>55038</td>\n",
       "    </tr>\n",
       "    <tr>\n",
       "      <th>unique</th>\n",
       "      <td>128</td>\n",
       "      <td>116</td>\n",
       "      <td>2</td>\n",
       "      <td>9</td>\n",
       "      <td>2</td>\n",
       "      <td>3</td>\n",
       "      <td>3</td>\n",
       "    </tr>\n",
       "    <tr>\n",
       "      <th>top</th>\n",
       "      <td>United Airlines</td>\n",
       "      <td>United Airlines</td>\n",
       "      <td>International</td>\n",
       "      <td>Asia</td>\n",
       "      <td>Deplaned</td>\n",
       "      <td>Cargo</td>\n",
       "      <td>Passenger</td>\n",
       "    </tr>\n",
       "    <tr>\n",
       "      <th>freq</th>\n",
       "      <td>9455</td>\n",
       "      <td>9476</td>\n",
       "      <td>38475</td>\n",
       "      <td>19314</td>\n",
       "      <td>28117</td>\n",
       "      <td>30675</td>\n",
       "      <td>45285</td>\n",
       "    </tr>\n",
       "  </tbody>\n",
       "</table>\n",
       "</div>"
      ],
      "text/plain": [
       "       operating_airline published_airline    geo_summary geo_region  \\\n",
       "count              55038             55038          55038      55038   \n",
       "unique               128               116              2          9   \n",
       "top      United Airlines   United Airlines  International       Asia   \n",
       "freq                9455              9476          38475      19314   \n",
       "\n",
       "       activity_type cargo_type aircraft_type  \n",
       "count          55038      55038         55038  \n",
       "unique             2          3             3  \n",
       "top         Deplaned      Cargo     Passenger  \n",
       "freq           28117      30675         45285  "
      ]
     },
     "execution_count": 14,
     "metadata": {},
     "output_type": "execute_result"
    }
   ],
   "source": [
    "selected_df.describe(include='object')"
   ]
  },
  {
   "cell_type": "code",
   "execution_count": 15,
   "metadata": {},
   "outputs": [],
   "source": [
    "selected_df['period'] = selected_df['period'].dt.to_timestamp()"
   ]
  },
  {
   "cell_type": "markdown",
   "id": "d106ae95",
   "metadata": {},
   "source": [
    "## Exploratory Data Analysis (EDA)"
   ]
  },
  {
   "cell_type": "markdown",
   "id": "f44be4a6",
   "metadata": {
    "id": "f44be4a6",
    "papermill": {
     "duration": 0.012262,
     "end_time": "2024-05-22T14:34:46.859793",
     "exception": false,
     "start_time": "2024-05-22T14:34:46.847531",
     "status": "completed"
    },
    "tags": []
   },
   "source": [
    "**Problem Case**\n",
    "1. Between 1999 to 2024, which airline get increased air traffic cargo? Which get less air traffic cargo?\n",
    "2. Is there any distinct characteristics between domestic and international flight?\n",
    "3. What aircraft type often fly internationally?\n",
    "4. Describe the cargo weight variable and its influence across the data"
   ]
  },
  {
   "cell_type": "code",
   "execution_count": 16,
   "id": "d9656aa3",
   "metadata": {},
   "outputs": [
    {
     "data": {
      "text/html": [
       "<div>\n",
       "<style scoped>\n",
       "    .dataframe tbody tr th:only-of-type {\n",
       "        vertical-align: middle;\n",
       "    }\n",
       "\n",
       "    .dataframe tbody tr th {\n",
       "        vertical-align: top;\n",
       "    }\n",
       "\n",
       "    .dataframe thead th {\n",
       "        text-align: right;\n",
       "    }\n",
       "</style>\n",
       "<table border=\"1\" class=\"dataframe\">\n",
       "  <thead>\n",
       "    <tr style=\"text-align: right;\">\n",
       "      <th></th>\n",
       "      <th>period</th>\n",
       "      <th>operating_airline</th>\n",
       "      <th>published_airline</th>\n",
       "      <th>geo_summary</th>\n",
       "      <th>geo_region</th>\n",
       "      <th>activity_type</th>\n",
       "      <th>cargo_type</th>\n",
       "      <th>aircraft_type</th>\n",
       "      <th>lbs</th>\n",
       "      <th>year</th>\n",
       "      <th>month</th>\n",
       "    </tr>\n",
       "  </thead>\n",
       "  <tbody>\n",
       "    <tr>\n",
       "      <th>0</th>\n",
       "      <td>1999-07-01</td>\n",
       "      <td>ATA Airlines</td>\n",
       "      <td>ATA Airlines</td>\n",
       "      <td>Domestic</td>\n",
       "      <td>US</td>\n",
       "      <td>Deplaned</td>\n",
       "      <td>Cargo</td>\n",
       "      <td>Passenger</td>\n",
       "      <td>349048</td>\n",
       "      <td>1999</td>\n",
       "      <td>7</td>\n",
       "    </tr>\n",
       "    <tr>\n",
       "      <th>1</th>\n",
       "      <td>1999-07-01</td>\n",
       "      <td>ATA Airlines</td>\n",
       "      <td>ATA Airlines</td>\n",
       "      <td>Domestic</td>\n",
       "      <td>US</td>\n",
       "      <td>Deplaned</td>\n",
       "      <td>Mail</td>\n",
       "      <td>Passenger</td>\n",
       "      <td>122003</td>\n",
       "      <td>1999</td>\n",
       "      <td>7</td>\n",
       "    </tr>\n",
       "    <tr>\n",
       "      <th>2</th>\n",
       "      <td>1999-07-01</td>\n",
       "      <td>ATA Airlines</td>\n",
       "      <td>ATA Airlines</td>\n",
       "      <td>Domestic</td>\n",
       "      <td>US</td>\n",
       "      <td>Enplaned</td>\n",
       "      <td>Cargo</td>\n",
       "      <td>Passenger</td>\n",
       "      <td>514450</td>\n",
       "      <td>1999</td>\n",
       "      <td>7</td>\n",
       "    </tr>\n",
       "    <tr>\n",
       "      <th>3</th>\n",
       "      <td>1999-07-01</td>\n",
       "      <td>ATA Airlines</td>\n",
       "      <td>ATA Airlines</td>\n",
       "      <td>Domestic</td>\n",
       "      <td>US</td>\n",
       "      <td>Enplaned</td>\n",
       "      <td>Mail</td>\n",
       "      <td>Passenger</td>\n",
       "      <td>89776</td>\n",
       "      <td>1999</td>\n",
       "      <td>7</td>\n",
       "    </tr>\n",
       "    <tr>\n",
       "      <th>4</th>\n",
       "      <td>1999-07-01</td>\n",
       "      <td>Aeroflot Russian International Airlines</td>\n",
       "      <td>Aeroflot Russian International Airlines</td>\n",
       "      <td>International</td>\n",
       "      <td>Europe</td>\n",
       "      <td>Deplaned</td>\n",
       "      <td>Cargo</td>\n",
       "      <td>Passenger</td>\n",
       "      <td>13086</td>\n",
       "      <td>1999</td>\n",
       "      <td>7</td>\n",
       "    </tr>\n",
       "    <tr>\n",
       "      <th>...</th>\n",
       "      <td>...</td>\n",
       "      <td>...</td>\n",
       "      <td>...</td>\n",
       "      <td>...</td>\n",
       "      <td>...</td>\n",
       "      <td>...</td>\n",
       "      <td>...</td>\n",
       "      <td>...</td>\n",
       "      <td>...</td>\n",
       "      <td>...</td>\n",
       "      <td>...</td>\n",
       "    </tr>\n",
       "    <tr>\n",
       "      <th>55033</th>\n",
       "      <td>2024-04-01</td>\n",
       "      <td>Vietnam Airlines</td>\n",
       "      <td>Vietnam Airlines</td>\n",
       "      <td>International</td>\n",
       "      <td>Asia</td>\n",
       "      <td>Enplaned</td>\n",
       "      <td>Cargo</td>\n",
       "      <td>Passenger</td>\n",
       "      <td>19323</td>\n",
       "      <td>2024</td>\n",
       "      <td>4</td>\n",
       "    </tr>\n",
       "    <tr>\n",
       "      <th>55034</th>\n",
       "      <td>2024-04-01</td>\n",
       "      <td>Virgin Atlantic</td>\n",
       "      <td>Virgin Atlantic</td>\n",
       "      <td>International</td>\n",
       "      <td>Europe</td>\n",
       "      <td>Deplaned</td>\n",
       "      <td>Cargo</td>\n",
       "      <td>Passenger</td>\n",
       "      <td>414753</td>\n",
       "      <td>2024</td>\n",
       "      <td>4</td>\n",
       "    </tr>\n",
       "    <tr>\n",
       "      <th>55035</th>\n",
       "      <td>2024-04-01</td>\n",
       "      <td>Virgin Atlantic</td>\n",
       "      <td>Virgin Atlantic</td>\n",
       "      <td>International</td>\n",
       "      <td>Europe</td>\n",
       "      <td>Enplaned</td>\n",
       "      <td>Cargo</td>\n",
       "      <td>Passenger</td>\n",
       "      <td>174269</td>\n",
       "      <td>2024</td>\n",
       "      <td>4</td>\n",
       "    </tr>\n",
       "    <tr>\n",
       "      <th>55036</th>\n",
       "      <td>2024-04-01</td>\n",
       "      <td>ZIPAIR Tokyo</td>\n",
       "      <td>ZIPAIR Tokyo</td>\n",
       "      <td>International</td>\n",
       "      <td>Asia</td>\n",
       "      <td>Deplaned</td>\n",
       "      <td>Cargo</td>\n",
       "      <td>Passenger</td>\n",
       "      <td>845137</td>\n",
       "      <td>2024</td>\n",
       "      <td>4</td>\n",
       "    </tr>\n",
       "    <tr>\n",
       "      <th>55037</th>\n",
       "      <td>2024-04-01</td>\n",
       "      <td>ZIPAIR Tokyo</td>\n",
       "      <td>ZIPAIR Tokyo</td>\n",
       "      <td>International</td>\n",
       "      <td>Asia</td>\n",
       "      <td>Enplaned</td>\n",
       "      <td>Cargo</td>\n",
       "      <td>Passenger</td>\n",
       "      <td>143802</td>\n",
       "      <td>2024</td>\n",
       "      <td>4</td>\n",
       "    </tr>\n",
       "  </tbody>\n",
       "</table>\n",
       "<p>55038 rows × 11 columns</p>\n",
       "</div>"
      ],
      "text/plain": [
       "          period                        operating_airline  \\\n",
       "0     1999-07-01                             ATA Airlines   \n",
       "1     1999-07-01                             ATA Airlines   \n",
       "2     1999-07-01                             ATA Airlines   \n",
       "3     1999-07-01                             ATA Airlines   \n",
       "4     1999-07-01  Aeroflot Russian International Airlines   \n",
       "...          ...                                      ...   \n",
       "55033 2024-04-01                         Vietnam Airlines   \n",
       "55034 2024-04-01                          Virgin Atlantic   \n",
       "55035 2024-04-01                          Virgin Atlantic   \n",
       "55036 2024-04-01                             ZIPAIR Tokyo   \n",
       "55037 2024-04-01                             ZIPAIR Tokyo   \n",
       "\n",
       "                             published_airline    geo_summary geo_region  \\\n",
       "0                                 ATA Airlines       Domestic         US   \n",
       "1                                 ATA Airlines       Domestic         US   \n",
       "2                                 ATA Airlines       Domestic         US   \n",
       "3                                 ATA Airlines       Domestic         US   \n",
       "4      Aeroflot Russian International Airlines  International     Europe   \n",
       "...                                        ...            ...        ...   \n",
       "55033                         Vietnam Airlines  International       Asia   \n",
       "55034                          Virgin Atlantic  International     Europe   \n",
       "55035                          Virgin Atlantic  International     Europe   \n",
       "55036                             ZIPAIR Tokyo  International       Asia   \n",
       "55037                             ZIPAIR Tokyo  International       Asia   \n",
       "\n",
       "      activity_type cargo_type aircraft_type     lbs  year  month  \n",
       "0          Deplaned      Cargo     Passenger  349048  1999      7  \n",
       "1          Deplaned       Mail     Passenger  122003  1999      7  \n",
       "2          Enplaned      Cargo     Passenger  514450  1999      7  \n",
       "3          Enplaned       Mail     Passenger   89776  1999      7  \n",
       "4          Deplaned      Cargo     Passenger   13086  1999      7  \n",
       "...             ...        ...           ...     ...   ...    ...  \n",
       "55033      Enplaned      Cargo     Passenger   19323  2024      4  \n",
       "55034      Deplaned      Cargo     Passenger  414753  2024      4  \n",
       "55035      Enplaned      Cargo     Passenger  174269  2024      4  \n",
       "55036      Deplaned      Cargo     Passenger  845137  2024      4  \n",
       "55037      Enplaned      Cargo     Passenger  143802  2024      4  \n",
       "\n",
       "[55038 rows x 11 columns]"
      ]
     },
     "execution_count": 16,
     "metadata": {},
     "output_type": "execute_result"
    }
   ],
   "source": [
    "selected_df['year'] = selected_df.period.dt.year\n",
    "selected_df['month'] = selected_df.period.dt.month\n",
    "selected_df"
   ]
  },
  {
   "cell_type": "markdown",
   "id": "a674e507",
   "metadata": {},
   "source": [
    "### Case 1"
   ]
  },
  {
   "cell_type": "code",
   "execution_count": null,
   "id": "44e87d68",
   "metadata": {},
   "outputs": [],
   "source": [
    "# Case 1 \n",
    "## operation_check = selected_df.groupby([selected_df.period.dt.year, 'operating_airline'])['lbs'].sum()\n",
    "pivot_data = selected_df.pivot_table(index='operating_airline', \n",
    "                        columns='year',\n",
    "                        values='lbs',   \n",
    "                        aggfunc='sum')\n",
    "pivot_data = pivot_data.reset_index()\n"
   ]
  },
  {
   "cell_type": "code",
   "execution_count": 45,
   "id": "b7718ec5",
   "metadata": {},
   "outputs": [],
   "source": [
    "pivot_data = pivot_data[pivot_data.notna().all(axis=1)]"
   ]
  },
  {
   "cell_type": "code",
   "execution_count": 44,
   "id": "bb73ac5d",
   "metadata": {},
   "outputs": [
    {
     "data": {
      "application/vnd.plotly.v1+json": {
       "config": {
        "plotlyServerURL": "https://plot.ly"
       },
       "data": [
        {
         "hovertemplate": "operating_airline=ATA Airlines<br>period=%{x}<br>lbs=%{y}<extra></extra>",
         "legendgroup": "ATA Airlines",
         "line": {
          "color": "#636efa",
          "dash": "solid"
         },
         "marker": {
          "symbol": "circle"
         },
         "mode": "lines+markers",
         "name": "ATA Airlines",
         "showlegend": true,
         "type": "scattergl",
         "x": [
          1999,
          2000,
          2001,
          2002,
          2003,
          2004,
          2005,
          2006
         ],
         "xaxis": "x",
         "y": [
          4297224,
          8295468,
          5165068,
          2516277,
          6900334,
          8021940,
          6173456,
          1180895
         ],
         "yaxis": "y"
        },
        {
         "hovertemplate": "operating_airline=Aeroflot Russian International Airlines<br>period=%{x}<br>lbs=%{y}<extra></extra>",
         "legendgroup": "Aeroflot Russian International Airlines",
         "line": {
          "color": "#EF553B",
          "dash": "solid"
         },
         "marker": {
          "symbol": "circle"
         },
         "mode": "lines+markers",
         "name": "Aeroflot Russian International Airlines",
         "showlegend": true,
         "type": "scattergl",
         "x": [
          1999,
          2000,
          2001,
          2002,
          2003,
          2004
         ],
         "xaxis": "x",
         "y": [
          109734,
          457415,
          454197,
          1006984,
          758550,
          418674
         ],
         "yaxis": "y"
        },
        {
         "hovertemplate": "operating_airline=Air Canada<br>period=%{x}<br>lbs=%{y}<extra></extra>",
         "legendgroup": "Air Canada",
         "line": {
          "color": "#00cc96",
          "dash": "solid"
         },
         "marker": {
          "symbol": "circle"
         },
         "mode": "lines+markers",
         "name": "Air Canada",
         "showlegend": true,
         "type": "scattergl",
         "x": [
          1999,
          2000,
          2001,
          2002,
          2003,
          2004,
          2005,
          2006,
          2007,
          2008,
          2009,
          2010,
          2011,
          2012,
          2013,
          2014,
          2015,
          2016,
          2017,
          2018,
          2019,
          2020,
          2021,
          2022,
          2023,
          2024
         ],
         "xaxis": "x",
         "y": [
          5577129,
          7919110,
          5913437,
          5127439,
          3842807,
          4348061,
          3304890,
          3867202,
          3809798,
          2387038,
          1462628,
          1515647,
          1134792,
          1129692,
          1085637,
          1189622,
          3074596,
          3403850,
          4226817,
          5887444,
          6270740,
          1620408,
          285954,
          3096467,
          4021487,
          95980
         ],
         "yaxis": "y"
        },
        {
         "hovertemplate": "operating_airline=Air China<br>period=%{x}<br>lbs=%{y}<extra></extra>",
         "legendgroup": "Air China",
         "line": {
          "color": "#ab63fa",
          "dash": "solid"
         },
         "marker": {
          "symbol": "circle"
         },
         "mode": "lines+markers",
         "name": "Air China",
         "showlegend": true,
         "type": "scattergl",
         "x": [
          1999,
          2000,
          2001,
          2002,
          2003,
          2004,
          2005,
          2006,
          2007,
          2008,
          2009,
          2010,
          2011,
          2012,
          2013,
          2014,
          2015,
          2016,
          2017,
          2018,
          2019,
          2020,
          2023,
          2024
         ],
         "xaxis": "x",
         "y": [
          6804938,
          13878263,
          14834267,
          16817215,
          14753986,
          18013674,
          15962113,
          14771051,
          20441455,
          24924917,
          19672612,
          25829427,
          23473105,
          25691506,
          18944407,
          16348045,
          13693667,
          15393691,
          15224335,
          15523894,
          18848525,
          2839985,
          759248,
          1335973
         ],
         "yaxis": "y"
        },
        {
         "hovertemplate": "operating_airline=Air France<br>period=%{x}<br>lbs=%{y}<extra></extra>",
         "legendgroup": "Air France",
         "line": {
          "color": "#FFA15A",
          "dash": "solid"
         },
         "marker": {
          "symbol": "circle"
         },
         "mode": "lines+markers",
         "name": "Air France",
         "showlegend": true,
         "type": "scattergl",
         "x": [
          1999,
          2000,
          2001,
          2002,
          2003,
          2004,
          2005,
          2006,
          2007,
          2008,
          2009,
          2010,
          2011,
          2012,
          2013,
          2014,
          2015,
          2016,
          2017,
          2018,
          2019,
          2020,
          2021,
          2022,
          2023,
          2024
         ],
         "xaxis": "x",
         "y": [
          5929778,
          13425822,
          13618652,
          10924006,
          12635718,
          13282382,
          13862913,
          12052431,
          11365577,
          10998902,
          10135708,
          12340436,
          14409106,
          13943324,
          12530959,
          10763831,
          10151468,
          11333252,
          13126045,
          12670865,
          12286271,
          6224832,
          13291781,
          13595667,
          9303431,
          2899989
         ],
         "yaxis": "y"
        },
        {
         "hovertemplate": "operating_airline=Alaska Airlines<br>period=%{x}<br>lbs=%{y}<extra></extra>",
         "legendgroup": "Alaska Airlines",
         "line": {
          "color": "#19d3f3",
          "dash": "solid"
         },
         "marker": {
          "symbol": "circle"
         },
         "mode": "lines+markers",
         "name": "Alaska Airlines",
         "showlegend": true,
         "type": "scattergl",
         "x": [
          1999,
          2000,
          2001,
          2002,
          2003,
          2004,
          2005,
          2006,
          2007,
          2008,
          2009,
          2010,
          2011,
          2012,
          2013,
          2014,
          2015,
          2016,
          2017,
          2018,
          2019,
          2020,
          2021,
          2022,
          2023,
          2024
         ],
         "xaxis": "x",
         "y": [
          5745547,
          10853240,
          9073596,
          8575252,
          8348930,
          7972117,
          7387546,
          6503133,
          7646778,
          4811255,
          4100832,
          3883869,
          4083231,
          3683022,
          4468891,
          4128211,
          4099466,
          3805577,
          3711079,
          6023577,
          8213495,
          6385698,
          6608466,
          7630287,
          6467421,
          1293519
         ],
         "yaxis": "y"
        },
        {
         "hovertemplate": "operating_airline=Alitalia Airlines<br>period=%{x}<br>lbs=%{y}<extra></extra>",
         "legendgroup": "Alitalia Airlines",
         "line": {
          "color": "#FF6692",
          "dash": "solid"
         },
         "marker": {
          "symbol": "circle"
         },
         "mode": "lines+markers",
         "name": "Alitalia Airlines",
         "showlegend": true,
         "type": "scattergl",
         "x": [
          1999,
          2000,
          2001
         ],
         "xaxis": "x",
         "y": [
          3605129,
          7007539,
          3997761
         ],
         "yaxis": "y"
        },
        {
         "hovertemplate": "operating_airline=All Nippon Company Airways<br>period=%{x}<br>lbs=%{y}<extra></extra>",
         "legendgroup": "All Nippon Company Airways",
         "line": {
          "color": "#B6E880",
          "dash": "solid"
         },
         "marker": {
          "symbol": "circle"
         },
         "mode": "lines+markers",
         "name": "All Nippon Company Airways",
         "showlegend": true,
         "type": "scattergl",
         "x": [
          1999,
          2000,
          2001,
          2002,
          2003,
          2004,
          2005,
          2006,
          2007,
          2008,
          2009,
          2010,
          2011,
          2012,
          2013,
          2014,
          2015,
          2016,
          2017,
          2018,
          2019,
          2020,
          2021,
          2022,
          2023,
          2024
         ],
         "xaxis": "x",
         "y": [
          7263457,
          15263610,
          10812040,
          16225659,
          17063901,
          17560878,
          16914772,
          19973226,
          24200082,
          25838041,
          25264371,
          26242507,
          26444361,
          25000617,
          24236402,
          24775012,
          25284803,
          23452659,
          31783086,
          23762277,
          21355548,
          18881551,
          51685148,
          44084654,
          38104675,
          11452562
         ],
         "yaxis": "y"
        },
        {
         "hovertemplate": "operating_airline=American Airlines<br>period=%{x}<br>lbs=%{y}<extra></extra>",
         "legendgroup": "American Airlines",
         "line": {
          "color": "#FF97FF",
          "dash": "solid"
         },
         "marker": {
          "symbol": "circle"
         },
         "mode": "lines+markers",
         "name": "American Airlines",
         "showlegend": true,
         "type": "scattergl",
         "x": [
          1999,
          2000,
          2001,
          2002,
          2003,
          2004,
          2005,
          2006,
          2007,
          2008,
          2009,
          2010,
          2011,
          2012,
          2013,
          2014,
          2015,
          2016,
          2017,
          2018,
          2019,
          2020,
          2021,
          2022,
          2023,
          2024
         ],
         "xaxis": "x",
         "y": [
          49255202,
          105077825,
          81604524,
          72332621,
          71919286,
          67319165,
          71103913,
          78157763,
          69366014,
          59233155,
          46409345,
          40073259,
          26401787,
          29522214,
          32492195,
          25440188,
          17243504,
          19938185,
          23096907,
          23985925,
          16029713,
          13018911,
          10590297,
          6512401,
          2606341,
          570784
         ],
         "yaxis": "y"
        },
        {
         "hovertemplate": "operating_airline=Asiana Airlines<br>period=%{x}<br>lbs=%{y}<extra></extra>",
         "legendgroup": "Asiana Airlines",
         "line": {
          "color": "#FECB52",
          "dash": "solid"
         },
         "marker": {
          "symbol": "circle"
         },
         "mode": "lines+markers",
         "name": "Asiana Airlines",
         "showlegend": true,
         "type": "scattergl",
         "x": [
          1999,
          2000,
          2001,
          2002,
          2003,
          2004,
          2005,
          2006,
          2007,
          2008,
          2009,
          2010,
          2011,
          2012,
          2013,
          2014,
          2015,
          2016,
          2017,
          2018,
          2019,
          2020,
          2021,
          2022,
          2023,
          2024
         ],
         "xaxis": "x",
         "y": [
          21170469,
          47569993,
          29554709,
          33630891,
          34719808,
          32102932,
          33178696,
          41726420,
          42370026,
          37803488,
          35413027,
          61775238,
          39419821,
          17350332,
          34281660,
          35195853,
          34631398,
          29230520,
          21649287,
          40786070,
          26651537,
          35091541,
          46057892,
          41542949,
          31329431,
          7250648
         ],
         "yaxis": "y"
        },
        {
         "hovertemplate": "operating_airline=Atlas Air<br>period=%{x}<br>lbs=%{y}<extra></extra>",
         "legendgroup": "Atlas Air",
         "line": {
          "color": "#636efa",
          "dash": "solid"
         },
         "marker": {
          "symbol": "circle"
         },
         "mode": "lines+markers",
         "name": "Atlas Air",
         "showlegend": true,
         "type": "scattergl",
         "x": [
          1999,
          2000,
          2001,
          2002,
          2003,
          2012,
          2013,
          2014,
          2015,
          2016,
          2017,
          2018,
          2019,
          2020,
          2021,
          2022,
          2024
         ],
         "xaxis": "x",
         "y": [
          4313397,
          38420258,
          37915860,
          5599602,
          366279,
          12130348,
          15374210,
          850814,
          84794173,
          111552354,
          136565319,
          140098473,
          55952931,
          36969048,
          28476319,
          14210624,
          85286
         ],
         "yaxis": "y"
        },
        {
         "hovertemplate": "operating_airline=British Airways<br>period=%{x}<br>lbs=%{y}<extra></extra>",
         "legendgroup": "British Airways",
         "line": {
          "color": "#EF553B",
          "dash": "solid"
         },
         "marker": {
          "symbol": "circle"
         },
         "mode": "lines+markers",
         "name": "British Airways",
         "showlegend": true,
         "type": "scattergl",
         "x": [
          1999,
          2000,
          2001,
          2002,
          2003,
          2004,
          2005,
          2006,
          2007,
          2008,
          2009,
          2010,
          2011,
          2012,
          2013,
          2014,
          2015,
          2016,
          2017,
          2018,
          2019,
          2020,
          2021,
          2022,
          2023,
          2024
         ],
         "xaxis": "x",
         "y": [
          14762216,
          25706615,
          22241073,
          25982190,
          26072945,
          28928874,
          23734812,
          26445788,
          24762037,
          23640171,
          25097870,
          24642117,
          22853599,
          24048093,
          23020926,
          24834012,
          20626498,
          20866355,
          18607686,
          17205355,
          16191645,
          23607191,
          31456233,
          18177199,
          13273148,
          5767022
         ],
         "yaxis": "y"
        },
        {
         "hovertemplate": "operating_airline=Canadian Airlines<br>period=%{x}<br>lbs=%{y}<extra></extra>",
         "legendgroup": "Canadian Airlines",
         "line": {
          "color": "#00cc96",
          "dash": "solid"
         },
         "marker": {
          "symbol": "circle"
         },
         "mode": "lines+markers",
         "name": "Canadian Airlines",
         "showlegend": true,
         "type": "scattergl",
         "x": [
          1999,
          2000,
          2001
         ],
         "xaxis": "x",
         "y": [
          771592,
          1401222,
          283525
         ],
         "yaxis": "y"
        },
        {
         "hovertemplate": "operating_airline=Capital Cargo International Airlines<br>period=%{x}<br>lbs=%{y}<extra></extra>",
         "legendgroup": "Capital Cargo International Airlines",
         "line": {
          "color": "#ab63fa",
          "dash": "solid"
         },
         "marker": {
          "symbol": "circle"
         },
         "mode": "lines+markers",
         "name": "Capital Cargo International Airlines",
         "showlegend": true,
         "type": "scattergl",
         "x": [
          1999,
          2000
         ],
         "xaxis": "x",
         "y": [
          4996633,
          1657075
         ],
         "yaxis": "y"
        },
        {
         "hovertemplate": "operating_airline=Cargolux Airlines<br>period=%{x}<br>lbs=%{y}<extra></extra>",
         "legendgroup": "Cargolux Airlines",
         "line": {
          "color": "#FFA15A",
          "dash": "solid"
         },
         "marker": {
          "symbol": "circle"
         },
         "mode": "lines+markers",
         "name": "Cargolux Airlines",
         "showlegend": true,
         "type": "scattergl",
         "x": [
          1999,
          2000,
          2001,
          2002,
          2003,
          2004,
          2005,
          2006,
          2007,
          2008
         ],
         "xaxis": "x",
         "y": [
          22219239,
          39273519,
          42001781,
          35656038,
          19370886,
          18995864,
          21112492,
          18750044,
          16404872,
          9162645
         ],
         "yaxis": "y"
        },
        {
         "hovertemplate": "operating_airline=Cathay Pacific<br>period=%{x}<br>lbs=%{y}<extra></extra>",
         "legendgroup": "Cathay Pacific",
         "line": {
          "color": "#19d3f3",
          "dash": "solid"
         },
         "marker": {
          "symbol": "circle"
         },
         "mode": "lines+markers",
         "name": "Cathay Pacific",
         "showlegend": true,
         "type": "scattergl",
         "x": [
          1999,
          2000,
          2001,
          2002,
          2003,
          2004,
          2005,
          2006,
          2007,
          2008,
          2009,
          2010,
          2011,
          2012,
          2013,
          2014,
          2015,
          2016,
          2017,
          2018,
          2019,
          2020,
          2021,
          2022,
          2023,
          2024
         ],
         "xaxis": "x",
         "y": [
          6723363,
          16219253,
          16851614,
          15715259,
          18390838,
          21643069,
          29659554,
          23814608,
          27988078,
          38731450,
          31457487,
          37183642,
          20563423,
          17218080,
          16408092,
          20218383,
          25174249,
          27082023,
          33441756,
          35749384,
          30479954,
          12313430,
          7378165,
          4154066,
          8437460,
          2976615
         ],
         "yaxis": "y"
        },
        {
         "hovertemplate": "operating_airline=China Airlines<br>period=%{x}<br>lbs=%{y}<extra></extra>",
         "legendgroup": "China Airlines",
         "line": {
          "color": "#FF6692",
          "dash": "solid"
         },
         "marker": {
          "symbol": "circle"
         },
         "mode": "lines+markers",
         "name": "China Airlines",
         "showlegend": true,
         "type": "scattergl",
         "x": [
          1999,
          2000,
          2001,
          2002,
          2003,
          2004,
          2005,
          2006,
          2007,
          2008,
          2009,
          2010,
          2011,
          2012,
          2013,
          2014,
          2015,
          2016,
          2017,
          2018,
          2019,
          2020,
          2021,
          2022,
          2023,
          2024
         ],
         "xaxis": "x",
         "y": [
          22537792,
          49746851,
          38221801,
          33184664,
          39768251,
          52930955,
          55057848,
          49827506,
          41797662,
          34099244,
          33246088,
          47611352,
          51931641,
          49160144,
          42922911,
          41208331,
          48743340,
          47334040,
          45558415,
          45264657,
          39190356,
          50298506,
          67906573,
          60456690,
          31971562,
          7676075
         ],
         "yaxis": "y"
        },
        {
         "hovertemplate": "operating_airline=China Eastern Airlines<br>period=%{x}<br>lbs=%{y}<extra></extra>",
         "legendgroup": "China Eastern Airlines",
         "line": {
          "color": "#B6E880",
          "dash": "solid"
         },
         "marker": {
          "symbol": "circle"
         },
         "mode": "lines+markers",
         "name": "China Eastern Airlines",
         "showlegend": true,
         "type": "scattergl",
         "x": [
          1999,
          2000,
          2001,
          2002,
          2003
         ],
         "xaxis": "x",
         "y": [
          1162249,
          750828,
          1177267,
          4907192,
          1370639
         ],
         "yaxis": "y"
        },
        {
         "hovertemplate": "operating_airline=DHL Express<br>period=%{x}<br>lbs=%{y}<extra></extra>",
         "legendgroup": "DHL Express",
         "line": {
          "color": "#FF97FF",
          "dash": "solid"
         },
         "marker": {
          "symbol": "circle"
         },
         "mode": "lines+markers",
         "name": "DHL Express",
         "showlegend": true,
         "type": "scattergl",
         "x": [
          1999,
          2000,
          2001,
          2002,
          2003
         ],
         "xaxis": "x",
         "y": [
          17028298,
          53209689,
          47887583,
          61862432,
          31186034
         ],
         "yaxis": "y"
        },
        {
         "hovertemplate": "operating_airline=Delta Air Lines<br>period=%{x}<br>lbs=%{y}<extra></extra>",
         "legendgroup": "Delta Air Lines",
         "line": {
          "color": "#FECB52",
          "dash": "solid"
         },
         "marker": {
          "symbol": "circle"
         },
         "mode": "lines+markers",
         "name": "Delta Air Lines",
         "showlegend": true,
         "type": "scattergl",
         "x": [
          1999,
          2000,
          2001,
          2002,
          2003,
          2004,
          2005,
          2006,
          2007,
          2008,
          2009,
          2010,
          2011,
          2012,
          2013,
          2014,
          2015,
          2016,
          2017,
          2018,
          2019,
          2020,
          2021,
          2022,
          2023,
          2024
         ],
         "xaxis": "x",
         "y": [
          38529004,
          71202045,
          56178709,
          52303950,
          59001233,
          54092382,
          43266329,
          32042319,
          24328504,
          14800861,
          11932259,
          26470707,
          34160299,
          37318912,
          38115940,
          29597119,
          33733204,
          33990112,
          40035186,
          44717793,
          32111571,
          18737157,
          20892922,
          32804795,
          14824572,
          4295425
         ],
         "yaxis": "y"
        },
        {
         "hovertemplate": "operating_airline=EVA Airways<br>period=%{x}<br>lbs=%{y}<extra></extra>",
         "legendgroup": "EVA Airways",
         "line": {
          "color": "#636efa",
          "dash": "solid"
         },
         "marker": {
          "symbol": "circle"
         },
         "mode": "lines+markers",
         "name": "EVA Airways",
         "showlegend": true,
         "type": "scattergl",
         "x": [
          1999,
          2000,
          2001,
          2002,
          2003,
          2004,
          2005,
          2006,
          2007,
          2008,
          2009,
          2010,
          2011,
          2012,
          2013,
          2014,
          2015,
          2016,
          2017,
          2018,
          2019,
          2020,
          2021,
          2022,
          2023,
          2024
         ],
         "xaxis": "x",
         "y": [
          37541558,
          70716725,
          43166710,
          55013790,
          49219237,
          40165940,
          51117314,
          50737001,
          53032565,
          41550938,
          37421227,
          38375846,
          33991411,
          33606989,
          34512827,
          41304154,
          43705185,
          40203100,
          42485918,
          53772329,
          51687759,
          42632449,
          38852972,
          40690497,
          48677860,
          15002948
         ],
         "yaxis": "y"
        },
        {
         "hovertemplate": "operating_airline=Emery Worldwide Airlines<br>period=%{x}<br>lbs=%{y}<extra></extra>",
         "legendgroup": "Emery Worldwide Airlines",
         "line": {
          "color": "#EF553B",
          "dash": "solid"
         },
         "marker": {
          "symbol": "circle"
         },
         "mode": "lines+markers",
         "name": "Emery Worldwide Airlines",
         "showlegend": true,
         "type": "scattergl",
         "x": [
          1999,
          2000,
          2001
         ],
         "xaxis": "x",
         "y": [
          14329817,
          16383084,
          7947159
         ],
         "yaxis": "y"
        },
        {
         "hovertemplate": "operating_airline=Evergreen International Airlines<br>period=%{x}<br>lbs=%{y}<extra></extra>",
         "legendgroup": "Evergreen International Airlines",
         "line": {
          "color": "#00cc96",
          "dash": "solid"
         },
         "marker": {
          "symbol": "circle"
         },
         "mode": "lines+markers",
         "name": "Evergreen International Airlines",
         "showlegend": true,
         "type": "scattergl",
         "x": [
          1999,
          2000,
          2001,
          2002,
          2003,
          2004,
          2005,
          2006,
          2007,
          2008
         ],
         "xaxis": "x",
         "y": [
          22320972,
          41747759,
          17880164,
          4916437,
          9688608,
          9661216,
          215807,
          4358289,
          31645,
          37840
         ],
         "yaxis": "y"
        },
        {
         "hovertemplate": "operating_airline=Express One International<br>period=%{x}<br>lbs=%{y}<extra></extra>",
         "legendgroup": "Express One International",
         "line": {
          "color": "#ab63fa",
          "dash": "solid"
         },
         "marker": {
          "symbol": "circle"
         },
         "mode": "lines+markers",
         "name": "Express One International",
         "showlegend": true,
         "type": "scattergl",
         "x": [
          1999,
          2001
         ],
         "xaxis": "x",
         "y": [
          611494,
          77140
         ],
         "yaxis": "y"
        },
        {
         "hovertemplate": "operating_airline=Federal Express<br>period=%{x}<br>lbs=%{y}<extra></extra>",
         "legendgroup": "Federal Express",
         "line": {
          "color": "#FFA15A",
          "dash": "solid"
         },
         "marker": {
          "symbol": "circle"
         },
         "mode": "lines+markers",
         "name": "Federal Express",
         "showlegend": true,
         "type": "scattergl",
         "x": [
          1999,
          2000,
          2001,
          2002,
          2003,
          2004,
          2005,
          2006,
          2007,
          2008,
          2009,
          2010,
          2011,
          2012,
          2013,
          2014,
          2015,
          2016,
          2017,
          2018,
          2019,
          2020,
          2021,
          2022,
          2023,
          2024
         ],
         "xaxis": "x",
         "y": [
          60364803,
          133904884,
          122766421,
          151171860,
          209616993,
          203074742,
          207991552,
          205153834,
          209304956,
          183467823,
          139240809,
          86337793,
          63445090,
          57997467,
          58762952,
          72897067,
          82171661,
          83979998,
          75247553,
          68650515,
          85352539,
          65011123,
          55219805,
          38108242,
          43150903,
          14218157
         ],
         "yaxis": "y"
        },
        {
         "hovertemplate": "operating_airline=Finnair<br>period=%{x}<br>lbs=%{y}<extra></extra>",
         "legendgroup": "Finnair",
         "line": {
          "color": "#19d3f3",
          "dash": "solid"
         },
         "marker": {
          "symbol": "circle"
         },
         "mode": "lines+markers",
         "name": "Finnair",
         "showlegend": true,
         "type": "scattergl",
         "x": [
          1999,
          2017,
          2018,
          2019
         ],
         "xaxis": "x",
         "y": [
          1001040,
          309486,
          1016885,
          1180735
         ],
         "yaxis": "y"
        },
        {
         "hovertemplate": "operating_airline=Frontier Airlines<br>period=%{x}<br>lbs=%{y}<extra></extra>",
         "legendgroup": "Frontier Airlines",
         "line": {
          "color": "#FF6692",
          "dash": "solid"
         },
         "marker": {
          "symbol": "circle"
         },
         "mode": "lines+markers",
         "name": "Frontier Airlines",
         "showlegend": true,
         "type": "scattergl",
         "x": [
          1999,
          2000,
          2001,
          2002,
          2003,
          2004,
          2005,
          2006,
          2007,
          2008,
          2009,
          2010,
          2011,
          2012,
          2013
         ],
         "xaxis": "x",
         "y": [
          860691,
          2215062,
          1784027,
          1968985,
          2736405,
          2163825,
          1815917,
          2226228,
          1923164,
          2062826,
          1739844,
          1910624,
          1604654,
          1700614,
          1144431
         ],
         "yaxis": "y"
        },
        {
         "hovertemplate": "operating_airline=Hawaiian Airlines<br>period=%{x}<br>lbs=%{y}<extra></extra>",
         "legendgroup": "Hawaiian Airlines",
         "line": {
          "color": "#B6E880",
          "dash": "solid"
         },
         "marker": {
          "symbol": "circle"
         },
         "mode": "lines+markers",
         "name": "Hawaiian Airlines",
         "showlegend": true,
         "type": "scattergl",
         "x": [
          1999,
          2000,
          2001,
          2002,
          2003,
          2004,
          2005,
          2006,
          2007,
          2008,
          2009,
          2010,
          2011,
          2012,
          2013,
          2014,
          2015,
          2016,
          2017,
          2018,
          2019,
          2020,
          2021,
          2022,
          2023,
          2024
         ],
         "xaxis": "x",
         "y": [
          3987893,
          8130592,
          5118271,
          4996695,
          7213833,
          5982433,
          6040814,
          5528580,
          5638483,
          5989708,
          3867848,
          5022533,
          5407795,
          9860784,
          10060364,
          11439998,
          12661197,
          12963080,
          13045553,
          16073614,
          11959941,
          12258028,
          8651517,
          9260872,
          7611526,
          1580008
         ],
         "yaxis": "y"
        },
        {
         "hovertemplate": "operating_airline=Japan Airlines<br>period=%{x}<br>lbs=%{y}<extra></extra>",
         "legendgroup": "Japan Airlines",
         "line": {
          "color": "#FF97FF",
          "dash": "solid"
         },
         "marker": {
          "symbol": "circle"
         },
         "mode": "lines+markers",
         "name": "Japan Airlines",
         "showlegend": true,
         "type": "scattergl",
         "x": [
          1999,
          2000,
          2001,
          2002,
          2003,
          2004,
          2005,
          2006,
          2007,
          2008,
          2009,
          2010,
          2011,
          2012,
          2013,
          2014,
          2015,
          2016,
          2017,
          2018,
          2019,
          2020,
          2021,
          2022,
          2023,
          2024
         ],
         "xaxis": "x",
         "y": [
          43184434,
          83841683,
          68454390,
          65724578,
          58796253,
          62917516,
          53474791,
          48651842,
          48697207,
          17633092,
          19574922,
          21891603,
          12943208,
          12183402,
          13886214,
          13299305,
          21032839,
          18494469,
          20183633,
          24644695,
          23484913,
          22823703,
          30854204,
          33551774,
          39264761,
          12751617
         ],
         "yaxis": "y"
        },
        {
         "hovertemplate": "operating_airline=KLM Royal Dutch Airlines<br>period=%{x}<br>lbs=%{y}<extra></extra>",
         "legendgroup": "KLM Royal Dutch Airlines",
         "line": {
          "color": "#FECB52",
          "dash": "solid"
         },
         "marker": {
          "symbol": "circle"
         },
         "mode": "lines+markers",
         "name": "KLM Royal Dutch Airlines",
         "showlegend": true,
         "type": "scattergl",
         "x": [
          1999,
          2000,
          2001,
          2002,
          2003,
          2004,
          2005,
          2006,
          2007,
          2008,
          2009,
          2010,
          2011,
          2012,
          2013,
          2014,
          2015,
          2016,
          2017,
          2018,
          2019,
          2020,
          2021,
          2022,
          2023,
          2024
         ],
         "xaxis": "x",
         "y": [
          8623845,
          20826480,
          22669438,
          19148724,
          15037201,
          1078505,
          11617151,
          17490104,
          15334460,
          10632379,
          5217907,
          6216243,
          5237271,
          4207301,
          4615875,
          4527991,
          4640482,
          7336813,
          16067306,
          16031421,
          13974959,
          7888692,
          12152619,
          10496934,
          11160892,
          3475769
         ],
         "yaxis": "y"
        },
        {
         "hovertemplate": "operating_airline=Kitty Hawk Air Cargo<br>period=%{x}<br>lbs=%{y}<extra></extra>",
         "legendgroup": "Kitty Hawk Air Cargo",
         "line": {
          "color": "#636efa",
          "dash": "solid"
         },
         "marker": {
          "symbol": "circle"
         },
         "mode": "lines+markers",
         "name": "Kitty Hawk Air Cargo",
         "showlegend": true,
         "type": "scattergl",
         "x": [
          1999,
          2000,
          2003,
          2004,
          2005,
          2006,
          2007
         ],
         "xaxis": "x",
         "y": [
          43828153,
          27562788,
          11283671,
          17925604,
          20851136,
          15890720,
          8145762
         ],
         "yaxis": "y"
        },
        {
         "hovertemplate": "operating_airline=Korean Air Lines<br>period=%{x}<br>lbs=%{y}<extra></extra>",
         "legendgroup": "Korean Air Lines",
         "line": {
          "color": "#EF553B",
          "dash": "solid"
         },
         "marker": {
          "symbol": "circle"
         },
         "mode": "lines+markers",
         "name": "Korean Air Lines",
         "showlegend": true,
         "type": "scattergl",
         "x": [
          1999,
          2000,
          2001,
          2002,
          2003,
          2004,
          2005,
          2006,
          2007,
          2008,
          2009,
          2010,
          2011,
          2012,
          2013,
          2014,
          2015,
          2016,
          2017,
          2018,
          2019,
          2020,
          2021,
          2022,
          2023,
          2024
         ],
         "xaxis": "x",
         "y": [
          36593043,
          64877895,
          27527377,
          42707067,
          56939859,
          46446754,
          47876978,
          60712559,
          54114856,
          66910981,
          43069608,
          46576103,
          46498667,
          43106043,
          50693487,
          52150791,
          51459641,
          46118057,
          55023155,
          49937222,
          45207210,
          40483932,
          44540800,
          33577055,
          35122658,
          9791448
         ],
         "yaxis": "y"
        },
        {
         "hovertemplate": "operating_airline=Lufthansa German Airlines<br>period=%{x}<br>lbs=%{y}<extra></extra>",
         "legendgroup": "Lufthansa German Airlines",
         "line": {
          "color": "#00cc96",
          "dash": "solid"
         },
         "marker": {
          "symbol": "circle"
         },
         "mode": "lines+markers",
         "name": "Lufthansa German Airlines",
         "showlegend": true,
         "type": "scattergl",
         "x": [
          1999,
          2000,
          2001,
          2002,
          2003,
          2004,
          2005,
          2006,
          2007,
          2008,
          2009,
          2010,
          2011,
          2012,
          2013,
          2014,
          2015,
          2016,
          2017,
          2018,
          2019,
          2020,
          2021,
          2022,
          2023,
          2024
         ],
         "xaxis": "x",
         "y": [
          19435237,
          37071976,
          28177956,
          19949388,
          18287512,
          17865033,
          20027578,
          22094916,
          21062912,
          21251907,
          18554474,
          21653917,
          20713976,
          20931770,
          18538522,
          19507743,
          21187938,
          23884638,
          18901652,
          19209606,
          17094451,
          7066279,
          14455925,
          16886073,
          16161096,
          5678432
         ],
         "yaxis": "y"
        },
        {
         "hovertemplate": "operating_airline=Martinair Holland<br>period=%{x}<br>lbs=%{y}<extra></extra>",
         "legendgroup": "Martinair Holland",
         "line": {
          "color": "#ab63fa",
          "dash": "solid"
         },
         "marker": {
          "symbol": "circle"
         },
         "mode": "lines+markers",
         "name": "Martinair Holland",
         "showlegend": true,
         "type": "scattergl",
         "x": [
          1999,
          2002
         ],
         "xaxis": "x",
         "y": [
          1482364,
          4044037
         ],
         "yaxis": "y"
        },
        {
         "hovertemplate": "operating_airline=Mexicana Airlines<br>period=%{x}<br>lbs=%{y}<extra></extra>",
         "legendgroup": "Mexicana Airlines",
         "line": {
          "color": "#FFA15A",
          "dash": "solid"
         },
         "marker": {
          "symbol": "circle"
         },
         "mode": "lines+markers",
         "name": "Mexicana Airlines",
         "showlegend": true,
         "type": "scattergl",
         "x": [
          1999,
          2000,
          2001,
          2002,
          2003
         ],
         "xaxis": "x",
         "y": [
          893460,
          2211581,
          2172742,
          1651196,
          154377
         ],
         "yaxis": "y"
        },
        {
         "hovertemplate": "operating_airline=Midwest Airlines<br>period=%{x}<br>lbs=%{y}<extra></extra>",
         "legendgroup": "Midwest Airlines",
         "line": {
          "color": "#19d3f3",
          "dash": "solid"
         },
         "marker": {
          "symbol": "circle"
         },
         "mode": "lines+markers",
         "name": "Midwest Airlines",
         "showlegend": true,
         "type": "scattergl",
         "x": [
          1999,
          2000,
          2001,
          2002,
          2003,
          2004,
          2005,
          2006,
          2007,
          2008,
          2009,
          2010
         ],
         "xaxis": "x",
         "y": [
          378432,
          404753,
          390521,
          385750,
          336317,
          742207,
          725824,
          927791,
          1082431,
          546429,
          310479,
          12066
         ],
         "yaxis": "y"
        },
        {
         "hovertemplate": "operating_airline=National Airlines<br>period=%{x}<br>lbs=%{y}<extra></extra>",
         "legendgroup": "National Airlines",
         "line": {
          "color": "#FF6692",
          "dash": "solid"
         },
         "marker": {
          "symbol": "circle"
         },
         "mode": "lines+markers",
         "name": "National Airlines",
         "showlegend": true,
         "type": "scattergl",
         "x": [
          1999,
          2000,
          2001,
          2002
         ],
         "xaxis": "x",
         "y": [
          375871,
          1856300,
          755607,
          186168
         ],
         "yaxis": "y"
        },
        {
         "hovertemplate": "operating_airline=Nippon Cargo Airlines<br>period=%{x}<br>lbs=%{y}<extra></extra>",
         "legendgroup": "Nippon Cargo Airlines",
         "line": {
          "color": "#B6E880",
          "dash": "solid"
         },
         "marker": {
          "symbol": "circle"
         },
         "mode": "lines+markers",
         "name": "Nippon Cargo Airlines",
         "showlegend": true,
         "type": "scattergl",
         "x": [
          1999,
          2000,
          2001,
          2002,
          2003,
          2004,
          2005,
          2006,
          2007,
          2008,
          2009,
          2010,
          2011,
          2012,
          2013,
          2014,
          2015,
          2016,
          2017,
          2018,
          2019,
          2020,
          2021,
          2022
         ],
         "xaxis": "x",
         "y": [
          40695242,
          77263628,
          48952143,
          50643570,
          45868617,
          45227638,
          44976222,
          42576427,
          35026827,
          28236531,
          35312371,
          33997717,
          30100008,
          27076429,
          24048226,
          25752405,
          29323956,
          24661953,
          27868944,
          12352353,
          8704871,
          11070417,
          9613050,
          3633629
         ],
         "yaxis": "y"
        },
        {
         "hovertemplate": "operating_airline=Northwest Airlines<br>period=%{x}<br>lbs=%{y}<extra></extra>",
         "legendgroup": "Northwest Airlines",
         "line": {
          "color": "#FF97FF",
          "dash": "solid"
         },
         "marker": {
          "symbol": "circle"
         },
         "mode": "lines+markers",
         "name": "Northwest Airlines",
         "showlegend": true,
         "type": "scattergl",
         "x": [
          1999,
          2000,
          2001,
          2002,
          2003,
          2004,
          2005,
          2006,
          2007,
          2008,
          2009,
          2010
         ],
         "xaxis": "x",
         "y": [
          54884966,
          127692366,
          67782706,
          41619501,
          36083279,
          23430191,
          20761934,
          27318704,
          27949466,
          24407160,
          20286327,
          911432
         ],
         "yaxis": "y"
        },
        {
         "hovertemplate": "operating_airline=Odyssey Transport<br>period=%{x}<br>lbs=%{y}<extra></extra>",
         "legendgroup": "Odyssey Transport",
         "line": {
          "color": "#FECB52",
          "dash": "solid"
         },
         "marker": {
          "symbol": "circle"
         },
         "mode": "lines+markers",
         "name": "Odyssey Transport",
         "showlegend": true,
         "type": "scattergl",
         "x": [
          1999,
          2000
         ],
         "xaxis": "x",
         "y": [
          1225032,
          835853
         ],
         "yaxis": "y"
        },
        {
         "hovertemplate": "operating_airline=Philippine Airlines<br>period=%{x}<br>lbs=%{y}<extra></extra>",
         "legendgroup": "Philippine Airlines",
         "line": {
          "color": "#636efa",
          "dash": "solid"
         },
         "marker": {
          "symbol": "circle"
         },
         "mode": "lines+markers",
         "name": "Philippine Airlines",
         "showlegend": true,
         "type": "scattergl",
         "x": [
          1999,
          2000,
          2001,
          2002,
          2003,
          2004,
          2005,
          2006,
          2007,
          2008,
          2009,
          2010,
          2011,
          2012,
          2013,
          2014,
          2015,
          2016,
          2017,
          2018,
          2019,
          2020,
          2021,
          2022,
          2023,
          2024
         ],
         "xaxis": "x",
         "y": [
          4917564,
          8844558,
          7629034,
          7383774,
          8594994,
          7661740,
          12701512,
          9226885,
          7530389,
          7156338,
          7617005,
          4914213,
          5074372,
          4957466,
          5856676,
          6046310,
          7706072,
          6979060,
          8542638,
          9422888,
          9710545,
          3508166,
          7613366,
          6410112,
          6391450,
          2628689
         ],
         "yaxis": "y"
        },
        {
         "hovertemplate": "operating_airline=Polar Air Cargo<br>period=%{x}<br>lbs=%{y}<extra></extra>",
         "legendgroup": "Polar Air Cargo",
         "line": {
          "color": "#EF553B",
          "dash": "solid"
         },
         "marker": {
          "symbol": "circle"
         },
         "mode": "lines+markers",
         "name": "Polar Air Cargo",
         "showlegend": true,
         "type": "scattergl",
         "x": [
          1999,
          2000
         ],
         "xaxis": "x",
         "y": [
          1153143,
          139616
         ],
         "yaxis": "y"
        },
        {
         "hovertemplate": "operating_airline=Reno Air<br>period=%{x}<br>lbs=%{y}<extra></extra>",
         "legendgroup": "Reno Air",
         "line": {
          "color": "#00cc96",
          "dash": "solid"
         },
         "marker": {
          "symbol": "circle"
         },
         "mode": "lines+markers",
         "name": "Reno Air",
         "showlegend": true,
         "type": "scattergl",
         "x": [
          1999
         ],
         "xaxis": "x",
         "y": [
          6445
         ],
         "yaxis": "y"
        },
        {
         "hovertemplate": "operating_airline=Singapore Airlines<br>period=%{x}<br>lbs=%{y}<extra></extra>",
         "legendgroup": "Singapore Airlines",
         "line": {
          "color": "#ab63fa",
          "dash": "solid"
         },
         "marker": {
          "symbol": "circle"
         },
         "mode": "lines+markers",
         "name": "Singapore Airlines",
         "showlegend": true,
         "type": "scattergl",
         "x": [
          1999,
          2000,
          2001,
          2002,
          2003,
          2004,
          2005,
          2006,
          2007,
          2008,
          2009,
          2010,
          2011,
          2012,
          2013,
          2014,
          2015,
          2016,
          2017,
          2018,
          2019,
          2020,
          2021,
          2022,
          2023,
          2024
         ],
         "xaxis": "x",
         "y": [
          29615884,
          53096425,
          43940139,
          46609961,
          21290544,
          16038341,
          16934114,
          12034281,
          19587053,
          13915964,
          15198025,
          15845161,
          16801381,
          18678136,
          22570371,
          35752902,
          33430994,
          34201399,
          27720229,
          25737531,
          26761631,
          5329452,
          11159936,
          12656499,
          11835466,
          3842012
         ],
         "yaxis": "y"
        },
        {
         "hovertemplate": "operating_airline=SkyWest Airlines<br>period=%{x}<br>lbs=%{y}<extra></extra>",
         "legendgroup": "SkyWest Airlines",
         "line": {
          "color": "#FFA15A",
          "dash": "solid"
         },
         "marker": {
          "symbol": "circle"
         },
         "mode": "lines+markers",
         "name": "SkyWest Airlines",
         "showlegend": true,
         "type": "scattergl",
         "x": [
          1999,
          2000,
          2001,
          2003,
          2004,
          2005,
          2006,
          2007,
          2008,
          2011,
          2012,
          2016,
          2017,
          2018,
          2019,
          2020,
          2021,
          2022,
          2023,
          2024
         ],
         "xaxis": "x",
         "y": [
          43753,
          109572,
          22627,
          13842,
          2955,
          13777,
          15231,
          14898,
          18567,
          7591,
          11590,
          30731,
          1458,
          1359,
          163895,
          1416373,
          994025,
          452564,
          282037,
          116175
         ],
         "yaxis": "y"
        },
        {
         "hovertemplate": "operating_airline=Southwest Airlines<br>period=%{x}<br>lbs=%{y}<extra></extra>",
         "legendgroup": "Southwest Airlines",
         "line": {
          "color": "#19d3f3",
          "dash": "solid"
         },
         "marker": {
          "symbol": "circle"
         },
         "mode": "lines+markers",
         "name": "Southwest Airlines",
         "showlegend": true,
         "type": "scattergl",
         "x": [
          1999,
          2000,
          2001,
          2007,
          2008,
          2009,
          2010,
          2011,
          2012,
          2013,
          2014,
          2015,
          2016,
          2017,
          2018,
          2019,
          2020,
          2021,
          2022,
          2023,
          2024
         ],
         "xaxis": "x",
         "y": [
          4718997,
          8812886,
          1175956,
          1825333,
          6521228,
          5457754,
          6082331,
          6252117,
          6896849,
          6499276,
          7079800,
          7941878,
          6527635,
          6803939,
          6830577,
          5681319,
          6128183,
          6866623,
          5136316,
          4394109,
          1515209
         ],
         "yaxis": "y"
        },
        {
         "hovertemplate": "operating_airline=Sun Country Airlines<br>period=%{x}<br>lbs=%{y}<extra></extra>",
         "legendgroup": "Sun Country Airlines",
         "line": {
          "color": "#FF6692",
          "dash": "solid"
         },
         "marker": {
          "symbol": "circle"
         },
         "mode": "lines+markers",
         "name": "Sun Country Airlines",
         "showlegend": true,
         "type": "scattergl",
         "x": [
          1999,
          2000,
          2001,
          2004,
          2005,
          2006,
          2007,
          2008,
          2009,
          2010,
          2011,
          2012,
          2013,
          2014,
          2015,
          2016,
          2017,
          2018,
          2019,
          2020,
          2021,
          2022
         ],
         "xaxis": "x",
         "y": [
          360862,
          955666,
          532449,
          18450,
          691239,
          1205184,
          1018419,
          520679,
          149229,
          27818,
          11,
          41366,
          282568,
          320597,
          576626,
          857429,
          980414,
          728518,
          630982,
          279488,
          5965473,
          13778085
         ],
         "yaxis": "y"
        },
        {
         "hovertemplate": "operating_airline=Swissair<br>period=%{x}<br>lbs=%{y}<extra></extra>",
         "legendgroup": "Swissair",
         "line": {
          "color": "#B6E880",
          "dash": "solid"
         },
         "marker": {
          "symbol": "circle"
         },
         "mode": "lines+markers",
         "name": "Swissair",
         "showlegend": true,
         "type": "scattergl",
         "x": [
          1999,
          2000,
          2001
         ],
         "xaxis": "x",
         "y": [
          7142258,
          17831473,
          12819893
         ],
         "yaxis": "y"
        },
        {
         "hovertemplate": "operating_airline=TACA International Airlines SA<br>period=%{x}<br>lbs=%{y}<extra></extra>",
         "legendgroup": "TACA International Airlines SA",
         "line": {
          "color": "#FF97FF",
          "dash": "solid"
         },
         "marker": {
          "symbol": "circle"
         },
         "mode": "lines+markers",
         "name": "TACA International Airlines SA",
         "showlegend": true,
         "type": "scattergl",
         "x": [
          1999,
          2000,
          2001,
          2002,
          2003,
          2004,
          2005,
          2006,
          2007,
          2008,
          2009,
          2010,
          2011,
          2012,
          2013,
          2014,
          2015,
          2016,
          2017,
          2018,
          2019,
          2020,
          2021,
          2022,
          2023,
          2024
         ],
         "xaxis": "x",
         "y": [
          106268,
          39718,
          37882,
          375512,
          133920,
          178572,
          174723,
          103745,
          130334,
          93865,
          31936,
          37409,
          48270,
          139590,
          191844,
          238803,
          112985,
          110954,
          116861,
          111468,
          289827,
          130608,
          229462,
          201566,
          147616,
          52901
         ],
         "yaxis": "y"
        },
        {
         "hovertemplate": "operating_airline=TWA<br>period=%{x}<br>lbs=%{y}<extra></extra>",
         "legendgroup": "TWA",
         "line": {
          "color": "#FECB52",
          "dash": "solid"
         },
         "marker": {
          "symbol": "circle"
         },
         "mode": "lines+markers",
         "name": "TWA",
         "showlegend": true,
         "type": "scattergl",
         "x": [
          1999,
          2000,
          2001
         ],
         "xaxis": "x",
         "y": [
          7493324,
          13825161,
          8354567
         ],
         "yaxis": "y"
        },
        {
         "hovertemplate": "operating_airline=Tower Air<br>period=%{x}<br>lbs=%{y}<extra></extra>",
         "legendgroup": "Tower Air",
         "line": {
          "color": "#636efa",
          "dash": "solid"
         },
         "marker": {
          "symbol": "circle"
         },
         "mode": "lines+markers",
         "name": "Tower Air",
         "showlegend": true,
         "type": "scattergl",
         "x": [
          1999,
          2000
         ],
         "xaxis": "x",
         "y": [
          2564962,
          177166
         ],
         "yaxis": "y"
        },
        {
         "hovertemplate": "operating_airline=Trans States Airlines<br>period=%{x}<br>lbs=%{y}<extra></extra>",
         "legendgroup": "Trans States Airlines",
         "line": {
          "color": "#EF553B",
          "dash": "solid"
         },
         "marker": {
          "symbol": "circle"
         },
         "mode": "lines+markers",
         "name": "Trans States Airlines",
         "showlegend": true,
         "type": "scattergl",
         "x": [
          1999
         ],
         "xaxis": "x",
         "y": [
          2372
         ],
         "yaxis": "y"
        },
        {
         "hovertemplate": "operating_airline=US Airways<br>period=%{x}<br>lbs=%{y}<extra></extra>",
         "legendgroup": "US Airways",
         "line": {
          "color": "#00cc96",
          "dash": "solid"
         },
         "marker": {
          "symbol": "circle"
         },
         "mode": "lines+markers",
         "name": "US Airways",
         "showlegend": true,
         "type": "scattergl",
         "x": [
          1999,
          2000,
          2001,
          2002,
          2003,
          2004,
          2005,
          2006,
          2007,
          2008,
          2009,
          2010,
          2011,
          2012,
          2013,
          2014,
          2015
         ],
         "xaxis": "x",
         "y": [
          14463796,
          24613940,
          19110796,
          15079949,
          12279502,
          12196200,
          10671531,
          11784636,
          11320406,
          10012748,
          8000689,
          7386697,
          7821475,
          6027641,
          6567022,
          5875981,
          4467409
         ],
         "yaxis": "y"
        },
        {
         "hovertemplate": "operating_airline=Union Flights<br>period=%{x}<br>lbs=%{y}<extra></extra>",
         "legendgroup": "Union Flights",
         "line": {
          "color": "#ab63fa",
          "dash": "solid"
         },
         "marker": {
          "symbol": "circle"
         },
         "mode": "lines+markers",
         "name": "Union Flights",
         "showlegend": true,
         "type": "scattergl",
         "x": [
          1999
         ],
         "xaxis": "x",
         "y": [
          277799
         ],
         "yaxis": "y"
        },
        {
         "hovertemplate": "operating_airline=United Airlines<br>period=%{x}<br>lbs=%{y}<extra></extra>",
         "legendgroup": "United Airlines",
         "line": {
          "color": "#FFA15A",
          "dash": "solid"
         },
         "marker": {
          "symbol": "circle"
         },
         "mode": "lines+markers",
         "name": "United Airlines",
         "showlegend": true,
         "type": "scattergl",
         "x": [
          1999,
          2000,
          2001,
          2002,
          2003,
          2004,
          2005,
          2006,
          2007,
          2008,
          2009,
          2010,
          2011,
          2012,
          2013,
          2014,
          2015,
          2016,
          2017,
          2018,
          2019,
          2020,
          2021,
          2022,
          2023,
          2024
         ],
         "xaxis": "x",
         "y": [
          249797963,
          473457867,
          385274610,
          351337322,
          295436165,
          289224584,
          290524089,
          291377891,
          270144320,
          256192204,
          208540009,
          227798192,
          201373216,
          206011376,
          184878589,
          223572906,
          250782989,
          298274341,
          394471138,
          390820214,
          420968957,
          288285721,
          341478445,
          355448394,
          414307472,
          153102136
         ],
         "yaxis": "y"
        },
        {
         "hovertemplate": "operating_airline=Virgin Atlantic<br>period=%{x}<br>lbs=%{y}<extra></extra>",
         "legendgroup": "Virgin Atlantic",
         "line": {
          "color": "#19d3f3",
          "dash": "solid"
         },
         "marker": {
          "symbol": "circle"
         },
         "mode": "lines+markers",
         "name": "Virgin Atlantic",
         "showlegend": true,
         "type": "scattergl",
         "x": [
          1999,
          2000,
          2001,
          2002,
          2003,
          2004,
          2005,
          2006,
          2007,
          2008,
          2009,
          2010,
          2011,
          2012,
          2013,
          2014,
          2015,
          2016,
          2017,
          2018,
          2019,
          2020,
          2021,
          2022,
          2023,
          2024
         ],
         "xaxis": "x",
         "y": [
          7069818,
          16698380,
          14050875,
          14241702,
          14847438,
          14281088,
          12981208,
          10624998,
          12715104,
          10732579,
          10992886,
          13581312,
          11899985,
          12628602,
          11519522,
          12881525,
          16203401,
          19392879,
          22258857,
          20099727,
          12755922,
          2493721,
          1595718,
          7933177,
          5695895,
          2202460
         ],
         "yaxis": "y"
        },
        {
         "hovertemplate": "operating_airline=Gemini Air Cargo<br>period=%{x}<br>lbs=%{y}<extra></extra>",
         "legendgroup": "Gemini Air Cargo",
         "line": {
          "color": "#FF6692",
          "dash": "solid"
         },
         "marker": {
          "symbol": "circle"
         },
         "mode": "lines+markers",
         "name": "Gemini Air Cargo",
         "showlegend": true,
         "type": "scattergl",
         "x": [
          2000,
          2001,
          2002,
          2003,
          2004,
          2005
         ],
         "xaxis": "x",
         "y": [
          14261805,
          1659094,
          9891682,
          14783066,
          14728868,
          172272
         ],
         "yaxis": "y"
        },
        {
         "hovertemplate": "operating_airline=Tradewinds Airlines<br>period=%{x}<br>lbs=%{y}<extra></extra>",
         "legendgroup": "Tradewinds Airlines",
         "line": {
          "color": "#B6E880",
          "dash": "solid"
         },
         "marker": {
          "symbol": "circle"
         },
         "mode": "lines+markers",
         "name": "Tradewinds Airlines",
         "showlegend": true,
         "type": "scattergl",
         "x": [
          2000,
          2004,
          2005,
          2006
         ],
         "xaxis": "x",
         "y": [
          3113622,
          1813430,
          22793434,
          22108589
         ],
         "yaxis": "y"
        },
        {
         "hovertemplate": "operating_airline=Kalitta Air<br>period=%{x}<br>lbs=%{y}<extra></extra>",
         "legendgroup": "Kalitta Air",
         "line": {
          "color": "#FF97FF",
          "dash": "solid"
         },
         "marker": {
          "symbol": "circle"
         },
         "mode": "lines+markers",
         "name": "Kalitta Air",
         "showlegend": true,
         "type": "scattergl",
         "x": [
          2001,
          2003,
          2004,
          2005,
          2006,
          2007,
          2009,
          2010,
          2011,
          2012,
          2013,
          2014,
          2015,
          2016,
          2017,
          2018,
          2019,
          2020,
          2021,
          2022,
          2023,
          2024
         ],
         "xaxis": "x",
         "y": [
          370383,
          246313,
          4394619,
          33148511,
          21729079,
          21804115,
          108501,
          35445,
          26718,
          183447,
          302968,
          5905170,
          12991045,
          10432683,
          21203236,
          9268678,
          71899509,
          80591805,
          82268123,
          35924775,
          4086124,
          51297
         ],
         "yaxis": "y"
        },
        {
         "hovertemplate": "operating_airline=Vanguard Airlines<br>period=%{x}<br>lbs=%{y}<extra></extra>",
         "legendgroup": "Vanguard Airlines",
         "line": {
          "color": "#FECB52",
          "dash": "solid"
         },
         "marker": {
          "symbol": "circle"
         },
         "mode": "lines+markers",
         "name": "Vanguard Airlines",
         "showlegend": true,
         "type": "scattergl",
         "x": [
          2001,
          2002
         ],
         "xaxis": "x",
         "y": [
          436493,
          194356
         ],
         "yaxis": "y"
        },
        {
         "hovertemplate": "operating_airline=Ameriflight<br>period=%{x}<br>lbs=%{y}<extra></extra>",
         "legendgroup": "Ameriflight",
         "line": {
          "color": "#636efa",
          "dash": "solid"
         },
         "marker": {
          "symbol": "circle"
         },
         "mode": "lines+markers",
         "name": "Ameriflight",
         "showlegend": true,
         "type": "scattergl",
         "x": [
          2002,
          2003,
          2004,
          2005,
          2009,
          2010,
          2011,
          2012,
          2013,
          2014,
          2015,
          2016
         ],
         "xaxis": "x",
         "y": [
          468242,
          937167,
          847098,
          655558,
          1518069,
          2040001,
          2443371,
          2496976,
          2507161,
          2880173,
          3019855,
          432193
         ],
         "yaxis": "y"
        },
        {
         "hovertemplate": "operating_airline=Arrow Air<br>period=%{x}<br>lbs=%{y}<extra></extra>",
         "legendgroup": "Arrow Air",
         "line": {
          "color": "#EF553B",
          "dash": "solid"
         },
         "marker": {
          "symbol": "circle"
         },
         "mode": "lines+markers",
         "name": "Arrow Air",
         "showlegend": true,
         "type": "scattergl",
         "x": [
          2002
         ],
         "xaxis": "x",
         "y": [
          16300
         ],
         "yaxis": "y"
        },
        {
         "hovertemplate": "operating_airline=Dubai Air Wing<br>period=%{x}<br>lbs=%{y}<extra></extra>",
         "legendgroup": "Dubai Air Wing",
         "line": {
          "color": "#00cc96",
          "dash": "solid"
         },
         "marker": {
          "symbol": "circle"
         },
         "mode": "lines+markers",
         "name": "Dubai Air Wing",
         "showlegend": true,
         "type": "scattergl",
         "x": [
          2002
         ],
         "xaxis": "x",
         "y": [
          2260
         ],
         "yaxis": "y"
        },
        {
         "hovertemplate": "operating_airline=Horizon Air<br>period=%{x}<br>lbs=%{y}<extra></extra>",
         "legendgroup": "Horizon Air",
         "line": {
          "color": "#ab63fa",
          "dash": "solid"
         },
         "marker": {
          "symbol": "circle"
         },
         "mode": "lines+markers",
         "name": "Horizon Air",
         "showlegend": true,
         "type": "scattergl",
         "x": [
          2002,
          2003,
          2004,
          2005,
          2006,
          2007,
          2008,
          2009,
          2010,
          2011,
          2012,
          2013,
          2014,
          2017,
          2018,
          2019,
          2020,
          2021,
          2022,
          2023,
          2024
         ],
         "xaxis": "x",
         "y": [
          14145,
          242319,
          384441,
          405426,
          425089,
          363147,
          305864,
          441304,
          492538,
          285894,
          171820,
          135971,
          58680,
          11264,
          65389,
          136879,
          537441,
          490111,
          80758,
          93937,
          67378
         ],
         "yaxis": "y"
        },
        {
         "hovertemplate": "operating_airline=Mesa Airlines<br>period=%{x}<br>lbs=%{y}<extra></extra>",
         "legendgroup": "Mesa Airlines",
         "line": {
          "color": "#FFA15A",
          "dash": "solid"
         },
         "marker": {
          "symbol": "circle"
         },
         "mode": "lines+markers",
         "name": "Mesa Airlines",
         "showlegend": true,
         "type": "scattergl",
         "x": [
          2002,
          2003,
          2014,
          2015
         ],
         "xaxis": "x",
         "y": [
          4850,
          405,
          2710,
          3406
         ],
         "yaxis": "y"
        },
        {
         "hovertemplate": "operating_airline=World Airways<br>period=%{x}<br>lbs=%{y}<extra></extra>",
         "legendgroup": "World Airways",
         "line": {
          "color": "#19d3f3",
          "dash": "solid"
         },
         "marker": {
          "symbol": "circle"
         },
         "mode": "lines+markers",
         "name": "World Airways",
         "showlegend": true,
         "type": "scattergl",
         "x": [
          2002,
          2003,
          2004,
          2010,
          2011,
          2012
         ],
         "xaxis": "x",
         "y": [
          1080,
          338657,
          518855,
          1876752,
          14380017,
          38369960
         ],
         "yaxis": "y"
        },
        {
         "hovertemplate": "operating_airline=Active Aero Charter<br>period=%{x}<br>lbs=%{y}<extra></extra>",
         "legendgroup": "Active Aero Charter",
         "line": {
          "color": "#FF6692",
          "dash": "solid"
         },
         "marker": {
          "symbol": "circle"
         },
         "mode": "lines+markers",
         "name": "Active Aero Charter",
         "showlegend": true,
         "type": "scattergl",
         "x": [
          2003
         ],
         "xaxis": "x",
         "y": [
          555052
         ],
         "yaxis": "y"
        },
        {
         "hovertemplate": "operating_airline=All Canada Express<br>period=%{x}<br>lbs=%{y}<extra></extra>",
         "legendgroup": "All Canada Express",
         "line": {
          "color": "#B6E880",
          "dash": "solid"
         },
         "marker": {
          "symbol": "circle"
         },
         "mode": "lines+markers",
         "name": "All Canada Express",
         "showlegend": true,
         "type": "scattergl",
         "x": [
          2003
         ],
         "xaxis": "x",
         "y": [
          120000
         ],
         "yaxis": "y"
        },
        {
         "hovertemplate": "operating_airline=Astar Air Cargo<br>period=%{x}<br>lbs=%{y}<extra></extra>",
         "legendgroup": "Astar Air Cargo",
         "line": {
          "color": "#FF97FF",
          "dash": "solid"
         },
         "marker": {
          "symbol": "circle"
         },
         "mode": "lines+markers",
         "name": "Astar Air Cargo",
         "showlegend": true,
         "type": "scattergl",
         "x": [
          2003,
          2004,
          2005,
          2006,
          2007,
          2008,
          2010
         ],
         "xaxis": "x",
         "y": [
          2789511,
          39932990,
          46272302,
          12316459,
          5347123,
          2946828,
          41429
         ],
         "yaxis": "y"
        },
        {
         "hovertemplate": "operating_airline=China Cargo Airlines<br>period=%{x}<br>lbs=%{y}<extra></extra>",
         "legendgroup": "China Cargo Airlines",
         "line": {
          "color": "#FECB52",
          "dash": "solid"
         },
         "marker": {
          "symbol": "circle"
         },
         "mode": "lines+markers",
         "name": "China Cargo Airlines",
         "showlegend": true,
         "type": "scattergl",
         "x": [
          2003,
          2004,
          2005,
          2006,
          2007,
          2008,
          2009
         ],
         "xaxis": "x",
         "y": [
          4075874,
          9961437,
          11075416,
          15159544,
          12423025,
          8545496,
          1215379
         ],
         "yaxis": "y"
        },
        {
         "hovertemplate": "operating_airline=Expressnet Airlines<br>period=%{x}<br>lbs=%{y}<extra></extra>",
         "legendgroup": "Expressnet Airlines",
         "line": {
          "color": "#636efa",
          "dash": "solid"
         },
         "marker": {
          "symbol": "circle"
         },
         "mode": "lines+markers",
         "name": "Expressnet Airlines",
         "showlegend": true,
         "type": "scattergl",
         "x": [
          2003
         ],
         "xaxis": "x",
         "y": [
          75311
         ],
         "yaxis": "y"
        },
        {
         "hovertemplate": "operating_airline=ABX Air<br>period=%{x}<br>lbs=%{y}<extra></extra>",
         "legendgroup": "ABX Air",
         "line": {
          "color": "#EF553B",
          "dash": "solid"
         },
         "marker": {
          "symbol": "circle"
         },
         "mode": "lines+markers",
         "name": "ABX Air",
         "showlegend": true,
         "type": "scattergl",
         "x": [
          2004,
          2005,
          2006,
          2007,
          2008,
          2009,
          2010,
          2011,
          2012,
          2013,
          2014,
          2015,
          2017,
          2019,
          2021,
          2022,
          2023,
          2024
         ],
         "xaxis": "x",
         "y": [
          909865,
          8158608,
          53678359,
          52068684,
          49590008,
          44879774,
          52423693,
          55108810,
          34068199,
          28490857,
          49467516,
          16488155,
          103525,
          76338,
          32308375,
          55790695,
          50229560,
          12830235
         ],
         "yaxis": "y"
        },
        {
         "hovertemplate": "operating_airline=Air New Zealand<br>period=%{x}<br>lbs=%{y}<extra></extra>",
         "legendgroup": "Air New Zealand",
         "line": {
          "color": "#00cc96",
          "dash": "solid"
         },
         "marker": {
          "symbol": "circle"
         },
         "mode": "lines+markers",
         "name": "Air New Zealand",
         "showlegend": true,
         "type": "scattergl",
         "x": [
          2004,
          2005,
          2006,
          2007,
          2008,
          2009,
          2010,
          2011,
          2012,
          2013,
          2014,
          2015,
          2016,
          2017,
          2018,
          2019,
          2020,
          2021,
          2022,
          2023,
          2024
         ],
         "xaxis": "x",
         "y": [
          3130132,
          6051865,
          11951325,
          13645839,
          12011733,
          8401302,
          11208312,
          10716883,
          10118577,
          10352458,
          16071154,
          15343998,
          8655000,
          9131158,
          10755835,
          8119105,
          6236955,
          4698663,
          3500567,
          10176932,
          5229413
         ],
         "yaxis": "y"
        },
        {
         "hovertemplate": "operating_airline=American Eagle Airlines<br>period=%{x}<br>lbs=%{y}<extra></extra>",
         "legendgroup": "American Eagle Airlines",
         "line": {
          "color": "#ab63fa",
          "dash": "solid"
         },
         "marker": {
          "symbol": "circle"
         },
         "mode": "lines+markers",
         "name": "American Eagle Airlines",
         "showlegend": true,
         "type": "scattergl",
         "x": [
          2004,
          2006,
          2007,
          2008
         ],
         "xaxis": "x",
         "y": [
          26,
          63,
          320,
          347
         ],
         "yaxis": "y"
        },
        {
         "hovertemplate": "operating_airline=Comair<br>period=%{x}<br>lbs=%{y}<extra></extra>",
         "legendgroup": "Comair",
         "line": {
          "color": "#FFA15A",
          "dash": "solid"
         },
         "marker": {
          "symbol": "circle"
         },
         "mode": "lines+markers",
         "name": "Comair",
         "showlegend": true,
         "type": "scattergl",
         "x": [
          2004,
          2005
         ],
         "xaxis": "x",
         "y": [
          3419,
          1020
         ],
         "yaxis": "y"
        },
        {
         "hovertemplate": "operating_airline=Southern Air<br>period=%{x}<br>lbs=%{y}<extra></extra>",
         "legendgroup": "Southern Air",
         "line": {
          "color": "#19d3f3",
          "dash": "solid"
         },
         "marker": {
          "symbol": "circle"
         },
         "mode": "lines+markers",
         "name": "Southern Air",
         "showlegend": true,
         "type": "scattergl",
         "x": [
          2004,
          2005,
          2006,
          2007,
          2008,
          2009,
          2010,
          2011,
          2012,
          2013,
          2014
         ],
         "xaxis": "x",
         "y": [
          2366374,
          2991232,
          2318532,
          3738111,
          3500458,
          1329849,
          723458,
          104092,
          10318491,
          7253148,
          29136
         ],
         "yaxis": "y"
        },
        {
         "hovertemplate": "operating_airline=Atlantic Southeast Airlines<br>period=%{x}<br>lbs=%{y}<extra></extra>",
         "legendgroup": "Atlantic Southeast Airlines",
         "line": {
          "color": "#FF6692",
          "dash": "solid"
         },
         "marker": {
          "symbol": "circle"
         },
         "mode": "lines+markers",
         "name": "Atlantic Southeast Airlines",
         "showlegend": true,
         "type": "scattergl",
         "x": [
          2005
         ],
         "xaxis": "x",
         "y": [
          214
         ],
         "yaxis": "y"
        },
        {
         "hovertemplate": "operating_airline=Icelandair<br>period=%{x}<br>lbs=%{y}<extra></extra>",
         "legendgroup": "Icelandair",
         "line": {
          "color": "#B6E880",
          "dash": "solid"
         },
         "marker": {
          "symbol": "circle"
         },
         "mode": "lines+markers",
         "name": "Icelandair",
         "showlegend": true,
         "type": "scattergl",
         "x": [
          2005,
          2006,
          2018,
          2019,
          2020
         ],
         "xaxis": "x",
         "y": [
          414195,
          242119,
          1416345,
          2131846,
          4621
         ],
         "yaxis": "y"
        },
        {
         "hovertemplate": "operating_airline=Air Canada Jazz<br>period=%{x}<br>lbs=%{y}<extra></extra>",
         "legendgroup": "Air Canada Jazz",
         "line": {
          "color": "#FF97FF",
          "dash": "solid"
         },
         "marker": {
          "symbol": "circle"
         },
         "mode": "lines+markers",
         "name": "Air Canada Jazz",
         "showlegend": true,
         "type": "scattergl",
         "x": [
          2006
         ],
         "xaxis": "x",
         "y": [
          35
         ],
         "yaxis": "y"
        },
        {
         "hovertemplate": "operating_airline=Qantas Airways<br>period=%{x}<br>lbs=%{y}<extra></extra>",
         "legendgroup": "Qantas Airways",
         "line": {
          "color": "#FECB52",
          "dash": "solid"
         },
         "marker": {
          "symbol": "circle"
         },
         "mode": "lines+markers",
         "name": "Qantas Airways",
         "showlegend": true,
         "type": "scattergl",
         "x": [
          2006,
          2007,
          2008,
          2009,
          2010,
          2011,
          2015,
          2016,
          2017,
          2018,
          2019,
          2020,
          2023,
          2024
         ],
         "xaxis": "x",
         "y": [
          2330916,
          5414173,
          5738508,
          5744015,
          5971618,
          1130192,
          70271,
          4859315,
          6331192,
          7585545,
          10471769,
          2101057,
          1664315,
          1363066
         ],
         "yaxis": "y"
        },
        {
         "hovertemplate": "operating_airline=Aer Lingus<br>period=%{x}<br>lbs=%{y}<extra></extra>",
         "legendgroup": "Aer Lingus",
         "line": {
          "color": "#636efa",
          "dash": "solid"
         },
         "marker": {
          "symbol": "circle"
         },
         "mode": "lines+markers",
         "name": "Aer Lingus",
         "showlegend": true,
         "type": "scattergl",
         "x": [
          2007,
          2008,
          2009,
          2014,
          2015,
          2016,
          2017,
          2018,
          2019,
          2020,
          2021,
          2022,
          2023,
          2024
         ],
         "xaxis": "x",
         "y": [
          578031,
          4272694,
          3003210,
          3444604,
          5835077,
          4087474,
          4141455,
          3942658,
          3752393,
          1267346,
          73458,
          2319319,
          2105717,
          751246
         ],
         "yaxis": "y"
        },
        {
         "hovertemplate": "operating_airline=Focus Air<br>period=%{x}<br>lbs=%{y}<extra></extra>",
         "legendgroup": "Focus Air",
         "line": {
          "color": "#EF553B",
          "dash": "solid"
         },
         "marker": {
          "symbol": "circle"
         },
         "mode": "lines+markers",
         "name": "Focus Air",
         "showlegend": true,
         "type": "scattergl",
         "x": [
          2007
         ],
         "xaxis": "x",
         "y": [
          5240952
         ],
         "yaxis": "y"
        },
        {
         "hovertemplate": "operating_airline=JetBlue Airways<br>period=%{x}<br>lbs=%{y}<extra></extra>",
         "legendgroup": "JetBlue Airways",
         "line": {
          "color": "#00cc96",
          "dash": "solid"
         },
         "marker": {
          "symbol": "circle"
         },
         "mode": "lines+markers",
         "name": "JetBlue Airways",
         "showlegend": true,
         "type": "scattergl",
         "x": [
          2007,
          2008,
          2009,
          2010,
          2011,
          2012,
          2013,
          2014,
          2015,
          2021,
          2022,
          2023,
          2024
         ],
         "xaxis": "x",
         "y": [
          256959,
          412713,
          448633,
          997340,
          524767,
          446905,
          646097,
          627331,
          631202,
          335752,
          343592,
          15369,
          17619
         ],
         "yaxis": "y"
        },
        {
         "hovertemplate": "operating_airline=Virgin America<br>period=%{x}<br>lbs=%{y}<extra></extra>",
         "legendgroup": "Virgin America",
         "line": {
          "color": "#ab63fa",
          "dash": "solid"
         },
         "marker": {
          "symbol": "circle"
         },
         "mode": "lines+markers",
         "name": "Virgin America",
         "showlegend": true,
         "type": "scattergl",
         "x": [
          2007,
          2008
         ],
         "xaxis": "x",
         "y": [
          41684,
          24863
         ],
         "yaxis": "y"
        },
        {
         "hovertemplate": "operating_airline=Emirates<br>period=%{x}<br>lbs=%{y}<extra></extra>",
         "legendgroup": "Emirates",
         "line": {
          "color": "#FFA15A",
          "dash": "solid"
         },
         "marker": {
          "symbol": "circle"
         },
         "mode": "lines+markers",
         "name": "Emirates",
         "showlegend": true,
         "type": "scattergl",
         "x": [
          2008,
          2009,
          2010,
          2011,
          2012,
          2013,
          2014,
          2015,
          2016,
          2017,
          2018,
          2019,
          2020,
          2021,
          2022,
          2023,
          2024
         ],
         "xaxis": "x",
         "y": [
          138416,
          7719811,
          5830264,
          4230017,
          3687876,
          3248372,
          2779584,
          7569105,
          7885150,
          11285745,
          11901223,
          7880507,
          1486571,
          9536437,
          4662061,
          4200315,
          1158573
         ],
         "yaxis": "y"
        },
        {
         "hovertemplate": "operating_airline=Jet Airways<br>period=%{x}<br>lbs=%{y}<extra></extra>",
         "legendgroup": "Jet Airways",
         "line": {
          "color": "#19d3f3",
          "dash": "solid"
         },
         "marker": {
          "symbol": "circle"
         },
         "mode": "lines+markers",
         "name": "Jet Airways",
         "showlegend": true,
         "type": "scattergl",
         "x": [
          2008,
          2009
         ],
         "xaxis": "x",
         "y": [
          3176323,
          69682
         ],
         "yaxis": "y"
        },
        {
         "hovertemplate": "operating_airline=Aeromexico<br>period=%{x}<br>lbs=%{y}<extra></extra>",
         "legendgroup": "Aeromexico",
         "line": {
          "color": "#FF6692",
          "dash": "solid"
         },
         "marker": {
          "symbol": "circle"
         },
         "mode": "lines+markers",
         "name": "Aeromexico",
         "showlegend": true,
         "type": "scattergl",
         "x": [
          2009,
          2010
         ],
         "xaxis": "x",
         "y": [
          1588,
          1889
         ],
         "yaxis": "y"
        },
        {
         "hovertemplate": "operating_airline=EAGLE<br>period=%{x}<br>lbs=%{y}<extra></extra>",
         "legendgroup": "EAGLE",
         "line": {
          "color": "#B6E880",
          "dash": "solid"
         },
         "marker": {
          "symbol": "circle"
         },
         "mode": "lines+markers",
         "name": "EAGLE",
         "showlegend": true,
         "type": "scattergl",
         "x": [
          2009
         ],
         "xaxis": "x",
         "y": [
          40000
         ],
         "yaxis": "y"
        },
        {
         "hovertemplate": "operating_airline=Air Berlin<br>period=%{x}<br>lbs=%{y}<extra></extra>",
         "legendgroup": "Air Berlin",
         "line": {
          "color": "#FF97FF",
          "dash": "solid"
         },
         "marker": {
          "symbol": "circle"
         },
         "mode": "lines+markers",
         "name": "Air Berlin",
         "showlegend": true,
         "type": "scattergl",
         "x": [
          2010,
          2011,
          2012,
          2016,
          2017
         ],
         "xaxis": "x",
         "y": [
          948082,
          854005,
          609228,
          769307,
          1034232
         ],
         "yaxis": "y"
        },
        {
         "hovertemplate": "operating_airline=Air Cargo Carriers<br>period=%{x}<br>lbs=%{y}<extra></extra>",
         "legendgroup": "Air Cargo Carriers",
         "line": {
          "color": "#FECB52",
          "dash": "solid"
         },
         "marker": {
          "symbol": "circle"
         },
         "mode": "lines+markers",
         "name": "Air Cargo Carriers",
         "showlegend": true,
         "type": "scattergl",
         "x": [
          2010,
          2011,
          2012,
          2013,
          2014,
          2015
         ],
         "xaxis": "x",
         "y": [
          1994840,
          2127733,
          2075809,
          2370284,
          2335310,
          2015029
         ],
         "yaxis": "y"
        },
        {
         "hovertemplate": "operating_airline=LAN Peru<br>period=%{x}<br>lbs=%{y}<extra></extra>",
         "legendgroup": "LAN Peru",
         "line": {
          "color": "#636efa",
          "dash": "solid"
         },
         "marker": {
          "symbol": "circle"
         },
         "mode": "lines+markers",
         "name": "LAN Peru",
         "showlegend": true,
         "type": "scattergl",
         "x": [
          2010,
          2011,
          2012,
          2013,
          2014
         ],
         "xaxis": "x",
         "y": [
          4347028,
          7133163,
          6810639,
          6204334,
          1421021
         ],
         "yaxis": "y"
        },
        {
         "hovertemplate": "operating_airline=Republic Airlines<br>period=%{x}<br>lbs=%{y}<extra></extra>",
         "legendgroup": "Republic Airlines",
         "line": {
          "color": "#EF553B",
          "dash": "solid"
         },
         "marker": {
          "symbol": "circle"
         },
         "mode": "lines+markers",
         "name": "Republic Airlines",
         "showlegend": true,
         "type": "scattergl",
         "x": [
          2010
         ],
         "xaxis": "x",
         "y": [
          21813
         ],
         "yaxis": "y"
        },
        {
         "hovertemplate": "operating_airline=Swiss International<br>period=%{x}<br>lbs=%{y}<extra></extra>",
         "legendgroup": "Swiss International",
         "line": {
          "color": "#00cc96",
          "dash": "solid"
         },
         "marker": {
          "symbol": "circle"
         },
         "mode": "lines+markers",
         "name": "Swiss International",
         "showlegend": true,
         "type": "scattergl",
         "x": [
          2010,
          2011,
          2012,
          2013,
          2014,
          2015,
          2016,
          2017,
          2018,
          2019,
          2020,
          2021,
          2022,
          2023,
          2024
         ],
         "xaxis": "x",
         "y": [
          5644640,
          6201433,
          6411874,
          6750008,
          6848691,
          7044164,
          7271186,
          8053706,
          17615491,
          15253277,
          4530521,
          10856375,
          14946126,
          11401209,
          4627469
         ],
         "yaxis": "y"
        },
        {
         "hovertemplate": "operating_airline=Swissport USA<br>period=%{x}<br>lbs=%{y}<extra></extra>",
         "legendgroup": "Swissport USA",
         "line": {
          "color": "#ab63fa",
          "dash": "solid"
         },
         "marker": {
          "symbol": "circle"
         },
         "mode": "lines+markers",
         "name": "Swissport USA",
         "showlegend": true,
         "type": "scattergl",
         "x": [
          2010,
          2013,
          2014,
          2017,
          2018,
          2020,
          2021
         ],
         "xaxis": "x",
         "y": [
          4000,
          1540997,
          35064,
          947915,
          60000,
          290777,
          313772
         ],
         "yaxis": "y"
        },
        {
         "hovertemplate": "operating_airline=ASTAR USA<br>period=%{x}<br>lbs=%{y}<extra></extra>",
         "legendgroup": "ASTAR USA",
         "line": {
          "color": "#FFA15A",
          "dash": "solid"
         },
         "marker": {
          "symbol": "circle"
         },
         "mode": "lines+markers",
         "name": "ASTAR USA",
         "showlegend": true,
         "type": "scattergl",
         "x": [
          2011,
          2012
         ],
         "xaxis": "x",
         "y": [
          996328,
          1454657
         ],
         "yaxis": "y"
        },
        {
         "hovertemplate": "operating_airline=Air Transport International<br>period=%{x}<br>lbs=%{y}<extra></extra>",
         "legendgroup": "Air Transport International",
         "line": {
          "color": "#19d3f3",
          "dash": "solid"
         },
         "marker": {
          "symbol": "circle"
         },
         "mode": "lines+markers",
         "name": "Air Transport International",
         "showlegend": true,
         "type": "scattergl",
         "x": [
          2011,
          2013,
          2020,
          2021,
          2022,
          2023,
          2024
         ],
         "xaxis": "x",
         "y": [
          1833252,
          148861,
          98935622,
          88680165,
          76935265,
          103279742,
          34638373
         ],
         "yaxis": "y"
        },
        {
         "hovertemplate": "operating_airline=Mesaba Airlines<br>period=%{x}<br>lbs=%{y}<extra></extra>",
         "legendgroup": "Mesaba Airlines",
         "line": {
          "color": "#FF6692",
          "dash": "solid"
         },
         "marker": {
          "symbol": "circle"
         },
         "mode": "lines+markers",
         "name": "Mesaba Airlines",
         "showlegend": true,
         "type": "scattergl",
         "x": [
          2011
         ],
         "xaxis": "x",
         "y": [
          97
         ],
         "yaxis": "y"
        },
        {
         "hovertemplate": "operating_airline=China Eastern<br>period=%{x}<br>lbs=%{y}<extra></extra>",
         "legendgroup": "China Eastern",
         "line": {
          "color": "#B6E880",
          "dash": "solid"
         },
         "marker": {
          "symbol": "circle"
         },
         "mode": "lines+markers",
         "name": "China Eastern",
         "showlegend": true,
         "type": "scattergl",
         "x": [
          2013,
          2014,
          2015,
          2016,
          2017,
          2018,
          2019,
          2020,
          2021,
          2022,
          2023,
          2024
         ],
         "xaxis": "x",
         "y": [
          3034739,
          6202614,
          6769244,
          12535952,
          12350165,
          11294837,
          12901005,
          5792908,
          7871361,
          3257103,
          883659,
          2244578
         ],
         "yaxis": "y"
        },
        {
         "hovertemplate": "operating_airline=SAS Airlines<br>period=%{x}<br>lbs=%{y}<extra></extra>",
         "legendgroup": "SAS Airlines",
         "line": {
          "color": "#FF97FF",
          "dash": "solid"
         },
         "marker": {
          "symbol": "circle"
         },
         "mode": "lines+markers",
         "name": "SAS Airlines",
         "showlegend": true,
         "type": "scattergl",
         "x": [
          2013,
          2014,
          2015,
          2016,
          2017,
          2018,
          2019,
          2020,
          2021,
          2022,
          2023,
          2024
         ],
         "xaxis": "x",
         "y": [
          9853195,
          14782997,
          17367121,
          17607262,
          17226743,
          16218064,
          13194522,
          4673255,
          9225740,
          7975673,
          7341287,
          3228223
         ],
         "yaxis": "y"
        },
        {
         "hovertemplate": "operating_airline=Total Airport Services<br>period=%{x}<br>lbs=%{y}<extra></extra>",
         "legendgroup": "Total Airport Services",
         "line": {
          "color": "#FECB52",
          "dash": "solid"
         },
         "marker": {
          "symbol": "circle"
         },
         "mode": "lines+markers",
         "name": "Total Airport Services",
         "showlegend": true,
         "type": "scattergl",
         "x": [
          2013,
          2017,
          2018
         ],
         "xaxis": "x",
         "y": [
          663566,
          200356,
          859531
         ],
         "yaxis": "y"
        },
        {
         "hovertemplate": "operating_airline=China Southern<br>period=%{x}<br>lbs=%{y}<extra></extra>",
         "legendgroup": "China Southern",
         "line": {
          "color": "#636efa",
          "dash": "solid"
         },
         "marker": {
          "symbol": "circle"
         },
         "mode": "lines+markers",
         "name": "China Southern",
         "showlegend": true,
         "type": "scattergl",
         "x": [
          2014,
          2015,
          2016,
          2017,
          2018,
          2019,
          2020,
          2021,
          2022,
          2023,
          2024
         ],
         "xaxis": "x",
         "y": [
          73506,
          1490486,
          3780016,
          11034828,
          14234579,
          10778466,
          6522429,
          12232325,
          2062167,
          321969,
          674477
         ],
         "yaxis": "y"
        },
        {
         "hovertemplate": "operating_airline=Etihad Airways<br>period=%{x}<br>lbs=%{y}<extra></extra>",
         "legendgroup": "Etihad Airways",
         "line": {
          "color": "#EF553B",
          "dash": "solid"
         },
         "marker": {
          "symbol": "circle"
         },
         "mode": "lines+markers",
         "name": "Etihad Airways",
         "showlegend": true,
         "type": "scattergl",
         "x": [
          2014,
          2015,
          2016,
          2017
         ],
         "xaxis": "x",
         "y": [
          439206,
          3033659,
          6097605,
          2679170
         ],
         "yaxis": "y"
        },
        {
         "hovertemplate": "operating_airline=United Parcel Service<br>period=%{x}<br>lbs=%{y}<extra></extra>",
         "legendgroup": "United Parcel Service",
         "line": {
          "color": "#00cc96",
          "dash": "solid"
         },
         "marker": {
          "symbol": "circle"
         },
         "mode": "lines+markers",
         "name": "United Parcel Service",
         "showlegend": true,
         "type": "scattergl",
         "x": [
          2014
         ],
         "xaxis": "x",
         "y": [
          2586865
         ],
         "yaxis": "y"
        },
        {
         "hovertemplate": "operating_airline=COPA Airlines<br>period=%{x}<br>lbs=%{y}<extra></extra>",
         "legendgroup": "COPA Airlines",
         "line": {
          "color": "#ab63fa",
          "dash": "solid"
         },
         "marker": {
          "symbol": "circle"
         },
         "mode": "lines+markers",
         "name": "COPA Airlines",
         "showlegend": true,
         "type": "scattergl",
         "x": [
          2015,
          2016,
          2017,
          2018,
          2019,
          2020,
          2021,
          2022,
          2023,
          2024
         ],
         "xaxis": "x",
         "y": [
          114957,
          110509,
          60072,
          156663,
          142002,
          9566,
          74233,
          737664,
          378184,
          96154
         ],
         "yaxis": "y"
        },
        {
         "hovertemplate": "operating_airline=Compass Airlines<br>period=%{x}<br>lbs=%{y}<extra></extra>",
         "legendgroup": "Compass Airlines",
         "line": {
          "color": "#FFA15A",
          "dash": "solid"
         },
         "marker": {
          "symbol": "circle"
         },
         "mode": "lines+markers",
         "name": "Compass Airlines",
         "showlegend": true,
         "type": "scattergl",
         "x": [
          2015,
          2016,
          2017,
          2018,
          2019,
          2020
         ],
         "xaxis": "x",
         "y": [
          51169,
          28108,
          64018,
          17509,
          9768,
          1809
         ],
         "yaxis": "y"
        },
        {
         "hovertemplate": "operating_airline=Turkish Airlines<br>period=%{x}<br>lbs=%{y}<extra></extra>",
         "legendgroup": "Turkish Airlines",
         "line": {
          "color": "#19d3f3",
          "dash": "solid"
         },
         "marker": {
          "symbol": "circle"
         },
         "mode": "lines+markers",
         "name": "Turkish Airlines",
         "showlegend": true,
         "type": "scattergl",
         "x": [
          2015,
          2016,
          2017,
          2018,
          2019,
          2020,
          2021,
          2022,
          2023,
          2024
         ],
         "xaxis": "x",
         "y": [
          4441936,
          8533997,
          12226469,
          14595759,
          12225622,
          6498308,
          13861699,
          15306681,
          14352229,
          4813461
         ],
         "yaxis": "y"
        },
        {
         "hovertemplate": "operating_airline=Air India<br>period=%{x}<br>lbs=%{y}<extra></extra>",
         "legendgroup": "Air India",
         "line": {
          "color": "#FF6692",
          "dash": "solid"
         },
         "marker": {
          "symbol": "circle"
         },
         "mode": "lines+markers",
         "name": "Air India",
         "showlegend": true,
         "type": "scattergl",
         "x": [
          2016,
          2017,
          2018,
          2019,
          2020,
          2021,
          2022,
          2023,
          2024
         ],
         "xaxis": "x",
         "y": [
          59871,
          407634,
          7105203,
          8737537,
          3537873,
          3704622,
          2612800,
          4580735,
          3046070
         ],
         "yaxis": "y"
        },
        {
         "hovertemplate": "operating_airline=Air Pacific  dba Fiji Airways<br>period=%{x}<br>lbs=%{y}<extra></extra>",
         "legendgroup": "Air Pacific  dba Fiji Airways",
         "line": {
          "color": "#B6E880",
          "dash": "solid"
         },
         "marker": {
          "symbol": "circle"
         },
         "mode": "lines+markers",
         "name": "Air Pacific  dba Fiji Airways",
         "showlegend": true,
         "type": "scattergl",
         "x": [
          2016,
          2017,
          2018,
          2019,
          2020,
          2021,
          2022,
          2023,
          2024
         ],
         "xaxis": "x",
         "y": [
          74345,
          708367,
          750928,
          1241083,
          100822,
          140512,
          3927774,
          2424503,
          867208
         ],
         "yaxis": "y"
        },
        {
         "hovertemplate": "operating_airline=Redding Aero Enterprises<br>period=%{x}<br>lbs=%{y}<extra></extra>",
         "legendgroup": "Redding Aero Enterprises",
         "line": {
          "color": "#FF97FF",
          "dash": "solid"
         },
         "marker": {
          "symbol": "circle"
         },
         "mode": "lines+markers",
         "name": "Redding Aero Enterprises",
         "showlegend": true,
         "type": "scattergl",
         "x": [
          2016,
          2017,
          2018
         ],
         "xaxis": "x",
         "y": [
          424402,
          574322,
          390615
         ],
         "yaxis": "y"
        },
        {
         "hovertemplate": "operating_airline=WOW Air<br>period=%{x}<br>lbs=%{y}<extra></extra>",
         "legendgroup": "WOW Air",
         "line": {
          "color": "#FECB52",
          "dash": "solid"
         },
         "marker": {
          "symbol": "circle"
         },
         "mode": "lines+markers",
         "name": "WOW Air",
         "showlegend": true,
         "type": "scattergl",
         "x": [
          2016,
          2017,
          2018
         ],
         "xaxis": "x",
         "y": [
          279839,
          1718894,
          1786899
         ],
         "yaxis": "y"
        },
        {
         "hovertemplate": "operating_airline=French Bee<br>period=%{x}<br>lbs=%{y}<extra></extra>",
         "legendgroup": "French Bee",
         "line": {
          "color": "#636efa",
          "dash": "solid"
         },
         "marker": {
          "symbol": "circle"
         },
         "mode": "lines+markers",
         "name": "French Bee",
         "showlegend": true,
         "type": "scattergl",
         "x": [
          2018,
          2019,
          2020,
          2021,
          2022,
          2023,
          2024
         ],
         "xaxis": "x",
         "y": [
          26605,
          281588,
          37805,
          213798,
          639811,
          359735,
          152707
         ],
         "yaxis": "y"
        },
        {
         "hovertemplate": "operating_airline=Hong Kong Airlines<br>period=%{x}<br>lbs=%{y}<extra></extra>",
         "legendgroup": "Hong Kong Airlines",
         "line": {
          "color": "#EF553B",
          "dash": "solid"
         },
         "marker": {
          "symbol": "circle"
         },
         "mode": "lines+markers",
         "name": "Hong Kong Airlines",
         "showlegend": true,
         "type": "scattergl",
         "x": [
          2018,
          2019
         ],
         "xaxis": "x",
         "y": [
          1837740,
          2053401
         ],
         "yaxis": "y"
        },
        {
         "hovertemplate": "operating_airline=Iberia<br>period=%{x}<br>lbs=%{y}<extra></extra>",
         "legendgroup": "Iberia",
         "line": {
          "color": "#00cc96",
          "dash": "solid"
         },
         "marker": {
          "symbol": "circle"
         },
         "mode": "lines+markers",
         "name": "Iberia",
         "showlegend": true,
         "type": "scattergl",
         "x": [
          2018,
          2019,
          2020,
          2021,
          2022,
          2023,
          2024
         ],
         "xaxis": "x",
         "y": [
          512695,
          617967,
          38913,
          180646,
          605582,
          612234,
          143698
         ],
         "yaxis": "y"
        },
        {
         "hovertemplate": "operating_airline=Thomas Cook Airlines<br>period=%{x}<br>lbs=%{y}<extra></extra>",
         "legendgroup": "Thomas Cook Airlines",
         "line": {
          "color": "#ab63fa",
          "dash": "solid"
         },
         "marker": {
          "symbol": "circle"
         },
         "mode": "lines+markers",
         "name": "Thomas Cook Airlines",
         "showlegend": true,
         "type": "scattergl",
         "x": [
          2018,
          2019
         ],
         "xaxis": "x",
         "y": [
          86255,
          4522
         ],
         "yaxis": "y"
        },
        {
         "hovertemplate": "operating_airline=Air Italy SPA<br>period=%{x}<br>lbs=%{y}<extra></extra>",
         "legendgroup": "Air Italy SPA",
         "line": {
          "color": "#FFA15A",
          "dash": "solid"
         },
         "marker": {
          "symbol": "circle"
         },
         "mode": "lines+markers",
         "name": "Air Italy SPA",
         "showlegend": true,
         "type": "scattergl",
         "x": [
          2019
         ],
         "xaxis": "x",
         "y": [
          925966
         ],
         "yaxis": "y"
        },
        {
         "hovertemplate": "operating_airline=El Al Israel Airlines<br>period=%{x}<br>lbs=%{y}<extra></extra>",
         "legendgroup": "El Al Israel Airlines",
         "line": {
          "color": "#19d3f3",
          "dash": "solid"
         },
         "marker": {
          "symbol": "circle"
         },
         "mode": "lines+markers",
         "name": "El Al Israel Airlines",
         "showlegend": true,
         "type": "scattergl",
         "x": [
          2019,
          2020
         ],
         "xaxis": "x",
         "y": [
          432082,
          204727
         ],
         "yaxis": "y"
        },
        {
         "hovertemplate": "operating_airline=Norwegian Air Shuttle<br>period=%{x}<br>lbs=%{y}<extra></extra>",
         "legendgroup": "Norwegian Air Shuttle",
         "line": {
          "color": "#FF6692",
          "dash": "solid"
         },
         "marker": {
          "symbol": "circle"
         },
         "mode": "lines+markers",
         "name": "Norwegian Air Shuttle",
         "showlegend": true,
         "type": "scattergl",
         "x": [
          2019,
          2020
         ],
         "xaxis": "x",
         "y": [
          403671,
          547952
         ],
         "yaxis": "y"
        },
        {
         "hovertemplate": "operating_airline=Norwegian Air UK<br>period=%{x}<br>lbs=%{y}<extra></extra>",
         "legendgroup": "Norwegian Air UK",
         "line": {
          "color": "#B6E880",
          "dash": "solid"
         },
         "marker": {
          "symbol": "circle"
         },
         "mode": "lines+markers",
         "name": "Norwegian Air UK",
         "showlegend": true,
         "type": "scattergl",
         "x": [
          2019,
          2020
         ],
         "xaxis": "x",
         "y": [
          965053,
          937510
         ],
         "yaxis": "y"
        },
        {
         "hovertemplate": "operating_airline=TAP Air Portugal<br>period=%{x}<br>lbs=%{y}<extra></extra>",
         "legendgroup": "TAP Air Portugal",
         "line": {
          "color": "#FF97FF",
          "dash": "solid"
         },
         "marker": {
          "symbol": "circle"
         },
         "mode": "lines+markers",
         "name": "TAP Air Portugal",
         "showlegend": true,
         "type": "scattergl",
         "x": [
          2019,
          2020,
          2021,
          2022,
          2023,
          2024
         ],
         "xaxis": "x",
         "y": [
          838442,
          693350,
          2903111,
          4672032,
          3496968,
          688152
         ],
         "yaxis": "y"
        },
        {
         "hovertemplate": "operating_airline=Qatar Airways<br>period=%{x}<br>lbs=%{y}<extra></extra>",
         "legendgroup": "Qatar Airways",
         "line": {
          "color": "#FECB52",
          "dash": "solid"
         },
         "marker": {
          "symbol": "circle"
         },
         "mode": "lines+markers",
         "name": "Qatar Airways",
         "showlegend": true,
         "type": "scattergl",
         "x": [
          2020,
          2021,
          2022,
          2023,
          2024
         ],
         "xaxis": "x",
         "y": [
          228728,
          11099763,
          6990858,
          5333276,
          1552198
         ],
         "yaxis": "y"
        },
        {
         "hovertemplate": "operating_airline=Vietnam Airlines<br>period=%{x}<br>lbs=%{y}<extra></extra>",
         "legendgroup": "Vietnam Airlines",
         "line": {
          "color": "#636efa",
          "dash": "solid"
         },
         "marker": {
          "symbol": "circle"
         },
         "mode": "lines+markers",
         "name": "Vietnam Airlines",
         "showlegend": true,
         "type": "scattergl",
         "x": [
          2021,
          2022,
          2023,
          2024
         ],
         "xaxis": "x",
         "y": [
          159665,
          4985758,
          3885808,
          1539165
         ],
         "yaxis": "y"
        },
        {
         "hovertemplate": "operating_airline=Condor Flugdienst<br>period=%{x}<br>lbs=%{y}<extra></extra>",
         "legendgroup": "Condor Flugdienst",
         "line": {
          "color": "#EF553B",
          "dash": "solid"
         },
         "marker": {
          "symbol": "circle"
         },
         "mode": "lines+markers",
         "name": "Condor Flugdienst",
         "showlegend": true,
         "type": "scattergl",
         "x": [
          2022,
          2023,
          2024
         ],
         "xaxis": "x",
         "y": [
          109856,
          541528,
          146357
         ],
         "yaxis": "y"
        },
        {
         "hovertemplate": "operating_airline=21 Air<br>period=%{x}<br>lbs=%{y}<extra></extra>",
         "legendgroup": "21 Air",
         "line": {
          "color": "#00cc96",
          "dash": "solid"
         },
         "marker": {
          "symbol": "circle"
         },
         "mode": "lines+markers",
         "name": "21 Air",
         "showlegend": true,
         "type": "scattergl",
         "x": [
          2023,
          2024
         ],
         "xaxis": "x",
         "y": [
          25390801,
          9609348
         ],
         "yaxis": "y"
        },
        {
         "hovertemplate": "operating_airline=ITA Airways<br>period=%{x}<br>lbs=%{y}<extra></extra>",
         "legendgroup": "ITA Airways",
         "line": {
          "color": "#ab63fa",
          "dash": "solid"
         },
         "marker": {
          "symbol": "circle"
         },
         "mode": "lines+markers",
         "name": "ITA Airways",
         "showlegend": true,
         "type": "scattergl",
         "x": [
          2023,
          2024
         ],
         "xaxis": "x",
         "y": [
          776621,
          415165
         ],
         "yaxis": "y"
        },
        {
         "hovertemplate": "operating_airline=Norse Atlantic UK<br>period=%{x}<br>lbs=%{y}<extra></extra>",
         "legendgroup": "Norse Atlantic UK",
         "line": {
          "color": "#FFA15A",
          "dash": "solid"
         },
         "marker": {
          "symbol": "circle"
         },
         "mode": "lines+markers",
         "name": "Norse Atlantic UK",
         "showlegend": true,
         "type": "scattergl",
         "x": [
          2023
         ],
         "xaxis": "x",
         "y": [
          39718
         ],
         "yaxis": "y"
        },
        {
         "hovertemplate": "operating_airline=Starlux Airlines Co<br>period=%{x}<br>lbs=%{y}<extra></extra>",
         "legendgroup": "Starlux Airlines Co",
         "line": {
          "color": "#19d3f3",
          "dash": "solid"
         },
         "marker": {
          "symbol": "circle"
         },
         "mode": "lines+markers",
         "name": "Starlux Airlines Co",
         "showlegend": true,
         "type": "scattergl",
         "x": [
          2023,
          2024
         ],
         "xaxis": "x",
         "y": [
          99362,
          2655863
         ],
         "yaxis": "y"
        },
        {
         "hovertemplate": "operating_airline=ZIPAIR Tokyo<br>period=%{x}<br>lbs=%{y}<extra></extra>",
         "legendgroup": "ZIPAIR Tokyo",
         "line": {
          "color": "#FF6692",
          "dash": "solid"
         },
         "marker": {
          "symbol": "circle"
         },
         "mode": "lines+markers",
         "name": "ZIPAIR Tokyo",
         "showlegend": true,
         "type": "scattergl",
         "x": [
          2023,
          2024
         ],
         "xaxis": "x",
         "y": [
          3865375,
          2954687
         ],
         "yaxis": "y"
        },
        {
         "hovertemplate": "operating_airline=Envoy Air<br>period=%{x}<br>lbs=%{y}<extra></extra>",
         "legendgroup": "Envoy Air",
         "line": {
          "color": "#B6E880",
          "dash": "solid"
         },
         "marker": {
          "symbol": "circle"
         },
         "mode": "lines+markers",
         "name": "Envoy Air",
         "showlegend": true,
         "type": "scattergl",
         "x": [
          2024
         ],
         "xaxis": "x",
         "y": [
          37
         ],
         "yaxis": "y"
        }
       ],
       "layout": {
        "legend": {
         "title": {
          "text": "operating_airline"
         },
         "tracegroupgap": 0
        },
        "template": {
         "data": {
          "bar": [
           {
            "error_x": {
             "color": "#2a3f5f"
            },
            "error_y": {
             "color": "#2a3f5f"
            },
            "marker": {
             "line": {
              "color": "#E5ECF6",
              "width": 0.5
             },
             "pattern": {
              "fillmode": "overlay",
              "size": 10,
              "solidity": 0.2
             }
            },
            "type": "bar"
           }
          ],
          "barpolar": [
           {
            "marker": {
             "line": {
              "color": "#E5ECF6",
              "width": 0.5
             },
             "pattern": {
              "fillmode": "overlay",
              "size": 10,
              "solidity": 0.2
             }
            },
            "type": "barpolar"
           }
          ],
          "carpet": [
           {
            "aaxis": {
             "endlinecolor": "#2a3f5f",
             "gridcolor": "white",
             "linecolor": "white",
             "minorgridcolor": "white",
             "startlinecolor": "#2a3f5f"
            },
            "baxis": {
             "endlinecolor": "#2a3f5f",
             "gridcolor": "white",
             "linecolor": "white",
             "minorgridcolor": "white",
             "startlinecolor": "#2a3f5f"
            },
            "type": "carpet"
           }
          ],
          "choropleth": [
           {
            "colorbar": {
             "outlinewidth": 0,
             "ticks": ""
            },
            "type": "choropleth"
           }
          ],
          "contour": [
           {
            "colorbar": {
             "outlinewidth": 0,
             "ticks": ""
            },
            "colorscale": [
             [
              0,
              "#0d0887"
             ],
             [
              0.1111111111111111,
              "#46039f"
             ],
             [
              0.2222222222222222,
              "#7201a8"
             ],
             [
              0.3333333333333333,
              "#9c179e"
             ],
             [
              0.4444444444444444,
              "#bd3786"
             ],
             [
              0.5555555555555556,
              "#d8576b"
             ],
             [
              0.6666666666666666,
              "#ed7953"
             ],
             [
              0.7777777777777778,
              "#fb9f3a"
             ],
             [
              0.8888888888888888,
              "#fdca26"
             ],
             [
              1,
              "#f0f921"
             ]
            ],
            "type": "contour"
           }
          ],
          "contourcarpet": [
           {
            "colorbar": {
             "outlinewidth": 0,
             "ticks": ""
            },
            "type": "contourcarpet"
           }
          ],
          "heatmap": [
           {
            "colorbar": {
             "outlinewidth": 0,
             "ticks": ""
            },
            "colorscale": [
             [
              0,
              "#0d0887"
             ],
             [
              0.1111111111111111,
              "#46039f"
             ],
             [
              0.2222222222222222,
              "#7201a8"
             ],
             [
              0.3333333333333333,
              "#9c179e"
             ],
             [
              0.4444444444444444,
              "#bd3786"
             ],
             [
              0.5555555555555556,
              "#d8576b"
             ],
             [
              0.6666666666666666,
              "#ed7953"
             ],
             [
              0.7777777777777778,
              "#fb9f3a"
             ],
             [
              0.8888888888888888,
              "#fdca26"
             ],
             [
              1,
              "#f0f921"
             ]
            ],
            "type": "heatmap"
           }
          ],
          "heatmapgl": [
           {
            "colorbar": {
             "outlinewidth": 0,
             "ticks": ""
            },
            "colorscale": [
             [
              0,
              "#0d0887"
             ],
             [
              0.1111111111111111,
              "#46039f"
             ],
             [
              0.2222222222222222,
              "#7201a8"
             ],
             [
              0.3333333333333333,
              "#9c179e"
             ],
             [
              0.4444444444444444,
              "#bd3786"
             ],
             [
              0.5555555555555556,
              "#d8576b"
             ],
             [
              0.6666666666666666,
              "#ed7953"
             ],
             [
              0.7777777777777778,
              "#fb9f3a"
             ],
             [
              0.8888888888888888,
              "#fdca26"
             ],
             [
              1,
              "#f0f921"
             ]
            ],
            "type": "heatmapgl"
           }
          ],
          "histogram": [
           {
            "marker": {
             "pattern": {
              "fillmode": "overlay",
              "size": 10,
              "solidity": 0.2
             }
            },
            "type": "histogram"
           }
          ],
          "histogram2d": [
           {
            "colorbar": {
             "outlinewidth": 0,
             "ticks": ""
            },
            "colorscale": [
             [
              0,
              "#0d0887"
             ],
             [
              0.1111111111111111,
              "#46039f"
             ],
             [
              0.2222222222222222,
              "#7201a8"
             ],
             [
              0.3333333333333333,
              "#9c179e"
             ],
             [
              0.4444444444444444,
              "#bd3786"
             ],
             [
              0.5555555555555556,
              "#d8576b"
             ],
             [
              0.6666666666666666,
              "#ed7953"
             ],
             [
              0.7777777777777778,
              "#fb9f3a"
             ],
             [
              0.8888888888888888,
              "#fdca26"
             ],
             [
              1,
              "#f0f921"
             ]
            ],
            "type": "histogram2d"
           }
          ],
          "histogram2dcontour": [
           {
            "colorbar": {
             "outlinewidth": 0,
             "ticks": ""
            },
            "colorscale": [
             [
              0,
              "#0d0887"
             ],
             [
              0.1111111111111111,
              "#46039f"
             ],
             [
              0.2222222222222222,
              "#7201a8"
             ],
             [
              0.3333333333333333,
              "#9c179e"
             ],
             [
              0.4444444444444444,
              "#bd3786"
             ],
             [
              0.5555555555555556,
              "#d8576b"
             ],
             [
              0.6666666666666666,
              "#ed7953"
             ],
             [
              0.7777777777777778,
              "#fb9f3a"
             ],
             [
              0.8888888888888888,
              "#fdca26"
             ],
             [
              1,
              "#f0f921"
             ]
            ],
            "type": "histogram2dcontour"
           }
          ],
          "mesh3d": [
           {
            "colorbar": {
             "outlinewidth": 0,
             "ticks": ""
            },
            "type": "mesh3d"
           }
          ],
          "parcoords": [
           {
            "line": {
             "colorbar": {
              "outlinewidth": 0,
              "ticks": ""
             }
            },
            "type": "parcoords"
           }
          ],
          "pie": [
           {
            "automargin": true,
            "type": "pie"
           }
          ],
          "scatter": [
           {
            "fillpattern": {
             "fillmode": "overlay",
             "size": 10,
             "solidity": 0.2
            },
            "type": "scatter"
           }
          ],
          "scatter3d": [
           {
            "line": {
             "colorbar": {
              "outlinewidth": 0,
              "ticks": ""
             }
            },
            "marker": {
             "colorbar": {
              "outlinewidth": 0,
              "ticks": ""
             }
            },
            "type": "scatter3d"
           }
          ],
          "scattercarpet": [
           {
            "marker": {
             "colorbar": {
              "outlinewidth": 0,
              "ticks": ""
             }
            },
            "type": "scattercarpet"
           }
          ],
          "scattergeo": [
           {
            "marker": {
             "colorbar": {
              "outlinewidth": 0,
              "ticks": ""
             }
            },
            "type": "scattergeo"
           }
          ],
          "scattergl": [
           {
            "marker": {
             "colorbar": {
              "outlinewidth": 0,
              "ticks": ""
             }
            },
            "type": "scattergl"
           }
          ],
          "scattermapbox": [
           {
            "marker": {
             "colorbar": {
              "outlinewidth": 0,
              "ticks": ""
             }
            },
            "type": "scattermapbox"
           }
          ],
          "scatterpolar": [
           {
            "marker": {
             "colorbar": {
              "outlinewidth": 0,
              "ticks": ""
             }
            },
            "type": "scatterpolar"
           }
          ],
          "scatterpolargl": [
           {
            "marker": {
             "colorbar": {
              "outlinewidth": 0,
              "ticks": ""
             }
            },
            "type": "scatterpolargl"
           }
          ],
          "scatterternary": [
           {
            "marker": {
             "colorbar": {
              "outlinewidth": 0,
              "ticks": ""
             }
            },
            "type": "scatterternary"
           }
          ],
          "surface": [
           {
            "colorbar": {
             "outlinewidth": 0,
             "ticks": ""
            },
            "colorscale": [
             [
              0,
              "#0d0887"
             ],
             [
              0.1111111111111111,
              "#46039f"
             ],
             [
              0.2222222222222222,
              "#7201a8"
             ],
             [
              0.3333333333333333,
              "#9c179e"
             ],
             [
              0.4444444444444444,
              "#bd3786"
             ],
             [
              0.5555555555555556,
              "#d8576b"
             ],
             [
              0.6666666666666666,
              "#ed7953"
             ],
             [
              0.7777777777777778,
              "#fb9f3a"
             ],
             [
              0.8888888888888888,
              "#fdca26"
             ],
             [
              1,
              "#f0f921"
             ]
            ],
            "type": "surface"
           }
          ],
          "table": [
           {
            "cells": {
             "fill": {
              "color": "#EBF0F8"
             },
             "line": {
              "color": "white"
             }
            },
            "header": {
             "fill": {
              "color": "#C8D4E3"
             },
             "line": {
              "color": "white"
             }
            },
            "type": "table"
           }
          ]
         },
         "layout": {
          "annotationdefaults": {
           "arrowcolor": "#2a3f5f",
           "arrowhead": 0,
           "arrowwidth": 1
          },
          "autotypenumbers": "strict",
          "coloraxis": {
           "colorbar": {
            "outlinewidth": 0,
            "ticks": ""
           }
          },
          "colorscale": {
           "diverging": [
            [
             0,
             "#8e0152"
            ],
            [
             0.1,
             "#c51b7d"
            ],
            [
             0.2,
             "#de77ae"
            ],
            [
             0.3,
             "#f1b6da"
            ],
            [
             0.4,
             "#fde0ef"
            ],
            [
             0.5,
             "#f7f7f7"
            ],
            [
             0.6,
             "#e6f5d0"
            ],
            [
             0.7,
             "#b8e186"
            ],
            [
             0.8,
             "#7fbc41"
            ],
            [
             0.9,
             "#4d9221"
            ],
            [
             1,
             "#276419"
            ]
           ],
           "sequential": [
            [
             0,
             "#0d0887"
            ],
            [
             0.1111111111111111,
             "#46039f"
            ],
            [
             0.2222222222222222,
             "#7201a8"
            ],
            [
             0.3333333333333333,
             "#9c179e"
            ],
            [
             0.4444444444444444,
             "#bd3786"
            ],
            [
             0.5555555555555556,
             "#d8576b"
            ],
            [
             0.6666666666666666,
             "#ed7953"
            ],
            [
             0.7777777777777778,
             "#fb9f3a"
            ],
            [
             0.8888888888888888,
             "#fdca26"
            ],
            [
             1,
             "#f0f921"
            ]
           ],
           "sequentialminus": [
            [
             0,
             "#0d0887"
            ],
            [
             0.1111111111111111,
             "#46039f"
            ],
            [
             0.2222222222222222,
             "#7201a8"
            ],
            [
             0.3333333333333333,
             "#9c179e"
            ],
            [
             0.4444444444444444,
             "#bd3786"
            ],
            [
             0.5555555555555556,
             "#d8576b"
            ],
            [
             0.6666666666666666,
             "#ed7953"
            ],
            [
             0.7777777777777778,
             "#fb9f3a"
            ],
            [
             0.8888888888888888,
             "#fdca26"
            ],
            [
             1,
             "#f0f921"
            ]
           ]
          },
          "colorway": [
           "#636efa",
           "#EF553B",
           "#00cc96",
           "#ab63fa",
           "#FFA15A",
           "#19d3f3",
           "#FF6692",
           "#B6E880",
           "#FF97FF",
           "#FECB52"
          ],
          "font": {
           "color": "#2a3f5f"
          },
          "geo": {
           "bgcolor": "white",
           "lakecolor": "white",
           "landcolor": "#E5ECF6",
           "showlakes": true,
           "showland": true,
           "subunitcolor": "white"
          },
          "hoverlabel": {
           "align": "left"
          },
          "hovermode": "closest",
          "mapbox": {
           "style": "light"
          },
          "paper_bgcolor": "white",
          "plot_bgcolor": "#E5ECF6",
          "polar": {
           "angularaxis": {
            "gridcolor": "white",
            "linecolor": "white",
            "ticks": ""
           },
           "bgcolor": "#E5ECF6",
           "radialaxis": {
            "gridcolor": "white",
            "linecolor": "white",
            "ticks": ""
           }
          },
          "scene": {
           "xaxis": {
            "backgroundcolor": "#E5ECF6",
            "gridcolor": "white",
            "gridwidth": 2,
            "linecolor": "white",
            "showbackground": true,
            "ticks": "",
            "zerolinecolor": "white"
           },
           "yaxis": {
            "backgroundcolor": "#E5ECF6",
            "gridcolor": "white",
            "gridwidth": 2,
            "linecolor": "white",
            "showbackground": true,
            "ticks": "",
            "zerolinecolor": "white"
           },
           "zaxis": {
            "backgroundcolor": "#E5ECF6",
            "gridcolor": "white",
            "gridwidth": 2,
            "linecolor": "white",
            "showbackground": true,
            "ticks": "",
            "zerolinecolor": "white"
           }
          },
          "shapedefaults": {
           "line": {
            "color": "#2a3f5f"
           }
          },
          "ternary": {
           "aaxis": {
            "gridcolor": "white",
            "linecolor": "white",
            "ticks": ""
           },
           "baxis": {
            "gridcolor": "white",
            "linecolor": "white",
            "ticks": ""
           },
           "bgcolor": "#E5ECF6",
           "caxis": {
            "gridcolor": "white",
            "linecolor": "white",
            "ticks": ""
           }
          },
          "title": {
           "x": 0.05
          },
          "xaxis": {
           "automargin": true,
           "gridcolor": "white",
           "linecolor": "white",
           "ticks": "",
           "title": {
            "standoff": 15
           },
           "zerolinecolor": "white",
           "zerolinewidth": 2
          },
          "yaxis": {
           "automargin": true,
           "gridcolor": "white",
           "linecolor": "white",
           "ticks": "",
           "title": {
            "standoff": 15
           },
           "zerolinecolor": "white",
           "zerolinewidth": 2
          }
         }
        },
        "title": {
         "text": "Tren Cargo (lbs) per Airline per year for All Airlines"
        },
        "xaxis": {
         "anchor": "y",
         "domain": [
          0,
          1
         ],
         "title": {
          "text": "period"
         }
        },
        "yaxis": {
         "anchor": "x",
         "domain": [
          0,
          1
         ],
         "title": {
          "text": "lbs"
         }
        }
       }
      }
     },
     "metadata": {},
     "output_type": "display_data"
    },
    {
     "data": {
      "application/vnd.plotly.v1+json": {
       "config": {
        "plotlyServerURL": "https://plot.ly"
       },
       "data": [
        {
         "hovertemplate": "Airline=Air Canada<br>Year=%{x}<br>Total lbs=%{y}<extra></extra>",
         "legendgroup": "Air Canada",
         "line": {
          "color": "#636efa",
          "dash": "solid"
         },
         "marker": {
          "symbol": "circle"
         },
         "mode": "lines+markers",
         "name": "Air Canada",
         "orientation": "v",
         "showlegend": true,
         "type": "scatter",
         "x": [
          1999,
          2000,
          2001,
          2002,
          2003,
          2004,
          2005,
          2006,
          2007,
          2008,
          2009,
          2010,
          2011,
          2012,
          2013,
          2014,
          2015,
          2016,
          2017,
          2018,
          2019,
          2020,
          2021,
          2022,
          2023,
          2024
         ],
         "xaxis": "x",
         "y": [
          5577129,
          7919110,
          5913437,
          5127439,
          3842807,
          4348061,
          3304890,
          3867202,
          3809798,
          2387038,
          1462628,
          1515647,
          1134792,
          1129692,
          1085637,
          1189622,
          3074596,
          3403850,
          4226817,
          5887444,
          6270740,
          1620408,
          285954,
          3096467,
          4021487,
          95980
         ],
         "yaxis": "y"
        },
        {
         "hovertemplate": "Airline=Air France<br>Year=%{x}<br>Total lbs=%{y}<extra></extra>",
         "legendgroup": "Air France",
         "line": {
          "color": "#EF553B",
          "dash": "solid"
         },
         "marker": {
          "symbol": "circle"
         },
         "mode": "lines+markers",
         "name": "Air France",
         "orientation": "v",
         "showlegend": true,
         "type": "scatter",
         "x": [
          1999,
          2000,
          2001,
          2002,
          2003,
          2004,
          2005,
          2006,
          2007,
          2008,
          2009,
          2010,
          2011,
          2012,
          2013,
          2014,
          2015,
          2016,
          2017,
          2018,
          2019,
          2020,
          2021,
          2022,
          2023,
          2024
         ],
         "xaxis": "x",
         "y": [
          5929778,
          13425822,
          13618652,
          10924006,
          12635718,
          13282382,
          13862913,
          12052431,
          11365577,
          10998902,
          10135708,
          12340436,
          14409106,
          13943324,
          12530959,
          10763831,
          10151468,
          11333252,
          13126045,
          12670865,
          12286271,
          6224832,
          13291781,
          13595667,
          9303431,
          2899989
         ],
         "yaxis": "y"
        },
        {
         "hovertemplate": "Airline=Alaska Airlines<br>Year=%{x}<br>Total lbs=%{y}<extra></extra>",
         "legendgroup": "Alaska Airlines",
         "line": {
          "color": "#00cc96",
          "dash": "solid"
         },
         "marker": {
          "symbol": "circle"
         },
         "mode": "lines+markers",
         "name": "Alaska Airlines",
         "orientation": "v",
         "showlegend": true,
         "type": "scatter",
         "x": [
          1999,
          2000,
          2001,
          2002,
          2003,
          2004,
          2005,
          2006,
          2007,
          2008,
          2009,
          2010,
          2011,
          2012,
          2013,
          2014,
          2015,
          2016,
          2017,
          2018,
          2019,
          2020,
          2021,
          2022,
          2023,
          2024
         ],
         "xaxis": "x",
         "y": [
          5745547,
          10853240,
          9073596,
          8575252,
          8348930,
          7972117,
          7387546,
          6503133,
          7646778,
          4811255,
          4100832,
          3883869,
          4083231,
          3683022,
          4468891,
          4128211,
          4099466,
          3805577,
          3711079,
          6023577,
          8213495,
          6385698,
          6608466,
          7630287,
          6467421,
          1293519
         ],
         "yaxis": "y"
        },
        {
         "hovertemplate": "Airline=All Nippon Company Airways<br>Year=%{x}<br>Total lbs=%{y}<extra></extra>",
         "legendgroup": "All Nippon Company Airways",
         "line": {
          "color": "#ab63fa",
          "dash": "solid"
         },
         "marker": {
          "symbol": "circle"
         },
         "mode": "lines+markers",
         "name": "All Nippon Company Airways",
         "orientation": "v",
         "showlegend": true,
         "type": "scatter",
         "x": [
          1999,
          2000,
          2001,
          2002,
          2003,
          2004,
          2005,
          2006,
          2007,
          2008,
          2009,
          2010,
          2011,
          2012,
          2013,
          2014,
          2015,
          2016,
          2017,
          2018,
          2019,
          2020,
          2021,
          2022,
          2023,
          2024
         ],
         "xaxis": "x",
         "y": [
          7263457,
          15263610,
          10812040,
          16225659,
          17063901,
          17560878,
          16914772,
          19973226,
          24200082,
          25838041,
          25264371,
          26242507,
          26444361,
          25000617,
          24236402,
          24775012,
          25284803,
          23452659,
          31783086,
          23762277,
          21355548,
          18881551,
          51685148,
          44084654,
          38104675,
          11452562
         ],
         "yaxis": "y"
        },
        {
         "hovertemplate": "Airline=American Airlines<br>Year=%{x}<br>Total lbs=%{y}<extra></extra>",
         "legendgroup": "American Airlines",
         "line": {
          "color": "#FFA15A",
          "dash": "solid"
         },
         "marker": {
          "symbol": "circle"
         },
         "mode": "lines+markers",
         "name": "American Airlines",
         "orientation": "v",
         "showlegend": true,
         "type": "scatter",
         "x": [
          1999,
          2000,
          2001,
          2002,
          2003,
          2004,
          2005,
          2006,
          2007,
          2008,
          2009,
          2010,
          2011,
          2012,
          2013,
          2014,
          2015,
          2016,
          2017,
          2018,
          2019,
          2020,
          2021,
          2022,
          2023,
          2024
         ],
         "xaxis": "x",
         "y": [
          49255202,
          105077825,
          81604524,
          72332621,
          71919286,
          67319165,
          71103913,
          78157763,
          69366014,
          59233155,
          46409345,
          40073259,
          26401787,
          29522214,
          32492195,
          25440188,
          17243504,
          19938185,
          23096907,
          23985925,
          16029713,
          13018911,
          10590297,
          6512401,
          2606341,
          570784
         ],
         "yaxis": "y"
        },
        {
         "hovertemplate": "Airline=Asiana Airlines<br>Year=%{x}<br>Total lbs=%{y}<extra></extra>",
         "legendgroup": "Asiana Airlines",
         "line": {
          "color": "#19d3f3",
          "dash": "solid"
         },
         "marker": {
          "symbol": "circle"
         },
         "mode": "lines+markers",
         "name": "Asiana Airlines",
         "orientation": "v",
         "showlegend": true,
         "type": "scatter",
         "x": [
          1999,
          2000,
          2001,
          2002,
          2003,
          2004,
          2005,
          2006,
          2007,
          2008,
          2009,
          2010,
          2011,
          2012,
          2013,
          2014,
          2015,
          2016,
          2017,
          2018,
          2019,
          2020,
          2021,
          2022,
          2023,
          2024
         ],
         "xaxis": "x",
         "y": [
          21170469,
          47569993,
          29554709,
          33630891,
          34719808,
          32102932,
          33178696,
          41726420,
          42370026,
          37803488,
          35413027,
          61775238,
          39419821,
          17350332,
          34281660,
          35195853,
          34631398,
          29230520,
          21649287,
          40786070,
          26651537,
          35091541,
          46057892,
          41542949,
          31329431,
          7250648
         ],
         "yaxis": "y"
        },
        {
         "hovertemplate": "Airline=British Airways<br>Year=%{x}<br>Total lbs=%{y}<extra></extra>",
         "legendgroup": "British Airways",
         "line": {
          "color": "#FF6692",
          "dash": "solid"
         },
         "marker": {
          "symbol": "circle"
         },
         "mode": "lines+markers",
         "name": "British Airways",
         "orientation": "v",
         "showlegend": true,
         "type": "scatter",
         "x": [
          1999,
          2000,
          2001,
          2002,
          2003,
          2004,
          2005,
          2006,
          2007,
          2008,
          2009,
          2010,
          2011,
          2012,
          2013,
          2014,
          2015,
          2016,
          2017,
          2018,
          2019,
          2020,
          2021,
          2022,
          2023,
          2024
         ],
         "xaxis": "x",
         "y": [
          14762216,
          25706615,
          22241073,
          25982190,
          26072945,
          28928874,
          23734812,
          26445788,
          24762037,
          23640171,
          25097870,
          24642117,
          22853599,
          24048093,
          23020926,
          24834012,
          20626498,
          20866355,
          18607686,
          17205355,
          16191645,
          23607191,
          31456233,
          18177199,
          13273148,
          5767022
         ],
         "yaxis": "y"
        },
        {
         "hovertemplate": "Airline=Cathay Pacific<br>Year=%{x}<br>Total lbs=%{y}<extra></extra>",
         "legendgroup": "Cathay Pacific",
         "line": {
          "color": "#B6E880",
          "dash": "solid"
         },
         "marker": {
          "symbol": "circle"
         },
         "mode": "lines+markers",
         "name": "Cathay Pacific",
         "orientation": "v",
         "showlegend": true,
         "type": "scatter",
         "x": [
          1999,
          2000,
          2001,
          2002,
          2003,
          2004,
          2005,
          2006,
          2007,
          2008,
          2009,
          2010,
          2011,
          2012,
          2013,
          2014,
          2015,
          2016,
          2017,
          2018,
          2019,
          2020,
          2021,
          2022,
          2023,
          2024
         ],
         "xaxis": "x",
         "y": [
          6723363,
          16219253,
          16851614,
          15715259,
          18390838,
          21643069,
          29659554,
          23814608,
          27988078,
          38731450,
          31457487,
          37183642,
          20563423,
          17218080,
          16408092,
          20218383,
          25174249,
          27082023,
          33441756,
          35749384,
          30479954,
          12313430,
          7378165,
          4154066,
          8437460,
          2976615
         ],
         "yaxis": "y"
        },
        {
         "hovertemplate": "Airline=China Airlines<br>Year=%{x}<br>Total lbs=%{y}<extra></extra>",
         "legendgroup": "China Airlines",
         "line": {
          "color": "#FF97FF",
          "dash": "solid"
         },
         "marker": {
          "symbol": "circle"
         },
         "mode": "lines+markers",
         "name": "China Airlines",
         "orientation": "v",
         "showlegend": true,
         "type": "scatter",
         "x": [
          1999,
          2000,
          2001,
          2002,
          2003,
          2004,
          2005,
          2006,
          2007,
          2008,
          2009,
          2010,
          2011,
          2012,
          2013,
          2014,
          2015,
          2016,
          2017,
          2018,
          2019,
          2020,
          2021,
          2022,
          2023,
          2024
         ],
         "xaxis": "x",
         "y": [
          22537792,
          49746851,
          38221801,
          33184664,
          39768251,
          52930955,
          55057848,
          49827506,
          41797662,
          34099244,
          33246088,
          47611352,
          51931641,
          49160144,
          42922911,
          41208331,
          48743340,
          47334040,
          45558415,
          45264657,
          39190356,
          50298506,
          67906573,
          60456690,
          31971562,
          7676075
         ],
         "yaxis": "y"
        },
        {
         "hovertemplate": "Airline=Delta Air Lines<br>Year=%{x}<br>Total lbs=%{y}<extra></extra>",
         "legendgroup": "Delta Air Lines",
         "line": {
          "color": "#FECB52",
          "dash": "solid"
         },
         "marker": {
          "symbol": "circle"
         },
         "mode": "lines+markers",
         "name": "Delta Air Lines",
         "orientation": "v",
         "showlegend": true,
         "type": "scatter",
         "x": [
          1999,
          2000,
          2001,
          2002,
          2003,
          2004,
          2005,
          2006,
          2007,
          2008,
          2009,
          2010,
          2011,
          2012,
          2013,
          2014,
          2015,
          2016,
          2017,
          2018,
          2019,
          2020,
          2021,
          2022,
          2023,
          2024
         ],
         "xaxis": "x",
         "y": [
          38529004,
          71202045,
          56178709,
          52303950,
          59001233,
          54092382,
          43266329,
          32042319,
          24328504,
          14800861,
          11932259,
          26470707,
          34160299,
          37318912,
          38115940,
          29597119,
          33733204,
          33990112,
          40035186,
          44717793,
          32111571,
          18737157,
          20892922,
          32804795,
          14824572,
          4295425
         ],
         "yaxis": "y"
        },
        {
         "hovertemplate": "Airline=EVA Airways<br>Year=%{x}<br>Total lbs=%{y}<extra></extra>",
         "legendgroup": "EVA Airways",
         "line": {
          "color": "#636efa",
          "dash": "solid"
         },
         "marker": {
          "symbol": "circle"
         },
         "mode": "lines+markers",
         "name": "EVA Airways",
         "orientation": "v",
         "showlegend": true,
         "type": "scatter",
         "x": [
          1999,
          2000,
          2001,
          2002,
          2003,
          2004,
          2005,
          2006,
          2007,
          2008,
          2009,
          2010,
          2011,
          2012,
          2013,
          2014,
          2015,
          2016,
          2017,
          2018,
          2019,
          2020,
          2021,
          2022,
          2023,
          2024
         ],
         "xaxis": "x",
         "y": [
          37541558,
          70716725,
          43166710,
          55013790,
          49219237,
          40165940,
          51117314,
          50737001,
          53032565,
          41550938,
          37421227,
          38375846,
          33991411,
          33606989,
          34512827,
          41304154,
          43705185,
          40203100,
          42485918,
          53772329,
          51687759,
          42632449,
          38852972,
          40690497,
          48677860,
          15002948
         ],
         "yaxis": "y"
        },
        {
         "hovertemplate": "Airline=Federal Express<br>Year=%{x}<br>Total lbs=%{y}<extra></extra>",
         "legendgroup": "Federal Express",
         "line": {
          "color": "#EF553B",
          "dash": "solid"
         },
         "marker": {
          "symbol": "circle"
         },
         "mode": "lines+markers",
         "name": "Federal Express",
         "orientation": "v",
         "showlegend": true,
         "type": "scatter",
         "x": [
          1999,
          2000,
          2001,
          2002,
          2003,
          2004,
          2005,
          2006,
          2007,
          2008,
          2009,
          2010,
          2011,
          2012,
          2013,
          2014,
          2015,
          2016,
          2017,
          2018,
          2019,
          2020,
          2021,
          2022,
          2023,
          2024
         ],
         "xaxis": "x",
         "y": [
          60364803,
          133904884,
          122766421,
          151171860,
          209616993,
          203074742,
          207991552,
          205153834,
          209304956,
          183467823,
          139240809,
          86337793,
          63445090,
          57997467,
          58762952,
          72897067,
          82171661,
          83979998,
          75247553,
          68650515,
          85352539,
          65011123,
          55219805,
          38108242,
          43150903,
          14218157
         ],
         "yaxis": "y"
        },
        {
         "hovertemplate": "Airline=Hawaiian Airlines<br>Year=%{x}<br>Total lbs=%{y}<extra></extra>",
         "legendgroup": "Hawaiian Airlines",
         "line": {
          "color": "#00cc96",
          "dash": "solid"
         },
         "marker": {
          "symbol": "circle"
         },
         "mode": "lines+markers",
         "name": "Hawaiian Airlines",
         "orientation": "v",
         "showlegend": true,
         "type": "scatter",
         "x": [
          1999,
          2000,
          2001,
          2002,
          2003,
          2004,
          2005,
          2006,
          2007,
          2008,
          2009,
          2010,
          2011,
          2012,
          2013,
          2014,
          2015,
          2016,
          2017,
          2018,
          2019,
          2020,
          2021,
          2022,
          2023,
          2024
         ],
         "xaxis": "x",
         "y": [
          3987893,
          8130592,
          5118271,
          4996695,
          7213833,
          5982433,
          6040814,
          5528580,
          5638483,
          5989708,
          3867848,
          5022533,
          5407795,
          9860784,
          10060364,
          11439998,
          12661197,
          12963080,
          13045553,
          16073614,
          11959941,
          12258028,
          8651517,
          9260872,
          7611526,
          1580008
         ],
         "yaxis": "y"
        },
        {
         "hovertemplate": "Airline=Japan Airlines<br>Year=%{x}<br>Total lbs=%{y}<extra></extra>",
         "legendgroup": "Japan Airlines",
         "line": {
          "color": "#ab63fa",
          "dash": "solid"
         },
         "marker": {
          "symbol": "circle"
         },
         "mode": "lines+markers",
         "name": "Japan Airlines",
         "orientation": "v",
         "showlegend": true,
         "type": "scatter",
         "x": [
          1999,
          2000,
          2001,
          2002,
          2003,
          2004,
          2005,
          2006,
          2007,
          2008,
          2009,
          2010,
          2011,
          2012,
          2013,
          2014,
          2015,
          2016,
          2017,
          2018,
          2019,
          2020,
          2021,
          2022,
          2023,
          2024
         ],
         "xaxis": "x",
         "y": [
          43184434,
          83841683,
          68454390,
          65724578,
          58796253,
          62917516,
          53474791,
          48651842,
          48697207,
          17633092,
          19574922,
          21891603,
          12943208,
          12183402,
          13886214,
          13299305,
          21032839,
          18494469,
          20183633,
          24644695,
          23484913,
          22823703,
          30854204,
          33551774,
          39264761,
          12751617
         ],
         "yaxis": "y"
        },
        {
         "hovertemplate": "Airline=KLM Royal Dutch Airlines<br>Year=%{x}<br>Total lbs=%{y}<extra></extra>",
         "legendgroup": "KLM Royal Dutch Airlines",
         "line": {
          "color": "#FFA15A",
          "dash": "solid"
         },
         "marker": {
          "symbol": "circle"
         },
         "mode": "lines+markers",
         "name": "KLM Royal Dutch Airlines",
         "orientation": "v",
         "showlegend": true,
         "type": "scatter",
         "x": [
          1999,
          2000,
          2001,
          2002,
          2003,
          2004,
          2005,
          2006,
          2007,
          2008,
          2009,
          2010,
          2011,
          2012,
          2013,
          2014,
          2015,
          2016,
          2017,
          2018,
          2019,
          2020,
          2021,
          2022,
          2023,
          2024
         ],
         "xaxis": "x",
         "y": [
          8623845,
          20826480,
          22669438,
          19148724,
          15037201,
          1078505,
          11617151,
          17490104,
          15334460,
          10632379,
          5217907,
          6216243,
          5237271,
          4207301,
          4615875,
          4527991,
          4640482,
          7336813,
          16067306,
          16031421,
          13974959,
          7888692,
          12152619,
          10496934,
          11160892,
          3475769
         ],
         "yaxis": "y"
        },
        {
         "hovertemplate": "Airline=Korean Air Lines<br>Year=%{x}<br>Total lbs=%{y}<extra></extra>",
         "legendgroup": "Korean Air Lines",
         "line": {
          "color": "#19d3f3",
          "dash": "solid"
         },
         "marker": {
          "symbol": "circle"
         },
         "mode": "lines+markers",
         "name": "Korean Air Lines",
         "orientation": "v",
         "showlegend": true,
         "type": "scatter",
         "x": [
          1999,
          2000,
          2001,
          2002,
          2003,
          2004,
          2005,
          2006,
          2007,
          2008,
          2009,
          2010,
          2011,
          2012,
          2013,
          2014,
          2015,
          2016,
          2017,
          2018,
          2019,
          2020,
          2021,
          2022,
          2023,
          2024
         ],
         "xaxis": "x",
         "y": [
          36593043,
          64877895,
          27527377,
          42707067,
          56939859,
          46446754,
          47876978,
          60712559,
          54114856,
          66910981,
          43069608,
          46576103,
          46498667,
          43106043,
          50693487,
          52150791,
          51459641,
          46118057,
          55023155,
          49937222,
          45207210,
          40483932,
          44540800,
          33577055,
          35122658,
          9791448
         ],
         "yaxis": "y"
        },
        {
         "hovertemplate": "Airline=Lufthansa German Airlines<br>Year=%{x}<br>Total lbs=%{y}<extra></extra>",
         "legendgroup": "Lufthansa German Airlines",
         "line": {
          "color": "#FF6692",
          "dash": "solid"
         },
         "marker": {
          "symbol": "circle"
         },
         "mode": "lines+markers",
         "name": "Lufthansa German Airlines",
         "orientation": "v",
         "showlegend": true,
         "type": "scatter",
         "x": [
          1999,
          2000,
          2001,
          2002,
          2003,
          2004,
          2005,
          2006,
          2007,
          2008,
          2009,
          2010,
          2011,
          2012,
          2013,
          2014,
          2015,
          2016,
          2017,
          2018,
          2019,
          2020,
          2021,
          2022,
          2023,
          2024
         ],
         "xaxis": "x",
         "y": [
          19435237,
          37071976,
          28177956,
          19949388,
          18287512,
          17865033,
          20027578,
          22094916,
          21062912,
          21251907,
          18554474,
          21653917,
          20713976,
          20931770,
          18538522,
          19507743,
          21187938,
          23884638,
          18901652,
          19209606,
          17094451,
          7066279,
          14455925,
          16886073,
          16161096,
          5678432
         ],
         "yaxis": "y"
        },
        {
         "hovertemplate": "Airline=Philippine Airlines<br>Year=%{x}<br>Total lbs=%{y}<extra></extra>",
         "legendgroup": "Philippine Airlines",
         "line": {
          "color": "#B6E880",
          "dash": "solid"
         },
         "marker": {
          "symbol": "circle"
         },
         "mode": "lines+markers",
         "name": "Philippine Airlines",
         "orientation": "v",
         "showlegend": true,
         "type": "scatter",
         "x": [
          1999,
          2000,
          2001,
          2002,
          2003,
          2004,
          2005,
          2006,
          2007,
          2008,
          2009,
          2010,
          2011,
          2012,
          2013,
          2014,
          2015,
          2016,
          2017,
          2018,
          2019,
          2020,
          2021,
          2022,
          2023,
          2024
         ],
         "xaxis": "x",
         "y": [
          4917564,
          8844558,
          7629034,
          7383774,
          8594994,
          7661740,
          12701512,
          9226885,
          7530389,
          7156338,
          7617005,
          4914213,
          5074372,
          4957466,
          5856676,
          6046310,
          7706072,
          6979060,
          8542638,
          9422888,
          9710545,
          3508166,
          7613366,
          6410112,
          6391450,
          2628689
         ],
         "yaxis": "y"
        },
        {
         "hovertemplate": "Airline=Singapore Airlines<br>Year=%{x}<br>Total lbs=%{y}<extra></extra>",
         "legendgroup": "Singapore Airlines",
         "line": {
          "color": "#FF97FF",
          "dash": "solid"
         },
         "marker": {
          "symbol": "circle"
         },
         "mode": "lines+markers",
         "name": "Singapore Airlines",
         "orientation": "v",
         "showlegend": true,
         "type": "scatter",
         "x": [
          1999,
          2000,
          2001,
          2002,
          2003,
          2004,
          2005,
          2006,
          2007,
          2008,
          2009,
          2010,
          2011,
          2012,
          2013,
          2014,
          2015,
          2016,
          2017,
          2018,
          2019,
          2020,
          2021,
          2022,
          2023,
          2024
         ],
         "xaxis": "x",
         "y": [
          29615884,
          53096425,
          43940139,
          46609961,
          21290544,
          16038341,
          16934114,
          12034281,
          19587053,
          13915964,
          15198025,
          15845161,
          16801381,
          18678136,
          22570371,
          35752902,
          33430994,
          34201399,
          27720229,
          25737531,
          26761631,
          5329452,
          11159936,
          12656499,
          11835466,
          3842012
         ],
         "yaxis": "y"
        },
        {
         "hovertemplate": "Airline=TACA International Airlines SA<br>Year=%{x}<br>Total lbs=%{y}<extra></extra>",
         "legendgroup": "TACA International Airlines SA",
         "line": {
          "color": "#FECB52",
          "dash": "solid"
         },
         "marker": {
          "symbol": "circle"
         },
         "mode": "lines+markers",
         "name": "TACA International Airlines SA",
         "orientation": "v",
         "showlegend": true,
         "type": "scatter",
         "x": [
          1999,
          2000,
          2001,
          2002,
          2003,
          2004,
          2005,
          2006,
          2007,
          2008,
          2009,
          2010,
          2011,
          2012,
          2013,
          2014,
          2015,
          2016,
          2017,
          2018,
          2019,
          2020,
          2021,
          2022,
          2023,
          2024
         ],
         "xaxis": "x",
         "y": [
          106268,
          39718,
          37882,
          375512,
          133920,
          178572,
          174723,
          103745,
          130334,
          93865,
          31936,
          37409,
          48270,
          139590,
          191844,
          238803,
          112985,
          110954,
          116861,
          111468,
          289827,
          130608,
          229462,
          201566,
          147616,
          52901
         ],
         "yaxis": "y"
        },
        {
         "hovertemplate": "Airline=United Airlines<br>Year=%{x}<br>Total lbs=%{y}<extra></extra>",
         "legendgroup": "United Airlines",
         "line": {
          "color": "#636efa",
          "dash": "solid"
         },
         "marker": {
          "symbol": "circle"
         },
         "mode": "lines+markers",
         "name": "United Airlines",
         "orientation": "v",
         "showlegend": true,
         "type": "scatter",
         "x": [
          1999,
          2000,
          2001,
          2002,
          2003,
          2004,
          2005,
          2006,
          2007,
          2008,
          2009,
          2010,
          2011,
          2012,
          2013,
          2014,
          2015,
          2016,
          2017,
          2018,
          2019,
          2020,
          2021,
          2022,
          2023,
          2024
         ],
         "xaxis": "x",
         "y": [
          249797963,
          473457867,
          385274610,
          351337322,
          295436165,
          289224584,
          290524089,
          291377891,
          270144320,
          256192204,
          208540009,
          227798192,
          201373216,
          206011376,
          184878589,
          223572906,
          250782989,
          298274341,
          394471138,
          390820214,
          420968957,
          288285721,
          341478445,
          355448394,
          414307472,
          153102136
         ],
         "yaxis": "y"
        },
        {
         "hovertemplate": "Airline=Virgin Atlantic<br>Year=%{x}<br>Total lbs=%{y}<extra></extra>",
         "legendgroup": "Virgin Atlantic",
         "line": {
          "color": "#EF553B",
          "dash": "solid"
         },
         "marker": {
          "symbol": "circle"
         },
         "mode": "lines+markers",
         "name": "Virgin Atlantic",
         "orientation": "v",
         "showlegend": true,
         "type": "scatter",
         "x": [
          1999,
          2000,
          2001,
          2002,
          2003,
          2004,
          2005,
          2006,
          2007,
          2008,
          2009,
          2010,
          2011,
          2012,
          2013,
          2014,
          2015,
          2016,
          2017,
          2018,
          2019,
          2020,
          2021,
          2022,
          2023,
          2024
         ],
         "xaxis": "x",
         "y": [
          7069818,
          16698380,
          14050875,
          14241702,
          14847438,
          14281088,
          12981208,
          10624998,
          12715104,
          10732579,
          10992886,
          13581312,
          11899985,
          12628602,
          11519522,
          12881525,
          16203401,
          19392879,
          22258857,
          20099727,
          12755922,
          2493721,
          1595718,
          7933177,
          5695895,
          2202460
         ],
         "yaxis": "y"
        }
       ],
       "layout": {
        "legend": {
         "title": {
          "text": "Airline"
         },
         "tracegroupgap": 0
        },
        "template": {
         "data": {
          "bar": [
           {
            "error_x": {
             "color": "#2a3f5f"
            },
            "error_y": {
             "color": "#2a3f5f"
            },
            "marker": {
             "line": {
              "color": "#E5ECF6",
              "width": 0.5
             },
             "pattern": {
              "fillmode": "overlay",
              "size": 10,
              "solidity": 0.2
             }
            },
            "type": "bar"
           }
          ],
          "barpolar": [
           {
            "marker": {
             "line": {
              "color": "#E5ECF6",
              "width": 0.5
             },
             "pattern": {
              "fillmode": "overlay",
              "size": 10,
              "solidity": 0.2
             }
            },
            "type": "barpolar"
           }
          ],
          "carpet": [
           {
            "aaxis": {
             "endlinecolor": "#2a3f5f",
             "gridcolor": "white",
             "linecolor": "white",
             "minorgridcolor": "white",
             "startlinecolor": "#2a3f5f"
            },
            "baxis": {
             "endlinecolor": "#2a3f5f",
             "gridcolor": "white",
             "linecolor": "white",
             "minorgridcolor": "white",
             "startlinecolor": "#2a3f5f"
            },
            "type": "carpet"
           }
          ],
          "choropleth": [
           {
            "colorbar": {
             "outlinewidth": 0,
             "ticks": ""
            },
            "type": "choropleth"
           }
          ],
          "contour": [
           {
            "colorbar": {
             "outlinewidth": 0,
             "ticks": ""
            },
            "colorscale": [
             [
              0,
              "#0d0887"
             ],
             [
              0.1111111111111111,
              "#46039f"
             ],
             [
              0.2222222222222222,
              "#7201a8"
             ],
             [
              0.3333333333333333,
              "#9c179e"
             ],
             [
              0.4444444444444444,
              "#bd3786"
             ],
             [
              0.5555555555555556,
              "#d8576b"
             ],
             [
              0.6666666666666666,
              "#ed7953"
             ],
             [
              0.7777777777777778,
              "#fb9f3a"
             ],
             [
              0.8888888888888888,
              "#fdca26"
             ],
             [
              1,
              "#f0f921"
             ]
            ],
            "type": "contour"
           }
          ],
          "contourcarpet": [
           {
            "colorbar": {
             "outlinewidth": 0,
             "ticks": ""
            },
            "type": "contourcarpet"
           }
          ],
          "heatmap": [
           {
            "colorbar": {
             "outlinewidth": 0,
             "ticks": ""
            },
            "colorscale": [
             [
              0,
              "#0d0887"
             ],
             [
              0.1111111111111111,
              "#46039f"
             ],
             [
              0.2222222222222222,
              "#7201a8"
             ],
             [
              0.3333333333333333,
              "#9c179e"
             ],
             [
              0.4444444444444444,
              "#bd3786"
             ],
             [
              0.5555555555555556,
              "#d8576b"
             ],
             [
              0.6666666666666666,
              "#ed7953"
             ],
             [
              0.7777777777777778,
              "#fb9f3a"
             ],
             [
              0.8888888888888888,
              "#fdca26"
             ],
             [
              1,
              "#f0f921"
             ]
            ],
            "type": "heatmap"
           }
          ],
          "heatmapgl": [
           {
            "colorbar": {
             "outlinewidth": 0,
             "ticks": ""
            },
            "colorscale": [
             [
              0,
              "#0d0887"
             ],
             [
              0.1111111111111111,
              "#46039f"
             ],
             [
              0.2222222222222222,
              "#7201a8"
             ],
             [
              0.3333333333333333,
              "#9c179e"
             ],
             [
              0.4444444444444444,
              "#bd3786"
             ],
             [
              0.5555555555555556,
              "#d8576b"
             ],
             [
              0.6666666666666666,
              "#ed7953"
             ],
             [
              0.7777777777777778,
              "#fb9f3a"
             ],
             [
              0.8888888888888888,
              "#fdca26"
             ],
             [
              1,
              "#f0f921"
             ]
            ],
            "type": "heatmapgl"
           }
          ],
          "histogram": [
           {
            "marker": {
             "pattern": {
              "fillmode": "overlay",
              "size": 10,
              "solidity": 0.2
             }
            },
            "type": "histogram"
           }
          ],
          "histogram2d": [
           {
            "colorbar": {
             "outlinewidth": 0,
             "ticks": ""
            },
            "colorscale": [
             [
              0,
              "#0d0887"
             ],
             [
              0.1111111111111111,
              "#46039f"
             ],
             [
              0.2222222222222222,
              "#7201a8"
             ],
             [
              0.3333333333333333,
              "#9c179e"
             ],
             [
              0.4444444444444444,
              "#bd3786"
             ],
             [
              0.5555555555555556,
              "#d8576b"
             ],
             [
              0.6666666666666666,
              "#ed7953"
             ],
             [
              0.7777777777777778,
              "#fb9f3a"
             ],
             [
              0.8888888888888888,
              "#fdca26"
             ],
             [
              1,
              "#f0f921"
             ]
            ],
            "type": "histogram2d"
           }
          ],
          "histogram2dcontour": [
           {
            "colorbar": {
             "outlinewidth": 0,
             "ticks": ""
            },
            "colorscale": [
             [
              0,
              "#0d0887"
             ],
             [
              0.1111111111111111,
              "#46039f"
             ],
             [
              0.2222222222222222,
              "#7201a8"
             ],
             [
              0.3333333333333333,
              "#9c179e"
             ],
             [
              0.4444444444444444,
              "#bd3786"
             ],
             [
              0.5555555555555556,
              "#d8576b"
             ],
             [
              0.6666666666666666,
              "#ed7953"
             ],
             [
              0.7777777777777778,
              "#fb9f3a"
             ],
             [
              0.8888888888888888,
              "#fdca26"
             ],
             [
              1,
              "#f0f921"
             ]
            ],
            "type": "histogram2dcontour"
           }
          ],
          "mesh3d": [
           {
            "colorbar": {
             "outlinewidth": 0,
             "ticks": ""
            },
            "type": "mesh3d"
           }
          ],
          "parcoords": [
           {
            "line": {
             "colorbar": {
              "outlinewidth": 0,
              "ticks": ""
             }
            },
            "type": "parcoords"
           }
          ],
          "pie": [
           {
            "automargin": true,
            "type": "pie"
           }
          ],
          "scatter": [
           {
            "fillpattern": {
             "fillmode": "overlay",
             "size": 10,
             "solidity": 0.2
            },
            "type": "scatter"
           }
          ],
          "scatter3d": [
           {
            "line": {
             "colorbar": {
              "outlinewidth": 0,
              "ticks": ""
             }
            },
            "marker": {
             "colorbar": {
              "outlinewidth": 0,
              "ticks": ""
             }
            },
            "type": "scatter3d"
           }
          ],
          "scattercarpet": [
           {
            "marker": {
             "colorbar": {
              "outlinewidth": 0,
              "ticks": ""
             }
            },
            "type": "scattercarpet"
           }
          ],
          "scattergeo": [
           {
            "marker": {
             "colorbar": {
              "outlinewidth": 0,
              "ticks": ""
             }
            },
            "type": "scattergeo"
           }
          ],
          "scattergl": [
           {
            "marker": {
             "colorbar": {
              "outlinewidth": 0,
              "ticks": ""
             }
            },
            "type": "scattergl"
           }
          ],
          "scattermapbox": [
           {
            "marker": {
             "colorbar": {
              "outlinewidth": 0,
              "ticks": ""
             }
            },
            "type": "scattermapbox"
           }
          ],
          "scatterpolar": [
           {
            "marker": {
             "colorbar": {
              "outlinewidth": 0,
              "ticks": ""
             }
            },
            "type": "scatterpolar"
           }
          ],
          "scatterpolargl": [
           {
            "marker": {
             "colorbar": {
              "outlinewidth": 0,
              "ticks": ""
             }
            },
            "type": "scatterpolargl"
           }
          ],
          "scatterternary": [
           {
            "marker": {
             "colorbar": {
              "outlinewidth": 0,
              "ticks": ""
             }
            },
            "type": "scatterternary"
           }
          ],
          "surface": [
           {
            "colorbar": {
             "outlinewidth": 0,
             "ticks": ""
            },
            "colorscale": [
             [
              0,
              "#0d0887"
             ],
             [
              0.1111111111111111,
              "#46039f"
             ],
             [
              0.2222222222222222,
              "#7201a8"
             ],
             [
              0.3333333333333333,
              "#9c179e"
             ],
             [
              0.4444444444444444,
              "#bd3786"
             ],
             [
              0.5555555555555556,
              "#d8576b"
             ],
             [
              0.6666666666666666,
              "#ed7953"
             ],
             [
              0.7777777777777778,
              "#fb9f3a"
             ],
             [
              0.8888888888888888,
              "#fdca26"
             ],
             [
              1,
              "#f0f921"
             ]
            ],
            "type": "surface"
           }
          ],
          "table": [
           {
            "cells": {
             "fill": {
              "color": "#EBF0F8"
             },
             "line": {
              "color": "white"
             }
            },
            "header": {
             "fill": {
              "color": "#C8D4E3"
             },
             "line": {
              "color": "white"
             }
            },
            "type": "table"
           }
          ]
         },
         "layout": {
          "annotationdefaults": {
           "arrowcolor": "#2a3f5f",
           "arrowhead": 0,
           "arrowwidth": 1
          },
          "autotypenumbers": "strict",
          "coloraxis": {
           "colorbar": {
            "outlinewidth": 0,
            "ticks": ""
           }
          },
          "colorscale": {
           "diverging": [
            [
             0,
             "#8e0152"
            ],
            [
             0.1,
             "#c51b7d"
            ],
            [
             0.2,
             "#de77ae"
            ],
            [
             0.3,
             "#f1b6da"
            ],
            [
             0.4,
             "#fde0ef"
            ],
            [
             0.5,
             "#f7f7f7"
            ],
            [
             0.6,
             "#e6f5d0"
            ],
            [
             0.7,
             "#b8e186"
            ],
            [
             0.8,
             "#7fbc41"
            ],
            [
             0.9,
             "#4d9221"
            ],
            [
             1,
             "#276419"
            ]
           ],
           "sequential": [
            [
             0,
             "#0d0887"
            ],
            [
             0.1111111111111111,
             "#46039f"
            ],
            [
             0.2222222222222222,
             "#7201a8"
            ],
            [
             0.3333333333333333,
             "#9c179e"
            ],
            [
             0.4444444444444444,
             "#bd3786"
            ],
            [
             0.5555555555555556,
             "#d8576b"
            ],
            [
             0.6666666666666666,
             "#ed7953"
            ],
            [
             0.7777777777777778,
             "#fb9f3a"
            ],
            [
             0.8888888888888888,
             "#fdca26"
            ],
            [
             1,
             "#f0f921"
            ]
           ],
           "sequentialminus": [
            [
             0,
             "#0d0887"
            ],
            [
             0.1111111111111111,
             "#46039f"
            ],
            [
             0.2222222222222222,
             "#7201a8"
            ],
            [
             0.3333333333333333,
             "#9c179e"
            ],
            [
             0.4444444444444444,
             "#bd3786"
            ],
            [
             0.5555555555555556,
             "#d8576b"
            ],
            [
             0.6666666666666666,
             "#ed7953"
            ],
            [
             0.7777777777777778,
             "#fb9f3a"
            ],
            [
             0.8888888888888888,
             "#fdca26"
            ],
            [
             1,
             "#f0f921"
            ]
           ]
          },
          "colorway": [
           "#636efa",
           "#EF553B",
           "#00cc96",
           "#ab63fa",
           "#FFA15A",
           "#19d3f3",
           "#FF6692",
           "#B6E880",
           "#FF97FF",
           "#FECB52"
          ],
          "font": {
           "color": "#2a3f5f"
          },
          "geo": {
           "bgcolor": "white",
           "lakecolor": "white",
           "landcolor": "#E5ECF6",
           "showlakes": true,
           "showland": true,
           "subunitcolor": "white"
          },
          "hoverlabel": {
           "align": "left"
          },
          "hovermode": "closest",
          "mapbox": {
           "style": "light"
          },
          "paper_bgcolor": "white",
          "plot_bgcolor": "#E5ECF6",
          "polar": {
           "angularaxis": {
            "gridcolor": "white",
            "linecolor": "white",
            "ticks": ""
           },
           "bgcolor": "#E5ECF6",
           "radialaxis": {
            "gridcolor": "white",
            "linecolor": "white",
            "ticks": ""
           }
          },
          "scene": {
           "xaxis": {
            "backgroundcolor": "#E5ECF6",
            "gridcolor": "white",
            "gridwidth": 2,
            "linecolor": "white",
            "showbackground": true,
            "ticks": "",
            "zerolinecolor": "white"
           },
           "yaxis": {
            "backgroundcolor": "#E5ECF6",
            "gridcolor": "white",
            "gridwidth": 2,
            "linecolor": "white",
            "showbackground": true,
            "ticks": "",
            "zerolinecolor": "white"
           },
           "zaxis": {
            "backgroundcolor": "#E5ECF6",
            "gridcolor": "white",
            "gridwidth": 2,
            "linecolor": "white",
            "showbackground": true,
            "ticks": "",
            "zerolinecolor": "white"
           }
          },
          "shapedefaults": {
           "line": {
            "color": "#2a3f5f"
           }
          },
          "ternary": {
           "aaxis": {
            "gridcolor": "white",
            "linecolor": "white",
            "ticks": ""
           },
           "baxis": {
            "gridcolor": "white",
            "linecolor": "white",
            "ticks": ""
           },
           "bgcolor": "#E5ECF6",
           "caxis": {
            "gridcolor": "white",
            "linecolor": "white",
            "ticks": ""
           }
          },
          "title": {
           "x": 0.05
          },
          "xaxis": {
           "automargin": true,
           "gridcolor": "white",
           "linecolor": "white",
           "ticks": "",
           "title": {
            "standoff": 15
           },
           "zerolinecolor": "white",
           "zerolinewidth": 2
          },
          "yaxis": {
           "automargin": true,
           "gridcolor": "white",
           "linecolor": "white",
           "ticks": "",
           "title": {
            "standoff": 15
           },
           "zerolinecolor": "white",
           "zerolinewidth": 2
          }
         }
        },
        "title": {
         "text": "Tren Cargo (lbs) per Airline per year with Active Airlines"
        },
        "xaxis": {
         "anchor": "y",
         "domain": [
          0,
          1
         ],
         "title": {
          "text": "Year"
         }
        },
        "yaxis": {
         "anchor": "x",
         "domain": [
          0,
          1
         ],
         "title": {
          "text": "Total lbs"
         }
        }
       }
      }
     },
     "metadata": {},
     "output_type": "display_data"
    }
   ],
   "source": [
    "\n",
    "# plot line 1\n",
    "# monthly_traffic = selected_df.groupby(['period','operating_airline'])['lbs'].sum().reset_index()\n",
    "yearly_traffic = selected_df.groupby([selected_df.period.dt.year,'operating_airline'])['lbs'].sum().reset_index()\n",
    "\n",
    "px.line(yearly_traffic,\n",
    "        x='period',\n",
    "        y='lbs',\n",
    "        color='operating_airline',\n",
    "        title='Tren Cargo (lbs) per Airline per year for All Airlines',\n",
    "        markers=True).show()\n",
    "\n",
    "# plot line 2\n",
    "pivot_table_melted = pivot_data.melt(id_vars=['operating_airline'], \n",
    "                                            var_name='year', \n",
    "                                            value_name='total_lbs')\n",
    "\n",
    "px.line(pivot_table_melted, \n",
    "              x='year', \n",
    "              y='total_lbs', \n",
    "              color='operating_airline', \n",
    "              labels={'total_lbs':'Total lbs', 'year':'Year', 'operating_airline':'Airline'},\n",
    "              title='Tren Cargo (lbs) per Airline per year with Active Airlines',\n",
    "              markers=True).show()"
   ]
  },
  {
   "cell_type": "markdown",
   "id": "ff5bfe85",
   "metadata": {},
   "source": [
    "### Case 2"
   ]
  },
  {
   "cell_type": "code",
   "execution_count": null,
   "id": "9781f650",
   "metadata": {},
   "outputs": [],
   "source": []
  }
 ],
 "metadata": {
  "colab": {
   "include_colab_link": true,
   "provenance": []
  },
  "kaggle": {
   "accelerator": "none",
   "dataSources": [
    {
     "datasetId": 4234831,
     "sourceId": 7300010,
     "sourceType": "datasetVersion"
    }
   ],
   "dockerImageVersionId": 30626,
   "isGpuEnabled": false,
   "isInternetEnabled": true,
   "language": "python",
   "sourceType": "notebook"
  },
  "kernelspec": {
   "display_name": "Python 3 (ipykernel)",
   "language": "python",
   "name": "python3"
  },
  "language_info": {
   "codemirror_mode": {
    "name": "ipython",
    "version": 3
   },
   "file_extension": ".py",
   "mimetype": "text/x-python",
   "name": "python",
   "nbconvert_exporter": "python",
   "pygments_lexer": "ipython3",
   "version": "3.12.4"
  },
  "papermill": {
   "default_parameters": {},
   "duration": 13.392988,
   "end_time": "2024-05-22T14:34:48.895414",
   "environment_variables": {},
   "exception": null,
   "input_path": "__notebook__.ipynb",
   "output_path": "__notebook__.ipynb",
   "parameters": {},
   "start_time": "2024-05-22T14:34:35.502426",
   "version": "2.4.0"
  }
 },
 "nbformat": 4,
 "nbformat_minor": 5
}
