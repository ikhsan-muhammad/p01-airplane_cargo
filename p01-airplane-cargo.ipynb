{
 "cells": [
  {
   "cell_type": "markdown",
   "id": "b587f1f4",
   "metadata": {
    "papermill": {
     "duration": 0.007464,
     "end_time": "2024-02-03T00:09:09.022366",
     "exception": false,
     "start_time": "2024-02-03T00:09:09.014902",
     "status": "completed"
    },
    "tags": []
   },
   "source": [
    "# Airplane Cargo Analysist"
   ]
  },
  {
   "cell_type": "markdown",
   "id": "3bd45361",
   "metadata": {
    "papermill": {
     "duration": 0.005235,
     "end_time": "2024-02-03T00:09:09.033749",
     "exception": false,
     "start_time": "2024-02-03T00:09:09.028514",
     "status": "completed"
    },
    "tags": []
   },
   "source": [
    "**Metadata:**\n",
    "\n",
    "https://data.sfgov.org/Transportation/Air-Traffic-Cargo-Statistics/u397-j8nr/about_data [san francisco air cargo data]\n",
    "\n",
    "**Problem case:**\n",
    "* Evaluate the performance of different airlines based on cargo metrics, identifying top performers and areas for improvement.\n",
    "* Analyze patterns in different types of cargo activities to understand trends in the industry, such as the prevalence of express shipments or bulk cargo.\n",
    "* Examine cargo operations over time to identify seasonality, peak periods, or long-term trends in air cargo demand.\n",
    "* Benchmark the performance of specific airlines, regions, or aircraft types against industry averages to assess competitiveness\n",
    "* Utilize historical data to build predictive models for future air cargo trends, helping stakeholders make informed decisions."
   ]
  },
  {
   "cell_type": "markdown",
   "id": "2cb5af8e",
   "metadata": {
    "papermill": {
     "duration": 0.005126,
     "end_time": "2024-02-03T00:09:09.044375",
     "exception": false,
     "start_time": "2024-02-03T00:09:09.039249",
     "status": "completed"
    },
    "tags": []
   },
   "source": [
    "## Data Wrangling"
   ]
  },
  {
   "cell_type": "code",
   "execution_count": 1,
   "id": "ab9ab1cb",
   "metadata": {
    "execution": {
     "iopub.execute_input": "2024-02-03T00:09:09.058561Z",
     "iopub.status.busy": "2024-02-03T00:09:09.058110Z",
     "iopub.status.idle": "2024-02-03T00:09:12.240898Z",
     "shell.execute_reply": "2024-02-03T00:09:12.239435Z"
    },
    "papermill": {
     "duration": 3.193277,
     "end_time": "2024-02-03T00:09:12.243963",
     "exception": false,
     "start_time": "2024-02-03T00:09:09.050686",
     "status": "completed"
    },
    "tags": []
   },
   "outputs": [],
   "source": [
    "#import necessary library\n",
    "import pandas as pd\n",
    "pd.plotting.register_matplotlib_converters\n",
    "import numpy as np\n",
    "import matplotlib.pyplot as plt\n",
    "%matplotlib inline\n",
    "import seaborn as sns\n",
    "from fuzzywuzzy import fuzz,process\n",
    "\n",
    "#set all things that needed\n",
    "pd.set_option('display.max_columns', 100)\n",
    "# pd.set_option('display.max_rows',200)\n",
    "# pd.reset_option('display.max_rows')\n",
    "plt.style.use('dark_background')\n",
    "\n",
    "df = pd.read_csv('/kaggle/input/air-traffic-cargo-statistic/Air_Traffic_Cargo_Statistics.csv', parse_dates=[1,13,14], date_format='mixed')"
   ]
  },
  {
   "cell_type": "code",
   "execution_count": 2,
   "id": "e4c9525c",
   "metadata": {
    "execution": {
     "iopub.execute_input": "2024-02-03T00:09:12.257179Z",
     "iopub.status.busy": "2024-02-03T00:09:12.256661Z",
     "iopub.status.idle": "2024-02-03T00:09:12.339668Z",
     "shell.execute_reply": "2024-02-03T00:09:12.338455Z"
    },
    "papermill": {
     "duration": 0.093408,
     "end_time": "2024-02-03T00:09:12.343127",
     "exception": false,
     "start_time": "2024-02-03T00:09:12.249719",
     "status": "completed"
    },
    "tags": []
   },
   "outputs": [
    {
     "name": "stdout",
     "output_type": "stream",
     "text": [
      "<class 'pandas.core.frame.DataFrame'>\n",
      "RangeIndex: 54043 entries, 0 to 54042\n",
      "Data columns (total 15 columns):\n",
      " #   Column                       Non-Null Count  Dtype         \n",
      "---  ------                       --------------  -----         \n",
      " 0   Activity Period              54043 non-null  int64         \n",
      " 1   Activity Period Start Date   54043 non-null  datetime64[ns]\n",
      " 2   Operating Airline            54043 non-null  object        \n",
      " 3   Operating Airline IATA Code  53465 non-null  object        \n",
      " 4   Published Airline            54043 non-null  object        \n",
      " 5   Published Airline IATA Code  53465 non-null  object        \n",
      " 6   GEO Summary                  54043 non-null  object        \n",
      " 7   GEO Region                   54043 non-null  object        \n",
      " 8   Activity Type Code           54043 non-null  object        \n",
      " 9   Cargo Type Code              54043 non-null  object        \n",
      " 10  Cargo Aircraft Type          54043 non-null  object        \n",
      " 11  Cargo Weight LBS             54043 non-null  int64         \n",
      " 12  Cargo Metric TONS            54043 non-null  float64       \n",
      " 13  data_as_of                   54043 non-null  datetime64[ns]\n",
      " 14  data_loaded_at               54043 non-null  datetime64[ns]\n",
      "dtypes: datetime64[ns](3), float64(1), int64(2), object(9)\n",
      "memory usage: 6.2+ MB\n"
     ]
    }
   ],
   "source": [
    "# df.shape\n",
    "df.info()"
   ]
  },
  {
   "cell_type": "code",
   "execution_count": 3,
   "id": "7b5b170b",
   "metadata": {
    "execution": {
     "iopub.execute_input": "2024-02-03T00:09:12.358527Z",
     "iopub.status.busy": "2024-02-03T00:09:12.357748Z",
     "iopub.status.idle": "2024-02-03T00:09:12.388950Z",
     "shell.execute_reply": "2024-02-03T00:09:12.387806Z"
    },
    "papermill": {
     "duration": 0.042724,
     "end_time": "2024-02-03T00:09:12.392753",
     "exception": false,
     "start_time": "2024-02-03T00:09:12.350029",
     "status": "completed"
    },
    "tags": []
   },
   "outputs": [
    {
     "data": {
      "text/html": [
       "<div>\n",
       "<style scoped>\n",
       "    .dataframe tbody tr th:only-of-type {\n",
       "        vertical-align: middle;\n",
       "    }\n",
       "\n",
       "    .dataframe tbody tr th {\n",
       "        vertical-align: top;\n",
       "    }\n",
       "\n",
       "    .dataframe thead th {\n",
       "        text-align: right;\n",
       "    }\n",
       "</style>\n",
       "<table border=\"1\" class=\"dataframe\">\n",
       "  <thead>\n",
       "    <tr style=\"text-align: right;\">\n",
       "      <th></th>\n",
       "      <th>Activity Period</th>\n",
       "      <th>Activity Period Start Date</th>\n",
       "      <th>Operating Airline</th>\n",
       "      <th>Operating Airline IATA Code</th>\n",
       "      <th>Published Airline</th>\n",
       "      <th>Published Airline IATA Code</th>\n",
       "      <th>GEO Summary</th>\n",
       "      <th>GEO Region</th>\n",
       "      <th>Activity Type Code</th>\n",
       "      <th>Cargo Type Code</th>\n",
       "      <th>Cargo Aircraft Type</th>\n",
       "      <th>Cargo Weight LBS</th>\n",
       "      <th>Cargo Metric TONS</th>\n",
       "      <th>data_as_of</th>\n",
       "      <th>data_loaded_at</th>\n",
       "    </tr>\n",
       "  </thead>\n",
       "  <tbody>\n",
       "    <tr>\n",
       "      <th>0</th>\n",
       "      <td>199907</td>\n",
       "      <td>1999-07-01</td>\n",
       "      <td>ATA Airlines</td>\n",
       "      <td>TZ</td>\n",
       "      <td>ATA Airlines</td>\n",
       "      <td>TZ</td>\n",
       "      <td>Domestic</td>\n",
       "      <td>US</td>\n",
       "      <td>Deplaned</td>\n",
       "      <td>Cargo</td>\n",
       "      <td>Passenger</td>\n",
       "      <td>349048</td>\n",
       "      <td>158.328173</td>\n",
       "      <td>2023-12-20 14:00:06</td>\n",
       "      <td>2023-12-20 16:48:03</td>\n",
       "    </tr>\n",
       "    <tr>\n",
       "      <th>1</th>\n",
       "      <td>199907</td>\n",
       "      <td>1999-07-01</td>\n",
       "      <td>ATA Airlines</td>\n",
       "      <td>TZ</td>\n",
       "      <td>ATA Airlines</td>\n",
       "      <td>TZ</td>\n",
       "      <td>Domestic</td>\n",
       "      <td>US</td>\n",
       "      <td>Deplaned</td>\n",
       "      <td>Mail</td>\n",
       "      <td>Passenger</td>\n",
       "      <td>122003</td>\n",
       "      <td>55.340561</td>\n",
       "      <td>2023-12-20 14:00:06</td>\n",
       "      <td>2023-12-20 16:48:03</td>\n",
       "    </tr>\n",
       "    <tr>\n",
       "      <th>2</th>\n",
       "      <td>199907</td>\n",
       "      <td>1999-07-01</td>\n",
       "      <td>ATA Airlines</td>\n",
       "      <td>TZ</td>\n",
       "      <td>ATA Airlines</td>\n",
       "      <td>TZ</td>\n",
       "      <td>Domestic</td>\n",
       "      <td>US</td>\n",
       "      <td>Enplaned</td>\n",
       "      <td>Cargo</td>\n",
       "      <td>Passenger</td>\n",
       "      <td>514450</td>\n",
       "      <td>233.354520</td>\n",
       "      <td>2023-12-20 14:00:06</td>\n",
       "      <td>2023-12-20 16:48:03</td>\n",
       "    </tr>\n",
       "    <tr>\n",
       "      <th>3</th>\n",
       "      <td>199907</td>\n",
       "      <td>1999-07-01</td>\n",
       "      <td>ATA Airlines</td>\n",
       "      <td>TZ</td>\n",
       "      <td>ATA Airlines</td>\n",
       "      <td>TZ</td>\n",
       "      <td>Domestic</td>\n",
       "      <td>US</td>\n",
       "      <td>Enplaned</td>\n",
       "      <td>Mail</td>\n",
       "      <td>Passenger</td>\n",
       "      <td>89776</td>\n",
       "      <td>40.722394</td>\n",
       "      <td>2023-12-20 14:00:06</td>\n",
       "      <td>2023-12-20 16:48:03</td>\n",
       "    </tr>\n",
       "    <tr>\n",
       "      <th>4</th>\n",
       "      <td>199907</td>\n",
       "      <td>1999-07-01</td>\n",
       "      <td>Aeroflot Russian International Airlines</td>\n",
       "      <td>NaN</td>\n",
       "      <td>Aeroflot Russian International Airlines</td>\n",
       "      <td>NaN</td>\n",
       "      <td>International</td>\n",
       "      <td>Europe</td>\n",
       "      <td>Deplaned</td>\n",
       "      <td>Cargo</td>\n",
       "      <td>Passenger</td>\n",
       "      <td>13086</td>\n",
       "      <td>5.935810</td>\n",
       "      <td>2023-12-20 14:00:06</td>\n",
       "      <td>2023-12-20 16:48:03</td>\n",
       "    </tr>\n",
       "  </tbody>\n",
       "</table>\n",
       "</div>"
      ],
      "text/plain": [
       "   Activity Period Activity Period Start Date  \\\n",
       "0           199907                 1999-07-01   \n",
       "1           199907                 1999-07-01   \n",
       "2           199907                 1999-07-01   \n",
       "3           199907                 1999-07-01   \n",
       "4           199907                 1999-07-01   \n",
       "\n",
       "                         Operating Airline Operating Airline IATA Code  \\\n",
       "0                             ATA Airlines                          TZ   \n",
       "1                             ATA Airlines                          TZ   \n",
       "2                             ATA Airlines                          TZ   \n",
       "3                             ATA Airlines                          TZ   \n",
       "4  Aeroflot Russian International Airlines                         NaN   \n",
       "\n",
       "                         Published Airline Published Airline IATA Code  \\\n",
       "0                             ATA Airlines                          TZ   \n",
       "1                             ATA Airlines                          TZ   \n",
       "2                             ATA Airlines                          TZ   \n",
       "3                             ATA Airlines                          TZ   \n",
       "4  Aeroflot Russian International Airlines                         NaN   \n",
       "\n",
       "     GEO Summary GEO Region Activity Type Code Cargo Type Code  \\\n",
       "0       Domestic         US           Deplaned           Cargo   \n",
       "1       Domestic         US           Deplaned            Mail   \n",
       "2       Domestic         US           Enplaned           Cargo   \n",
       "3       Domestic         US           Enplaned            Mail   \n",
       "4  International     Europe           Deplaned           Cargo   \n",
       "\n",
       "  Cargo Aircraft Type  Cargo Weight LBS  Cargo Metric TONS  \\\n",
       "0           Passenger            349048         158.328173   \n",
       "1           Passenger            122003          55.340561   \n",
       "2           Passenger            514450         233.354520   \n",
       "3           Passenger             89776          40.722394   \n",
       "4           Passenger             13086           5.935810   \n",
       "\n",
       "           data_as_of      data_loaded_at  \n",
       "0 2023-12-20 14:00:06 2023-12-20 16:48:03  \n",
       "1 2023-12-20 14:00:06 2023-12-20 16:48:03  \n",
       "2 2023-12-20 14:00:06 2023-12-20 16:48:03  \n",
       "3 2023-12-20 14:00:06 2023-12-20 16:48:03  \n",
       "4 2023-12-20 14:00:06 2023-12-20 16:48:03  "
      ]
     },
     "execution_count": 3,
     "metadata": {},
     "output_type": "execute_result"
    }
   ],
   "source": [
    "df.head()"
   ]
  },
  {
   "cell_type": "code",
   "execution_count": 4,
   "id": "894e6955",
   "metadata": {
    "execution": {
     "iopub.execute_input": "2024-02-03T00:09:12.411925Z",
     "iopub.status.busy": "2024-02-03T00:09:12.411443Z",
     "iopub.status.idle": "2024-02-03T00:09:12.433006Z",
     "shell.execute_reply": "2024-02-03T00:09:12.431735Z"
    },
    "papermill": {
     "duration": 0.0347,
     "end_time": "2024-02-03T00:09:12.436188",
     "exception": false,
     "start_time": "2024-02-03T00:09:12.401488",
     "status": "completed"
    },
    "tags": []
   },
   "outputs": [
    {
     "data": {
      "text/plain": [
       "Index(['Activity Period Start Date', 'Operating Airline', 'Published Airline',\n",
       "       'GEO Summary', 'GEO Region', 'Activity Type Code', 'Cargo Type Code',\n",
       "       'Cargo Aircraft Type', 'Cargo Weight LBS', 'Cargo Metric TONS'],\n",
       "      dtype='object')"
      ]
     },
     "execution_count": 4,
     "metadata": {},
     "output_type": "execute_result"
    }
   ],
   "source": [
    "#select all columns that we need\n",
    "df = df[[\n",
    "#     'Activity Period',\n",
    "    'Activity Period Start Date',\n",
    "    'Operating Airline',\n",
    "#     'Operating Airline IATA Code',\n",
    "    'Published Airline',\n",
    "#     'Published Airline IATA Code',\n",
    "    'GEO Summary',\n",
    "    'GEO Region',\n",
    "    'Activity Type Code',\n",
    "    'Cargo Type Code',\n",
    "    'Cargo Aircraft Type',\n",
    "    'Cargo Weight LBS',\n",
    "    'Cargo Metric TONS',\n",
    "#     'data_as_of',\n",
    "#     'data_loaded_at'\n",
    "]].copy()\n",
    "\n",
    "df.columns"
   ]
  },
  {
   "cell_type": "code",
   "execution_count": 5,
   "id": "bab98d53",
   "metadata": {
    "execution": {
     "iopub.execute_input": "2024-02-03T00:09:12.454877Z",
     "iopub.status.busy": "2024-02-03T00:09:12.453997Z",
     "iopub.status.idle": "2024-02-03T00:09:12.482843Z",
     "shell.execute_reply": "2024-02-03T00:09:12.481743Z"
    },
    "papermill": {
     "duration": 0.040524,
     "end_time": "2024-02-03T00:09:12.485500",
     "exception": false,
     "start_time": "2024-02-03T00:09:12.444976",
     "status": "completed"
    },
    "tags": []
   },
   "outputs": [
    {
     "data": {
      "text/html": [
       "<div>\n",
       "<style scoped>\n",
       "    .dataframe tbody tr th:only-of-type {\n",
       "        vertical-align: middle;\n",
       "    }\n",
       "\n",
       "    .dataframe tbody tr th {\n",
       "        vertical-align: top;\n",
       "    }\n",
       "\n",
       "    .dataframe thead th {\n",
       "        text-align: right;\n",
       "    }\n",
       "</style>\n",
       "<table border=\"1\" class=\"dataframe\">\n",
       "  <thead>\n",
       "    <tr style=\"text-align: right;\">\n",
       "      <th></th>\n",
       "      <th>activity_period_start_date</th>\n",
       "      <th>operating_airline</th>\n",
       "      <th>published_airline</th>\n",
       "      <th>geo_summary</th>\n",
       "      <th>geo_region</th>\n",
       "      <th>activity_type_code</th>\n",
       "      <th>cargo_type_code</th>\n",
       "      <th>cargo_aircraft_type</th>\n",
       "      <th>cargo_weight_lbs</th>\n",
       "      <th>cargo_metric_tons</th>\n",
       "    </tr>\n",
       "  </thead>\n",
       "  <tbody>\n",
       "    <tr>\n",
       "      <th>0</th>\n",
       "      <td>1999-07-01</td>\n",
       "      <td>ATA Airlines</td>\n",
       "      <td>ATA Airlines</td>\n",
       "      <td>Domestic</td>\n",
       "      <td>US</td>\n",
       "      <td>Deplaned</td>\n",
       "      <td>Cargo</td>\n",
       "      <td>Passenger</td>\n",
       "      <td>349048</td>\n",
       "      <td>158.328173</td>\n",
       "    </tr>\n",
       "    <tr>\n",
       "      <th>1</th>\n",
       "      <td>1999-07-01</td>\n",
       "      <td>ATA Airlines</td>\n",
       "      <td>ATA Airlines</td>\n",
       "      <td>Domestic</td>\n",
       "      <td>US</td>\n",
       "      <td>Deplaned</td>\n",
       "      <td>Mail</td>\n",
       "      <td>Passenger</td>\n",
       "      <td>122003</td>\n",
       "      <td>55.340561</td>\n",
       "    </tr>\n",
       "    <tr>\n",
       "      <th>2</th>\n",
       "      <td>1999-07-01</td>\n",
       "      <td>ATA Airlines</td>\n",
       "      <td>ATA Airlines</td>\n",
       "      <td>Domestic</td>\n",
       "      <td>US</td>\n",
       "      <td>Enplaned</td>\n",
       "      <td>Cargo</td>\n",
       "      <td>Passenger</td>\n",
       "      <td>514450</td>\n",
       "      <td>233.354520</td>\n",
       "    </tr>\n",
       "    <tr>\n",
       "      <th>3</th>\n",
       "      <td>1999-07-01</td>\n",
       "      <td>ATA Airlines</td>\n",
       "      <td>ATA Airlines</td>\n",
       "      <td>Domestic</td>\n",
       "      <td>US</td>\n",
       "      <td>Enplaned</td>\n",
       "      <td>Mail</td>\n",
       "      <td>Passenger</td>\n",
       "      <td>89776</td>\n",
       "      <td>40.722394</td>\n",
       "    </tr>\n",
       "    <tr>\n",
       "      <th>4</th>\n",
       "      <td>1999-07-01</td>\n",
       "      <td>Aeroflot Russian International Airlines</td>\n",
       "      <td>Aeroflot Russian International Airlines</td>\n",
       "      <td>International</td>\n",
       "      <td>Europe</td>\n",
       "      <td>Deplaned</td>\n",
       "      <td>Cargo</td>\n",
       "      <td>Passenger</td>\n",
       "      <td>13086</td>\n",
       "      <td>5.935810</td>\n",
       "    </tr>\n",
       "    <tr>\n",
       "      <th>...</th>\n",
       "      <td>...</td>\n",
       "      <td>...</td>\n",
       "      <td>...</td>\n",
       "      <td>...</td>\n",
       "      <td>...</td>\n",
       "      <td>...</td>\n",
       "      <td>...</td>\n",
       "      <td>...</td>\n",
       "      <td>...</td>\n",
       "      <td>...</td>\n",
       "    </tr>\n",
       "    <tr>\n",
       "      <th>54038</th>\n",
       "      <td>2023-10-01</td>\n",
       "      <td>Vietnam Airlines JSC</td>\n",
       "      <td>Vietnam Airlines JSC</td>\n",
       "      <td>International</td>\n",
       "      <td>Asia</td>\n",
       "      <td>Deplaned</td>\n",
       "      <td>Cargo</td>\n",
       "      <td>Passenger</td>\n",
       "      <td>286532</td>\n",
       "      <td>129.970915</td>\n",
       "    </tr>\n",
       "    <tr>\n",
       "      <th>54039</th>\n",
       "      <td>2023-10-01</td>\n",
       "      <td>Vietnam Airlines JSC</td>\n",
       "      <td>Vietnam Airlines JSC</td>\n",
       "      <td>International</td>\n",
       "      <td>Asia</td>\n",
       "      <td>Enplaned</td>\n",
       "      <td>Cargo</td>\n",
       "      <td>Passenger</td>\n",
       "      <td>67673</td>\n",
       "      <td>30.696473</td>\n",
       "    </tr>\n",
       "    <tr>\n",
       "      <th>54040</th>\n",
       "      <td>2023-10-01</td>\n",
       "      <td>Virgin Atlantic</td>\n",
       "      <td>Virgin Atlantic</td>\n",
       "      <td>International</td>\n",
       "      <td>Europe</td>\n",
       "      <td>Deplaned</td>\n",
       "      <td>Cargo</td>\n",
       "      <td>Passenger</td>\n",
       "      <td>212137</td>\n",
       "      <td>96.225343</td>\n",
       "    </tr>\n",
       "    <tr>\n",
       "      <th>54041</th>\n",
       "      <td>2023-10-01</td>\n",
       "      <td>Virgin Atlantic</td>\n",
       "      <td>Virgin Atlantic</td>\n",
       "      <td>International</td>\n",
       "      <td>Europe</td>\n",
       "      <td>Enplaned</td>\n",
       "      <td>Cargo</td>\n",
       "      <td>Passenger</td>\n",
       "      <td>196029</td>\n",
       "      <td>88.918754</td>\n",
       "    </tr>\n",
       "    <tr>\n",
       "      <th>54042</th>\n",
       "      <td>2023-10-01</td>\n",
       "      <td>ZIPAIR Tokyo Inc</td>\n",
       "      <td>ZIPAIR Tokyo Inc</td>\n",
       "      <td>International</td>\n",
       "      <td>Asia</td>\n",
       "      <td>Deplaned</td>\n",
       "      <td>Cargo</td>\n",
       "      <td>Passenger</td>\n",
       "      <td>490826</td>\n",
       "      <td>222.638674</td>\n",
       "    </tr>\n",
       "  </tbody>\n",
       "</table>\n",
       "<p>54043 rows × 10 columns</p>\n",
       "</div>"
      ],
      "text/plain": [
       "      activity_period_start_date                        operating_airline  \\\n",
       "0                     1999-07-01                             ATA Airlines   \n",
       "1                     1999-07-01                             ATA Airlines   \n",
       "2                     1999-07-01                             ATA Airlines   \n",
       "3                     1999-07-01                             ATA Airlines   \n",
       "4                     1999-07-01  Aeroflot Russian International Airlines   \n",
       "...                          ...                                      ...   \n",
       "54038                 2023-10-01                     Vietnam Airlines JSC   \n",
       "54039                 2023-10-01                     Vietnam Airlines JSC   \n",
       "54040                 2023-10-01                          Virgin Atlantic   \n",
       "54041                 2023-10-01                          Virgin Atlantic   \n",
       "54042                 2023-10-01                         ZIPAIR Tokyo Inc   \n",
       "\n",
       "                             published_airline    geo_summary geo_region  \\\n",
       "0                                 ATA Airlines       Domestic         US   \n",
       "1                                 ATA Airlines       Domestic         US   \n",
       "2                                 ATA Airlines       Domestic         US   \n",
       "3                                 ATA Airlines       Domestic         US   \n",
       "4      Aeroflot Russian International Airlines  International     Europe   \n",
       "...                                        ...            ...        ...   \n",
       "54038                     Vietnam Airlines JSC  International       Asia   \n",
       "54039                     Vietnam Airlines JSC  International       Asia   \n",
       "54040                          Virgin Atlantic  International     Europe   \n",
       "54041                          Virgin Atlantic  International     Europe   \n",
       "54042                         ZIPAIR Tokyo Inc  International       Asia   \n",
       "\n",
       "      activity_type_code cargo_type_code cargo_aircraft_type  \\\n",
       "0               Deplaned           Cargo           Passenger   \n",
       "1               Deplaned            Mail           Passenger   \n",
       "2               Enplaned           Cargo           Passenger   \n",
       "3               Enplaned            Mail           Passenger   \n",
       "4               Deplaned           Cargo           Passenger   \n",
       "...                  ...             ...                 ...   \n",
       "54038           Deplaned           Cargo           Passenger   \n",
       "54039           Enplaned           Cargo           Passenger   \n",
       "54040           Deplaned           Cargo           Passenger   \n",
       "54041           Enplaned           Cargo           Passenger   \n",
       "54042           Deplaned           Cargo           Passenger   \n",
       "\n",
       "       cargo_weight_lbs  cargo_metric_tons  \n",
       "0                349048         158.328173  \n",
       "1                122003          55.340561  \n",
       "2                514450         233.354520  \n",
       "3                 89776          40.722394  \n",
       "4                 13086           5.935810  \n",
       "...                 ...                ...  \n",
       "54038            286532         129.970915  \n",
       "54039             67673          30.696473  \n",
       "54040            212137          96.225343  \n",
       "54041            196029          88.918754  \n",
       "54042            490826         222.638674  \n",
       "\n",
       "[54043 rows x 10 columns]"
      ]
     },
     "execution_count": 5,
     "metadata": {},
     "output_type": "execute_result"
    }
   ],
   "source": [
    "#change all columns name\n",
    "df = df.rename(columns={\n",
    "    'Activity Period Start Date' : 'activity_period_start_date',\n",
    "    'Operating Airline' : 'operating_airline',\n",
    "    'Published Airline' : 'published_airline',\n",
    "    'GEO Summary' : 'geo_summary',\n",
    "    'GEO Region' : 'geo_region',\n",
    "    'Activity Type Code' : 'activity_type_code',\n",
    "    'Cargo Type Code' : 'cargo_type_code',\n",
    "    'Cargo Aircraft Type' : 'cargo_aircraft_type',\n",
    "    'Cargo Weight LBS' : 'cargo_weight_lbs',\n",
    "    'Cargo Metric TONS' : 'cargo_metric_tons'\n",
    "})\n",
    "\n",
    "df"
   ]
  },
  {
   "cell_type": "code",
   "execution_count": 6,
   "id": "b19c4d61",
   "metadata": {
    "execution": {
     "iopub.execute_input": "2024-02-03T00:09:12.503771Z",
     "iopub.status.busy": "2024-02-03T00:09:12.501593Z",
     "iopub.status.idle": "2024-02-03T00:09:12.523153Z",
     "shell.execute_reply": "2024-02-03T00:09:12.522111Z"
    },
    "papermill": {
     "duration": 0.033451,
     "end_time": "2024-02-03T00:09:12.525633",
     "exception": false,
     "start_time": "2024-02-03T00:09:12.492182",
     "status": "completed"
    },
    "tags": []
   },
   "outputs": [
    {
     "data": {
      "text/plain": [
       "operating_airline\n",
       "21 Air, LLC             16\n",
       "ABX Air                334\n",
       "ASTAR USA, LLC          16\n",
       "ATA Airlines           324\n",
       "Active Aero Charter      2\n",
       "                      ... \n",
       "Virgin America           5\n",
       "Virgin Atlantic        706\n",
       "WOW Air                 55\n",
       "World Airways           36\n",
       "ZIPAIR Tokyo Inc         5\n",
       "Name: count, Length: 130, dtype: int64"
      ]
     },
     "execution_count": 6,
     "metadata": {},
     "output_type": "execute_result"
    }
   ],
   "source": [
    "df['operating_airline'].value_counts().sort_index()\n",
    "# hitungan_awal = df['operating_airline'].value_counts().sort_index()\n",
    "# len(hitungan_awal)"
   ]
  },
  {
   "cell_type": "code",
   "execution_count": 7,
   "id": "6f722022",
   "metadata": {
    "execution": {
     "iopub.execute_input": "2024-02-03T00:09:12.541849Z",
     "iopub.status.busy": "2024-02-03T00:09:12.541100Z",
     "iopub.status.idle": "2024-02-03T00:09:12.588038Z",
     "shell.execute_reply": "2024-02-03T00:09:12.586949Z"
    },
    "papermill": {
     "duration": 0.058321,
     "end_time": "2024-02-03T00:09:12.590918",
     "exception": false,
     "start_time": "2024-02-03T00:09:12.532597",
     "status": "completed"
    },
    "tags": []
   },
   "outputs": [
    {
     "data": {
      "text/plain": [
       "Index(['All Nippon Company Airways, Ltd.', 'TACA International Airlines, S.A.',\n",
       "       'Atlas Air, Inc', 'Aer Lingus, Ltd.', 'COPA Airlines, Inc.',\n",
       "       'Air Transport International, Inc.', 'Atlas Air, Inc. (inactive)',\n",
       "       'China Eastern Airlines, Inc', 'Emery Worldwide Airlines, Inc.',\n",
       "       'ASTAR USA, LLC', '21 Air, LLC', 'Air Transport International, LLC.',\n",
       "       'Total Airport Services, Inc. (Inactive)', 'Norse Atlantic UK, Ltd.'],\n",
       "      dtype='object', name='operating_airline')"
      ]
     },
     "execution_count": 7,
     "metadata": {},
     "output_type": "execute_result"
    }
   ],
   "source": [
    "df['operating_airline'].loc[df['operating_airline'].str.contains(',')].value_counts().index"
   ]
  },
  {
   "cell_type": "code",
   "execution_count": 8,
   "id": "4fbe106f",
   "metadata": {
    "execution": {
     "iopub.execute_input": "2024-02-03T00:09:12.606942Z",
     "iopub.status.busy": "2024-02-03T00:09:12.606527Z",
     "iopub.status.idle": "2024-02-03T00:09:15.044068Z",
     "shell.execute_reply": "2024-02-03T00:09:15.042467Z"
    },
    "papermill": {
     "duration": 2.449881,
     "end_time": "2024-02-03T00:09:15.047925",
     "exception": false,
     "start_time": "2024-02-03T00:09:12.598044",
     "status": "completed"
    },
    "tags": []
   },
   "outputs": [
    {
     "data": {
      "text/plain": [
       "operating_airline\n",
       "21 Air                  16\n",
       "ABX Air                334\n",
       "ASTAR USA               16\n",
       "ATA Airlines           324\n",
       "Active Aero Charter      2\n",
       "                      ... \n",
       "Virgin America           5\n",
       "Virgin Atlantic        706\n",
       "WOW Air                 55\n",
       "World Airways           36\n",
       "ZIPAIR Tokyo             5\n",
       "Name: count, Length: 126, dtype: int64"
      ]
     },
     "execution_count": 8,
     "metadata": {},
     "output_type": "execute_result"
    }
   ],
   "source": [
    "#remove extension from airlines name\n",
    "def airline_name_cleaner(df):\n",
    "    dfcopy = df.replace(r'\\bInc\\b|\\bLLC\\b|\\bLimited\\b|\\bLtd\\b|\\binactive\\b|\\bPre 07/01/2013\\b|\\bbecame Delta\\b|\\bLTD\\b|\\bGmbH\\b|\\bEHF\\b|\\bASA\\b|\\bCO\\b|\\bJSC\\b|\\bSPA\\b|\\bSA\\b', '',regex=True).copy()\n",
    "    dfcopy = dfcopy.replace(r'\\([^)]*\\)|[-,.]', '', regex=True)\n",
    "    dfcopy = dfcopy.applymap(lambda x: x.strip() if isinstance(x, str) else x) #remove all white space\n",
    "    return dfcopy\n",
    "\n",
    "dfcopy = airline_name_cleaner(df)\n",
    "dfcopy['operating_airline'].value_counts().sort_index()\n"
   ]
  },
  {
   "cell_type": "code",
   "execution_count": 9,
   "id": "621b24d7",
   "metadata": {
    "execution": {
     "iopub.execute_input": "2024-02-03T00:09:15.065341Z",
     "iopub.status.busy": "2024-02-03T00:09:15.064901Z",
     "iopub.status.idle": "2024-02-03T00:09:15.100346Z",
     "shell.execute_reply": "2024-02-03T00:09:15.099185Z"
    },
    "papermill": {
     "duration": 0.047487,
     "end_time": "2024-02-03T00:09:15.102994",
     "exception": false,
     "start_time": "2024-02-03T00:09:15.055507",
     "status": "completed"
    },
    "tags": []
   },
   "outputs": [
    {
     "data": {
      "text/html": [
       "<div>\n",
       "<style scoped>\n",
       "    .dataframe tbody tr th:only-of-type {\n",
       "        vertical-align: middle;\n",
       "    }\n",
       "\n",
       "    .dataframe tbody tr th {\n",
       "        vertical-align: top;\n",
       "    }\n",
       "\n",
       "    .dataframe thead th {\n",
       "        text-align: right;\n",
       "    }\n",
       "</style>\n",
       "<table border=\"1\" class=\"dataframe\">\n",
       "  <thead>\n",
       "    <tr style=\"text-align: right;\">\n",
       "      <th></th>\n",
       "      <th>activity_period_start_date</th>\n",
       "      <th>cargo_weight_lbs</th>\n",
       "      <th>cargo_metric_tons</th>\n",
       "    </tr>\n",
       "  </thead>\n",
       "  <tbody>\n",
       "    <tr>\n",
       "      <th>count</th>\n",
       "      <td>54043</td>\n",
       "      <td>5.404300e+04</td>\n",
       "      <td>54043.000000</td>\n",
       "    </tr>\n",
       "    <tr>\n",
       "      <th>mean</th>\n",
       "      <td>2011-04-10 05:33:47.252372992</td>\n",
       "      <td>5.194877e+05</td>\n",
       "      <td>235.639615</td>\n",
       "    </tr>\n",
       "    <tr>\n",
       "      <th>min</th>\n",
       "      <td>1999-07-01 00:00:00</td>\n",
       "      <td>1.000000e+00</td>\n",
       "      <td>0.000454</td>\n",
       "    </tr>\n",
       "    <tr>\n",
       "      <th>25%</th>\n",
       "      <td>2005-02-01 00:00:00</td>\n",
       "      <td>1.961600e+04</td>\n",
       "      <td>8.897818</td>\n",
       "    </tr>\n",
       "    <tr>\n",
       "      <th>50%</th>\n",
       "      <td>2011-02-01 00:00:00</td>\n",
       "      <td>1.443320e+05</td>\n",
       "      <td>65.468995</td>\n",
       "    </tr>\n",
       "    <tr>\n",
       "      <th>75%</th>\n",
       "      <td>2017-07-01 00:00:00</td>\n",
       "      <td>5.918965e+05</td>\n",
       "      <td>268.484252</td>\n",
       "    </tr>\n",
       "    <tr>\n",
       "      <th>max</th>\n",
       "      <td>2023-10-01 00:00:00</td>\n",
       "      <td>2.381234e+07</td>\n",
       "      <td>10801.278331</td>\n",
       "    </tr>\n",
       "    <tr>\n",
       "      <th>std</th>\n",
       "      <td>NaN</td>\n",
       "      <td>1.015188e+06</td>\n",
       "      <td>460.489304</td>\n",
       "    </tr>\n",
       "  </tbody>\n",
       "</table>\n",
       "</div>"
      ],
      "text/plain": [
       "          activity_period_start_date  cargo_weight_lbs  cargo_metric_tons\n",
       "count                          54043      5.404300e+04       54043.000000\n",
       "mean   2011-04-10 05:33:47.252372992      5.194877e+05         235.639615\n",
       "min              1999-07-01 00:00:00      1.000000e+00           0.000454\n",
       "25%              2005-02-01 00:00:00      1.961600e+04           8.897818\n",
       "50%              2011-02-01 00:00:00      1.443320e+05          65.468995\n",
       "75%              2017-07-01 00:00:00      5.918965e+05         268.484252\n",
       "max              2023-10-01 00:00:00      2.381234e+07       10801.278331\n",
       "std                              NaN      1.015188e+06         460.489304"
      ]
     },
     "execution_count": 9,
     "metadata": {},
     "output_type": "execute_result"
    }
   ],
   "source": [
    "df.describe()"
   ]
  },
  {
   "cell_type": "code",
   "execution_count": 10,
   "id": "2a0e5729",
   "metadata": {
    "execution": {
     "iopub.execute_input": "2024-02-03T00:09:15.119913Z",
     "iopub.status.busy": "2024-02-03T00:09:15.119515Z",
     "iopub.status.idle": "2024-02-03T00:09:15.240052Z",
     "shell.execute_reply": "2024-02-03T00:09:15.238891Z"
    },
    "papermill": {
     "duration": 0.13222,
     "end_time": "2024-02-03T00:09:15.242822",
     "exception": false,
     "start_time": "2024-02-03T00:09:15.110602",
     "status": "completed"
    },
    "tags": []
   },
   "outputs": [
    {
     "data": {
      "text/html": [
       "<div>\n",
       "<style scoped>\n",
       "    .dataframe tbody tr th:only-of-type {\n",
       "        vertical-align: middle;\n",
       "    }\n",
       "\n",
       "    .dataframe tbody tr th {\n",
       "        vertical-align: top;\n",
       "    }\n",
       "\n",
       "    .dataframe thead th {\n",
       "        text-align: right;\n",
       "    }\n",
       "</style>\n",
       "<table border=\"1\" class=\"dataframe\">\n",
       "  <thead>\n",
       "    <tr style=\"text-align: right;\">\n",
       "      <th></th>\n",
       "      <th>operating_airline</th>\n",
       "      <th>published_airline</th>\n",
       "      <th>geo_summary</th>\n",
       "      <th>geo_region</th>\n",
       "      <th>activity_type_code</th>\n",
       "      <th>cargo_type_code</th>\n",
       "      <th>cargo_aircraft_type</th>\n",
       "    </tr>\n",
       "  </thead>\n",
       "  <tbody>\n",
       "    <tr>\n",
       "      <th>count</th>\n",
       "      <td>54043</td>\n",
       "      <td>54043</td>\n",
       "      <td>54043</td>\n",
       "      <td>54043</td>\n",
       "      <td>54043</td>\n",
       "      <td>54043</td>\n",
       "      <td>54043</td>\n",
       "    </tr>\n",
       "    <tr>\n",
       "      <th>unique</th>\n",
       "      <td>130</td>\n",
       "      <td>119</td>\n",
       "      <td>2</td>\n",
       "      <td>9</td>\n",
       "      <td>2</td>\n",
       "      <td>3</td>\n",
       "      <td>3</td>\n",
       "    </tr>\n",
       "    <tr>\n",
       "      <th>top</th>\n",
       "      <td>United Airlines</td>\n",
       "      <td>United Airlines</td>\n",
       "      <td>International</td>\n",
       "      <td>Asia</td>\n",
       "      <td>Deplaned</td>\n",
       "      <td>Cargo</td>\n",
       "      <td>Passenger</td>\n",
       "    </tr>\n",
       "    <tr>\n",
       "      <th>freq</th>\n",
       "      <td>4758</td>\n",
       "      <td>4766</td>\n",
       "      <td>37735</td>\n",
       "      <td>19012</td>\n",
       "      <td>27630</td>\n",
       "      <td>29954</td>\n",
       "      <td>44391</td>\n",
       "    </tr>\n",
       "  </tbody>\n",
       "</table>\n",
       "</div>"
      ],
      "text/plain": [
       "       operating_airline published_airline    geo_summary geo_region  \\\n",
       "count              54043             54043          54043      54043   \n",
       "unique               130               119              2          9   \n",
       "top      United Airlines   United Airlines  International       Asia   \n",
       "freq                4758              4766          37735      19012   \n",
       "\n",
       "       activity_type_code cargo_type_code cargo_aircraft_type  \n",
       "count               54043           54043               54043  \n",
       "unique                  2               3                   3  \n",
       "top              Deplaned           Cargo           Passenger  \n",
       "freq                27630           29954               44391  "
      ]
     },
     "execution_count": 10,
     "metadata": {},
     "output_type": "execute_result"
    }
   ],
   "source": [
    "df.describe(include='object')"
   ]
  },
  {
   "cell_type": "markdown",
   "id": "b0a2be2d",
   "metadata": {
    "papermill": {
     "duration": 0.007479,
     "end_time": "2024-02-03T00:09:15.258172",
     "exception": false,
     "start_time": "2024-02-03T00:09:15.250693",
     "status": "completed"
    },
    "tags": []
   },
   "source": [
    "# Data Visualization"
   ]
  },
  {
   "cell_type": "code",
   "execution_count": 11,
   "id": "235e55e0",
   "metadata": {
    "execution": {
     "iopub.execute_input": "2024-02-03T00:09:15.275593Z",
     "iopub.status.busy": "2024-02-03T00:09:15.275122Z",
     "iopub.status.idle": "2024-02-03T00:09:15.655751Z",
     "shell.execute_reply": "2024-02-03T00:09:15.654328Z"
    },
    "papermill": {
     "duration": 0.392549,
     "end_time": "2024-02-03T00:09:15.658518",
     "exception": false,
     "start_time": "2024-02-03T00:09:15.265969",
     "status": "completed"
    },
    "tags": []
   },
   "outputs": [
    {
     "data": {
      "text/plain": [
       "<BarContainer object of 2 artists>"
      ]
     },
     "execution_count": 11,
     "metadata": {},
     "output_type": "execute_result"
    },
    {
     "data": {
      "image/png": "[encoded data removed]",
      "text/plain": [
       "<Figure size 640x480 with 1 Axes>"
      ]
     },
     "metadata": {},
     "output_type": "display_data"
    }
   ],
   "source": [
    "#make simple data visualization\n",
    "fig, ax = plt.subplots(layout='constrained')\n",
    " \n",
    "geo_summary = df.geo_summary.value_counts()\n",
    "\n",
    "ax.bar(geo_summary.index, geo_summary.values)"
   ]
  }
 ],
 "metadata": {
  "kaggle": {
   "accelerator": "none",
   "dataSources": [
    {
     "datasetId": 4234831,
     "sourceId": 7300010,
     "sourceType": "datasetVersion"
    }
   ],
   "dockerImageVersionId": 30626,
   "isGpuEnabled": false,
   "isInternetEnabled": true,
   "language": "python",
   "sourceType": "notebook"
  },
  "kernelspec": {
   "display_name": "Python 3",
   "language": "python",
   "name": "python3"
  },
  "language_info": {
   "codemirror_mode": {
    "name": "ipython",
    "version": 3
   },
   "file_extension": ".py",
   "mimetype": "text/x-python",
   "name": "python",
   "nbconvert_exporter": "python",
   "pygments_lexer": "ipython3",
   "version": "3.10.12"
  },
  "papermill": {
   "default_parameters": {},
   "duration": 11.882226,
   "end_time": "2024-02-03T00:09:16.289338",
   "environment_variables": {},
   "exception": null,
   "input_path": "__notebook__.ipynb",
   "output_path": "__notebook__.ipynb",
   "parameters": {},
   "start_time": "2024-02-03T00:09:04.407112",
   "version": "2.4.0"
  }
 },
 "nbformat": 4,
 "nbformat_minor": 5
}
