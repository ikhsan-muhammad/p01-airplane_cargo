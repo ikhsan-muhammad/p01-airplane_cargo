{
 "cells": [
  {
   "cell_type": "markdown",
   "id": "2a678245",
   "metadata": {
    "papermill": {
     "duration": 0.007161,
     "end_time": "2024-01-30T05:38:57.599456",
     "exception": false,
     "start_time": "2024-01-30T05:38:57.592295",
     "status": "completed"
    },
    "tags": []
   },
   "source": [
    "# Airplane Cargo Analysist"
   ]
  },
  {
   "cell_type": "markdown",
   "id": "320ad215",
   "metadata": {
    "papermill": {
     "duration": 0.006036,
     "end_time": "2024-01-30T05:38:57.612320",
     "exception": false,
     "start_time": "2024-01-30T05:38:57.606284",
     "status": "completed"
    },
    "tags": []
   },
   "source": [
    "**Metadata:**\n",
    "\n",
    "https://data.sfgov.org/Transportation/Air-Traffic-Cargo-Statistics/u397-j8nr/about_data [san francisco air cargo data]\n",
    "\n",
    "**Problem case:**\n",
    "* Evaluate the performance of different airlines based on cargo metrics, identifying top performers and areas for improvement.\n",
    "* Analyze patterns in different types of cargo activities to understand trends in the industry, such as the prevalence of express shipments or bulk cargo.\n",
    "* Examine cargo operations over time to identify seasonality, peak periods, or long-term trends in air cargo demand.\n",
    "* Benchmark the performance of specific airlines, regions, or aircraft types against industry averages to assess competitiveness\n",
    "* Utilize historical data to build predictive models for future air cargo trends, helping stakeholders make informed decisions."
   ]
  },
  {
   "cell_type": "markdown",
   "id": "d9e471ed",
   "metadata": {
    "papermill": {
     "duration": 0.005915,
     "end_time": "2024-01-30T05:38:57.624621",
     "exception": false,
     "start_time": "2024-01-30T05:38:57.618706",
     "status": "completed"
    },
    "tags": []
   },
   "source": [
    "## Data Wrangling"
   ]
  },
  {
   "cell_type": "code",
   "execution_count": 1,
   "id": "a9b506ee",
   "metadata": {
    "execution": {
     "iopub.execute_input": "2024-01-30T05:38:57.640415Z",
     "iopub.status.busy": "2024-01-30T05:38:57.639384Z",
     "iopub.status.idle": "2024-01-30T05:39:00.823420Z",
     "shell.execute_reply": "2024-01-30T05:39:00.822132Z"
    },
    "papermill": {
     "duration": 3.196514,
     "end_time": "2024-01-30T05:39:00.827405",
     "exception": false,
     "start_time": "2024-01-30T05:38:57.630891",
     "status": "completed"
    },
    "tags": []
   },
   "outputs": [],
   "source": [
    "#import necessary library\n",
    "import pandas as pd\n",
    "import numpy as np\n",
    "import matplotlib.pyplot as plt\n",
    "import seaborn as sns\n",
    "from fuzzywuzzy import fuzz,process\n",
    "\n",
    "#set all things that needed\n",
    "pd.set_option('display.max_columns', 100)\n",
    "plt.style.use('dark_background')\n",
    "\n",
    "df = pd.read_csv('/kaggle/input/air-traffic-cargo-statistic/Air_Traffic_Cargo_Statistics.csv')"
   ]
  },
  {
   "cell_type": "code",
   "execution_count": 2,
   "id": "e24bf91b",
   "metadata": {
    "execution": {
     "iopub.execute_input": "2024-01-30T05:39:00.843183Z",
     "iopub.status.busy": "2024-01-30T05:39:00.841973Z",
     "iopub.status.idle": "2024-01-30T05:39:00.853397Z",
     "shell.execute_reply": "2024-01-30T05:39:00.852030Z"
    },
    "papermill": {
     "duration": 0.02235,
     "end_time": "2024-01-30T05:39:00.856259",
     "exception": false,
     "start_time": "2024-01-30T05:39:00.833909",
     "status": "completed"
    },
    "tags": []
   },
   "outputs": [
    {
     "data": {
      "text/plain": [
       "(54043, 15)"
      ]
     },
     "execution_count": 2,
     "metadata": {},
     "output_type": "execute_result"
    }
   ],
   "source": [
    "df.shape"
   ]
  },
  {
   "cell_type": "code",
   "execution_count": 3,
   "id": "bd5c0f28",
   "metadata": {
    "execution": {
     "iopub.execute_input": "2024-01-30T05:39:00.872592Z",
     "iopub.status.busy": "2024-01-30T05:39:00.872070Z",
     "iopub.status.idle": "2024-01-30T05:39:00.908157Z",
     "shell.execute_reply": "2024-01-30T05:39:00.906870Z"
    },
    "papermill": {
     "duration": 0.048018,
     "end_time": "2024-01-30T05:39:00.911451",
     "exception": false,
     "start_time": "2024-01-30T05:39:00.863433",
     "status": "completed"
    },
    "tags": []
   },
   "outputs": [
    {
     "data": {
      "text/html": [
       "<div>\n",
       "<style scoped>\n",
       "    .dataframe tbody tr th:only-of-type {\n",
       "        vertical-align: middle;\n",
       "    }\n",
       "\n",
       "    .dataframe tbody tr th {\n",
       "        vertical-align: top;\n",
       "    }\n",
       "\n",
       "    .dataframe thead th {\n",
       "        text-align: right;\n",
       "    }\n",
       "</style>\n",
       "<table border=\"1\" class=\"dataframe\">\n",
       "  <thead>\n",
       "    <tr style=\"text-align: right;\">\n",
       "      <th></th>\n",
       "      <th>Activity Period</th>\n",
       "      <th>Activity Period Start Date</th>\n",
       "      <th>Operating Airline</th>\n",
       "      <th>Operating Airline IATA Code</th>\n",
       "      <th>Published Airline</th>\n",
       "      <th>Published Airline IATA Code</th>\n",
       "      <th>GEO Summary</th>\n",
       "      <th>GEO Region</th>\n",
       "      <th>Activity Type Code</th>\n",
       "      <th>Cargo Type Code</th>\n",
       "      <th>Cargo Aircraft Type</th>\n",
       "      <th>Cargo Weight LBS</th>\n",
       "      <th>Cargo Metric TONS</th>\n",
       "      <th>data_as_of</th>\n",
       "      <th>data_loaded_at</th>\n",
       "    </tr>\n",
       "  </thead>\n",
       "  <tbody>\n",
       "    <tr>\n",
       "      <th>0</th>\n",
       "      <td>199907</td>\n",
       "      <td>1999/07/01</td>\n",
       "      <td>ATA Airlines</td>\n",
       "      <td>TZ</td>\n",
       "      <td>ATA Airlines</td>\n",
       "      <td>TZ</td>\n",
       "      <td>Domestic</td>\n",
       "      <td>US</td>\n",
       "      <td>Deplaned</td>\n",
       "      <td>Cargo</td>\n",
       "      <td>Passenger</td>\n",
       "      <td>349048</td>\n",
       "      <td>158.328173</td>\n",
       "      <td>2023/12/20 02:00:06 PM</td>\n",
       "      <td>2023/12/20 04:48:03 PM</td>\n",
       "    </tr>\n",
       "    <tr>\n",
       "      <th>1</th>\n",
       "      <td>199907</td>\n",
       "      <td>1999/07/01</td>\n",
       "      <td>ATA Airlines</td>\n",
       "      <td>TZ</td>\n",
       "      <td>ATA Airlines</td>\n",
       "      <td>TZ</td>\n",
       "      <td>Domestic</td>\n",
       "      <td>US</td>\n",
       "      <td>Deplaned</td>\n",
       "      <td>Mail</td>\n",
       "      <td>Passenger</td>\n",
       "      <td>122003</td>\n",
       "      <td>55.340561</td>\n",
       "      <td>2023/12/20 02:00:06 PM</td>\n",
       "      <td>2023/12/20 04:48:03 PM</td>\n",
       "    </tr>\n",
       "    <tr>\n",
       "      <th>2</th>\n",
       "      <td>199907</td>\n",
       "      <td>1999/07/01</td>\n",
       "      <td>ATA Airlines</td>\n",
       "      <td>TZ</td>\n",
       "      <td>ATA Airlines</td>\n",
       "      <td>TZ</td>\n",
       "      <td>Domestic</td>\n",
       "      <td>US</td>\n",
       "      <td>Enplaned</td>\n",
       "      <td>Cargo</td>\n",
       "      <td>Passenger</td>\n",
       "      <td>514450</td>\n",
       "      <td>233.354520</td>\n",
       "      <td>2023/12/20 02:00:06 PM</td>\n",
       "      <td>2023/12/20 04:48:03 PM</td>\n",
       "    </tr>\n",
       "    <tr>\n",
       "      <th>3</th>\n",
       "      <td>199907</td>\n",
       "      <td>1999/07/01</td>\n",
       "      <td>ATA Airlines</td>\n",
       "      <td>TZ</td>\n",
       "      <td>ATA Airlines</td>\n",
       "      <td>TZ</td>\n",
       "      <td>Domestic</td>\n",
       "      <td>US</td>\n",
       "      <td>Enplaned</td>\n",
       "      <td>Mail</td>\n",
       "      <td>Passenger</td>\n",
       "      <td>89776</td>\n",
       "      <td>40.722394</td>\n",
       "      <td>2023/12/20 02:00:06 PM</td>\n",
       "      <td>2023/12/20 04:48:03 PM</td>\n",
       "    </tr>\n",
       "    <tr>\n",
       "      <th>4</th>\n",
       "      <td>199907</td>\n",
       "      <td>1999/07/01</td>\n",
       "      <td>Aeroflot Russian International Airlines</td>\n",
       "      <td>NaN</td>\n",
       "      <td>Aeroflot Russian International Airlines</td>\n",
       "      <td>NaN</td>\n",
       "      <td>International</td>\n",
       "      <td>Europe</td>\n",
       "      <td>Deplaned</td>\n",
       "      <td>Cargo</td>\n",
       "      <td>Passenger</td>\n",
       "      <td>13086</td>\n",
       "      <td>5.935810</td>\n",
       "      <td>2023/12/20 02:00:06 PM</td>\n",
       "      <td>2023/12/20 04:48:03 PM</td>\n",
       "    </tr>\n",
       "  </tbody>\n",
       "</table>\n",
       "</div>"
      ],
      "text/plain": [
       "   Activity Period Activity Period Start Date  \\\n",
       "0           199907                 1999/07/01   \n",
       "1           199907                 1999/07/01   \n",
       "2           199907                 1999/07/01   \n",
       "3           199907                 1999/07/01   \n",
       "4           199907                 1999/07/01   \n",
       "\n",
       "                         Operating Airline Operating Airline IATA Code  \\\n",
       "0                             ATA Airlines                          TZ   \n",
       "1                             ATA Airlines                          TZ   \n",
       "2                             ATA Airlines                          TZ   \n",
       "3                             ATA Airlines                          TZ   \n",
       "4  Aeroflot Russian International Airlines                         NaN   \n",
       "\n",
       "                         Published Airline Published Airline IATA Code  \\\n",
       "0                             ATA Airlines                          TZ   \n",
       "1                             ATA Airlines                          TZ   \n",
       "2                             ATA Airlines                          TZ   \n",
       "3                             ATA Airlines                          TZ   \n",
       "4  Aeroflot Russian International Airlines                         NaN   \n",
       "\n",
       "     GEO Summary GEO Region Activity Type Code Cargo Type Code  \\\n",
       "0       Domestic         US           Deplaned           Cargo   \n",
       "1       Domestic         US           Deplaned            Mail   \n",
       "2       Domestic         US           Enplaned           Cargo   \n",
       "3       Domestic         US           Enplaned            Mail   \n",
       "4  International     Europe           Deplaned           Cargo   \n",
       "\n",
       "  Cargo Aircraft Type  Cargo Weight LBS  Cargo Metric TONS  \\\n",
       "0           Passenger            349048         158.328173   \n",
       "1           Passenger            122003          55.340561   \n",
       "2           Passenger            514450         233.354520   \n",
       "3           Passenger             89776          40.722394   \n",
       "4           Passenger             13086           5.935810   \n",
       "\n",
       "               data_as_of          data_loaded_at  \n",
       "0  2023/12/20 02:00:06 PM  2023/12/20 04:48:03 PM  \n",
       "1  2023/12/20 02:00:06 PM  2023/12/20 04:48:03 PM  \n",
       "2  2023/12/20 02:00:06 PM  2023/12/20 04:48:03 PM  \n",
       "3  2023/12/20 02:00:06 PM  2023/12/20 04:48:03 PM  \n",
       "4  2023/12/20 02:00:06 PM  2023/12/20 04:48:03 PM  "
      ]
     },
     "execution_count": 3,
     "metadata": {},
     "output_type": "execute_result"
    }
   ],
   "source": [
    "df.head()"
   ]
  },
  {
   "cell_type": "code",
   "execution_count": 4,
   "id": "63d22dd2",
   "metadata": {
    "execution": {
     "iopub.execute_input": "2024-01-30T05:39:00.927346Z",
     "iopub.status.busy": "2024-01-30T05:39:00.926846Z",
     "iopub.status.idle": "2024-01-30T05:39:01.025159Z",
     "shell.execute_reply": "2024-01-30T05:39:01.023427Z"
    },
    "papermill": {
     "duration": 0.109752,
     "end_time": "2024-01-30T05:39:01.028176",
     "exception": false,
     "start_time": "2024-01-30T05:39:00.918424",
     "status": "completed"
    },
    "tags": []
   },
   "outputs": [
    {
     "name": "stdout",
     "output_type": "stream",
     "text": [
      "<class 'pandas.core.frame.DataFrame'>\n",
      "RangeIndex: 54043 entries, 0 to 54042\n",
      "Data columns (total 15 columns):\n",
      " #   Column                       Non-Null Count  Dtype  \n",
      "---  ------                       --------------  -----  \n",
      " 0   Activity Period              54043 non-null  int64  \n",
      " 1   Activity Period Start Date   54043 non-null  object \n",
      " 2   Operating Airline            54043 non-null  object \n",
      " 3   Operating Airline IATA Code  53465 non-null  object \n",
      " 4   Published Airline            54043 non-null  object \n",
      " 5   Published Airline IATA Code  53465 non-null  object \n",
      " 6   GEO Summary                  54043 non-null  object \n",
      " 7   GEO Region                   54043 non-null  object \n",
      " 8   Activity Type Code           54043 non-null  object \n",
      " 9   Cargo Type Code              54043 non-null  object \n",
      " 10  Cargo Aircraft Type          54043 non-null  object \n",
      " 11  Cargo Weight LBS             54043 non-null  int64  \n",
      " 12  Cargo Metric TONS            54043 non-null  float64\n",
      " 13  data_as_of                   54043 non-null  object \n",
      " 14  data_loaded_at               54043 non-null  object \n",
      "dtypes: float64(1), int64(2), object(12)\n",
      "memory usage: 6.2+ MB\n"
     ]
    }
   ],
   "source": [
    "df.info()"
   ]
  },
  {
   "cell_type": "code",
   "execution_count": 5,
   "id": "5d1a4592",
   "metadata": {
    "execution": {
     "iopub.execute_input": "2024-01-30T05:39:01.045260Z",
     "iopub.status.busy": "2024-01-30T05:39:01.044065Z",
     "iopub.status.idle": "2024-01-30T05:39:01.061512Z",
     "shell.execute_reply": "2024-01-30T05:39:01.060267Z"
    },
    "papermill": {
     "duration": 0.029173,
     "end_time": "2024-01-30T05:39:01.064614",
     "exception": false,
     "start_time": "2024-01-30T05:39:01.035441",
     "status": "completed"
    },
    "tags": []
   },
   "outputs": [],
   "source": [
    "#select all columns that we need\n",
    "df = df[[\n",
    "#     'Activity Period',\n",
    "    'Activity Period Start Date',\n",
    "    'Operating Airline',\n",
    "#     'Operating Airline IATA Code',\n",
    "    'Published Airline',\n",
    "#     'Published Airline IATA Code',\n",
    "    'GEO Summary',\n",
    "    'GEO Region',\n",
    "    'Activity Type Code',\n",
    "    'Cargo Type Code',\n",
    "    'Cargo Aircraft Type',\n",
    "    'Cargo Weight LBS',\n",
    "    'Cargo Metric TONS',\n",
    "#     'data_as_of',\n",
    "#     'data_loaded_at'\n",
    "]]"
   ]
  },
  {
   "cell_type": "code",
   "execution_count": 6,
   "id": "679bf288",
   "metadata": {
    "execution": {
     "iopub.execute_input": "2024-01-30T05:39:01.081263Z",
     "iopub.status.busy": "2024-01-30T05:39:01.080346Z",
     "iopub.status.idle": "2024-01-30T05:39:01.108761Z",
     "shell.execute_reply": "2024-01-30T05:39:01.107638Z"
    },
    "papermill": {
     "duration": 0.039803,
     "end_time": "2024-01-30T05:39:01.111655",
     "exception": false,
     "start_time": "2024-01-30T05:39:01.071852",
     "status": "completed"
    },
    "tags": []
   },
   "outputs": [
    {
     "data": {
      "text/html": [
       "<div>\n",
       "<style scoped>\n",
       "    .dataframe tbody tr th:only-of-type {\n",
       "        vertical-align: middle;\n",
       "    }\n",
       "\n",
       "    .dataframe tbody tr th {\n",
       "        vertical-align: top;\n",
       "    }\n",
       "\n",
       "    .dataframe thead th {\n",
       "        text-align: right;\n",
       "    }\n",
       "</style>\n",
       "<table border=\"1\" class=\"dataframe\">\n",
       "  <thead>\n",
       "    <tr style=\"text-align: right;\">\n",
       "      <th></th>\n",
       "      <th>activity_period_start_date</th>\n",
       "      <th>operating_airline</th>\n",
       "      <th>published_airline</th>\n",
       "      <th>geo_summary</th>\n",
       "      <th>geo_region</th>\n",
       "      <th>activity_type_code</th>\n",
       "      <th>cargo_type_code</th>\n",
       "      <th>cargo_aircraft_type</th>\n",
       "      <th>cargo_weight_lbs</th>\n",
       "      <th>cargo_metric_tons</th>\n",
       "    </tr>\n",
       "  </thead>\n",
       "  <tbody>\n",
       "    <tr>\n",
       "      <th>0</th>\n",
       "      <td>1999/07/01</td>\n",
       "      <td>ATA Airlines</td>\n",
       "      <td>ATA Airlines</td>\n",
       "      <td>Domestic</td>\n",
       "      <td>US</td>\n",
       "      <td>Deplaned</td>\n",
       "      <td>Cargo</td>\n",
       "      <td>Passenger</td>\n",
       "      <td>349048</td>\n",
       "      <td>158.328173</td>\n",
       "    </tr>\n",
       "    <tr>\n",
       "      <th>1</th>\n",
       "      <td>1999/07/01</td>\n",
       "      <td>ATA Airlines</td>\n",
       "      <td>ATA Airlines</td>\n",
       "      <td>Domestic</td>\n",
       "      <td>US</td>\n",
       "      <td>Deplaned</td>\n",
       "      <td>Mail</td>\n",
       "      <td>Passenger</td>\n",
       "      <td>122003</td>\n",
       "      <td>55.340561</td>\n",
       "    </tr>\n",
       "    <tr>\n",
       "      <th>2</th>\n",
       "      <td>1999/07/01</td>\n",
       "      <td>ATA Airlines</td>\n",
       "      <td>ATA Airlines</td>\n",
       "      <td>Domestic</td>\n",
       "      <td>US</td>\n",
       "      <td>Enplaned</td>\n",
       "      <td>Cargo</td>\n",
       "      <td>Passenger</td>\n",
       "      <td>514450</td>\n",
       "      <td>233.354520</td>\n",
       "    </tr>\n",
       "    <tr>\n",
       "      <th>3</th>\n",
       "      <td>1999/07/01</td>\n",
       "      <td>ATA Airlines</td>\n",
       "      <td>ATA Airlines</td>\n",
       "      <td>Domestic</td>\n",
       "      <td>US</td>\n",
       "      <td>Enplaned</td>\n",
       "      <td>Mail</td>\n",
       "      <td>Passenger</td>\n",
       "      <td>89776</td>\n",
       "      <td>40.722394</td>\n",
       "    </tr>\n",
       "    <tr>\n",
       "      <th>4</th>\n",
       "      <td>1999/07/01</td>\n",
       "      <td>Aeroflot Russian International Airlines</td>\n",
       "      <td>Aeroflot Russian International Airlines</td>\n",
       "      <td>International</td>\n",
       "      <td>Europe</td>\n",
       "      <td>Deplaned</td>\n",
       "      <td>Cargo</td>\n",
       "      <td>Passenger</td>\n",
       "      <td>13086</td>\n",
       "      <td>5.935810</td>\n",
       "    </tr>\n",
       "    <tr>\n",
       "      <th>...</th>\n",
       "      <td>...</td>\n",
       "      <td>...</td>\n",
       "      <td>...</td>\n",
       "      <td>...</td>\n",
       "      <td>...</td>\n",
       "      <td>...</td>\n",
       "      <td>...</td>\n",
       "      <td>...</td>\n",
       "      <td>...</td>\n",
       "      <td>...</td>\n",
       "    </tr>\n",
       "    <tr>\n",
       "      <th>54038</th>\n",
       "      <td>2023/10/01</td>\n",
       "      <td>Vietnam Airlines JSC</td>\n",
       "      <td>Vietnam Airlines JSC</td>\n",
       "      <td>International</td>\n",
       "      <td>Asia</td>\n",
       "      <td>Deplaned</td>\n",
       "      <td>Cargo</td>\n",
       "      <td>Passenger</td>\n",
       "      <td>286532</td>\n",
       "      <td>129.970915</td>\n",
       "    </tr>\n",
       "    <tr>\n",
       "      <th>54039</th>\n",
       "      <td>2023/10/01</td>\n",
       "      <td>Vietnam Airlines JSC</td>\n",
       "      <td>Vietnam Airlines JSC</td>\n",
       "      <td>International</td>\n",
       "      <td>Asia</td>\n",
       "      <td>Enplaned</td>\n",
       "      <td>Cargo</td>\n",
       "      <td>Passenger</td>\n",
       "      <td>67673</td>\n",
       "      <td>30.696473</td>\n",
       "    </tr>\n",
       "    <tr>\n",
       "      <th>54040</th>\n",
       "      <td>2023/10/01</td>\n",
       "      <td>Virgin Atlantic</td>\n",
       "      <td>Virgin Atlantic</td>\n",
       "      <td>International</td>\n",
       "      <td>Europe</td>\n",
       "      <td>Deplaned</td>\n",
       "      <td>Cargo</td>\n",
       "      <td>Passenger</td>\n",
       "      <td>212137</td>\n",
       "      <td>96.225343</td>\n",
       "    </tr>\n",
       "    <tr>\n",
       "      <th>54041</th>\n",
       "      <td>2023/10/01</td>\n",
       "      <td>Virgin Atlantic</td>\n",
       "      <td>Virgin Atlantic</td>\n",
       "      <td>International</td>\n",
       "      <td>Europe</td>\n",
       "      <td>Enplaned</td>\n",
       "      <td>Cargo</td>\n",
       "      <td>Passenger</td>\n",
       "      <td>196029</td>\n",
       "      <td>88.918754</td>\n",
       "    </tr>\n",
       "    <tr>\n",
       "      <th>54042</th>\n",
       "      <td>2023/10/01</td>\n",
       "      <td>ZIPAIR Tokyo Inc</td>\n",
       "      <td>ZIPAIR Tokyo Inc</td>\n",
       "      <td>International</td>\n",
       "      <td>Asia</td>\n",
       "      <td>Deplaned</td>\n",
       "      <td>Cargo</td>\n",
       "      <td>Passenger</td>\n",
       "      <td>490826</td>\n",
       "      <td>222.638674</td>\n",
       "    </tr>\n",
       "  </tbody>\n",
       "</table>\n",
       "<p>54043 rows × 10 columns</p>\n",
       "</div>"
      ],
      "text/plain": [
       "      activity_period_start_date                        operating_airline  \\\n",
       "0                     1999/07/01                             ATA Airlines   \n",
       "1                     1999/07/01                             ATA Airlines   \n",
       "2                     1999/07/01                             ATA Airlines   \n",
       "3                     1999/07/01                             ATA Airlines   \n",
       "4                     1999/07/01  Aeroflot Russian International Airlines   \n",
       "...                          ...                                      ...   \n",
       "54038                 2023/10/01                     Vietnam Airlines JSC   \n",
       "54039                 2023/10/01                     Vietnam Airlines JSC   \n",
       "54040                 2023/10/01                          Virgin Atlantic   \n",
       "54041                 2023/10/01                          Virgin Atlantic   \n",
       "54042                 2023/10/01                         ZIPAIR Tokyo Inc   \n",
       "\n",
       "                             published_airline    geo_summary geo_region  \\\n",
       "0                                 ATA Airlines       Domestic         US   \n",
       "1                                 ATA Airlines       Domestic         US   \n",
       "2                                 ATA Airlines       Domestic         US   \n",
       "3                                 ATA Airlines       Domestic         US   \n",
       "4      Aeroflot Russian International Airlines  International     Europe   \n",
       "...                                        ...            ...        ...   \n",
       "54038                     Vietnam Airlines JSC  International       Asia   \n",
       "54039                     Vietnam Airlines JSC  International       Asia   \n",
       "54040                          Virgin Atlantic  International     Europe   \n",
       "54041                          Virgin Atlantic  International     Europe   \n",
       "54042                         ZIPAIR Tokyo Inc  International       Asia   \n",
       "\n",
       "      activity_type_code cargo_type_code cargo_aircraft_type  \\\n",
       "0               Deplaned           Cargo           Passenger   \n",
       "1               Deplaned            Mail           Passenger   \n",
       "2               Enplaned           Cargo           Passenger   \n",
       "3               Enplaned            Mail           Passenger   \n",
       "4               Deplaned           Cargo           Passenger   \n",
       "...                  ...             ...                 ...   \n",
       "54038           Deplaned           Cargo           Passenger   \n",
       "54039           Enplaned           Cargo           Passenger   \n",
       "54040           Deplaned           Cargo           Passenger   \n",
       "54041           Enplaned           Cargo           Passenger   \n",
       "54042           Deplaned           Cargo           Passenger   \n",
       "\n",
       "       cargo_weight_lbs  cargo_metric_tons  \n",
       "0                349048         158.328173  \n",
       "1                122003          55.340561  \n",
       "2                514450         233.354520  \n",
       "3                 89776          40.722394  \n",
       "4                 13086           5.935810  \n",
       "...                 ...                ...  \n",
       "54038            286532         129.970915  \n",
       "54039             67673          30.696473  \n",
       "54040            212137          96.225343  \n",
       "54041            196029          88.918754  \n",
       "54042            490826         222.638674  \n",
       "\n",
       "[54043 rows x 10 columns]"
      ]
     },
     "execution_count": 6,
     "metadata": {},
     "output_type": "execute_result"
    }
   ],
   "source": [
    "#change all columns name\n",
    "df = df.rename(columns={\n",
    "    'Activity Period Start Date' : 'activity_period_start_date',\n",
    "    'Operating Airline' : 'operating_airline',\n",
    "    'Published Airline' : 'published_airline',\n",
    "    'GEO Summary' : 'geo_summary',\n",
    "    'GEO Region' : 'geo_region',\n",
    "    'Activity Type Code' : 'activity_type_code',\n",
    "    'Cargo Type Code' : 'cargo_type_code',\n",
    "    'Cargo Aircraft Type' : 'cargo_aircraft_type',\n",
    "    'Cargo Weight LBS' : 'cargo_weight_lbs',\n",
    "    'Cargo Metric TONS' : 'cargo_metric_tons'\n",
    "})\n",
    "\n",
    "df"
   ]
  },
  {
   "cell_type": "code",
   "execution_count": 7,
   "id": "ece0963c",
   "metadata": {
    "execution": {
     "iopub.execute_input": "2024-01-30T05:39:01.129487Z",
     "iopub.status.busy": "2024-01-30T05:39:01.128250Z",
     "iopub.status.idle": "2024-01-30T05:39:01.150008Z",
     "shell.execute_reply": "2024-01-30T05:39:01.148710Z"
    },
    "papermill": {
     "duration": 0.03346,
     "end_time": "2024-01-30T05:39:01.152718",
     "exception": false,
     "start_time": "2024-01-30T05:39:01.119258",
     "status": "completed"
    },
    "tags": []
   },
   "outputs": [
    {
     "data": {
      "text/plain": [
       "operating_airline\n",
       "21 Air, LLC             16\n",
       "ABX Air                334\n",
       "ASTAR USA, LLC          16\n",
       "ATA Airlines           324\n",
       "Active Aero Charter      2\n",
       "                      ... \n",
       "Virgin America           5\n",
       "Virgin Atlantic        706\n",
       "WOW Air                 55\n",
       "World Airways           36\n",
       "ZIPAIR Tokyo Inc         5\n",
       "Name: count, Length: 130, dtype: int64"
      ]
     },
     "execution_count": 7,
     "metadata": {},
     "output_type": "execute_result"
    }
   ],
   "source": [
    "# pd.set_option('display.max_rows',200)\n",
    "# pd.reset_option('display.max_rows')\n",
    "df['operating_airline'].value_counts().sort_index()\n",
    "# hitungan_awal = df['operating_airline'].value_counts().sort_index()\n",
    "# len(hitungan_awal)"
   ]
  },
  {
   "cell_type": "code",
   "execution_count": 8,
   "id": "f722c09a",
   "metadata": {
    "execution": {
     "iopub.execute_input": "2024-01-30T05:39:01.170504Z",
     "iopub.status.busy": "2024-01-30T05:39:01.170078Z",
     "iopub.status.idle": "2024-01-30T05:39:01.218840Z",
     "shell.execute_reply": "2024-01-30T05:39:01.217463Z"
    },
    "papermill": {
     "duration": 0.061448,
     "end_time": "2024-01-30T05:39:01.222168",
     "exception": false,
     "start_time": "2024-01-30T05:39:01.160720",
     "status": "completed"
    },
    "tags": []
   },
   "outputs": [
    {
     "data": {
      "text/plain": [
       "Index(['All Nippon Company Airways, Ltd.', 'TACA International Airlines, S.A.',\n",
       "       'Atlas Air, Inc', 'Aer Lingus, Ltd.', 'COPA Airlines, Inc.',\n",
       "       'Air Transport International, Inc.', 'Atlas Air, Inc. (inactive)',\n",
       "       'China Eastern Airlines, Inc', 'Emery Worldwide Airlines, Inc.',\n",
       "       'ASTAR USA, LLC', '21 Air, LLC', 'Air Transport International, LLC.',\n",
       "       'Total Airport Services, Inc. (Inactive)', 'Norse Atlantic UK, Ltd.'],\n",
       "      dtype='object', name='operating_airline')"
      ]
     },
     "execution_count": 8,
     "metadata": {},
     "output_type": "execute_result"
    }
   ],
   "source": [
    "df['operating_airline'].loc[df['operating_airline'].str.contains(',')].value_counts().index"
   ]
  },
  {
   "cell_type": "code",
   "execution_count": 9,
   "id": "d801f8d6",
   "metadata": {
    "execution": {
     "iopub.execute_input": "2024-01-30T05:39:01.240582Z",
     "iopub.status.busy": "2024-01-30T05:39:01.240173Z",
     "iopub.status.idle": "2024-01-30T05:39:03.743341Z",
     "shell.execute_reply": "2024-01-30T05:39:03.741843Z"
    },
    "papermill": {
     "duration": 2.516194,
     "end_time": "2024-01-30T05:39:03.746630",
     "exception": false,
     "start_time": "2024-01-30T05:39:01.230436",
     "status": "completed"
    },
    "tags": []
   },
   "outputs": [
    {
     "data": {
      "text/plain": [
       "operating_airline\n",
       "21 Air                  16\n",
       "ABX Air                334\n",
       "ASTAR USA               16\n",
       "ATA Airlines           324\n",
       "Active Aero Charter      2\n",
       "                      ... \n",
       "Virgin America           5\n",
       "Virgin Atlantic        706\n",
       "WOW Air                 55\n",
       "World Airways           36\n",
       "ZIPAIR Tokyo             5\n",
       "Name: count, Length: 126, dtype: int64"
      ]
     },
     "execution_count": 9,
     "metadata": {},
     "output_type": "execute_result"
    }
   ],
   "source": [
    "#remove extension from airlines name\n",
    "def airline_name_cleaner(df):\n",
    "    dfcopy = df.replace(r'\\bInc\\b|\\bLLC\\b|\\bLimited\\b|\\bLtd\\b|\\binactive\\b|\\bPre 07/01/2013\\b|\\bbecame Delta\\b|\\bLTD\\b|\\bGmbH\\b|\\bEHF\\b|\\bASA\\b|\\bCO\\b|\\bJSC\\b|\\bSPA\\b|\\bSA\\b', '',regex=True).copy()\n",
    "    dfcopy = dfcopy.replace(r'\\([^)]*\\)|[-,.]', '', regex=True)\n",
    "    dfcopy = dfcopy.applymap(lambda x: x.strip() if isinstance(x, str) else x)\n",
    "    return dfcopy\n",
    "\n",
    "dfcopy = airline_name_cleaner(df)\n",
    "dfcopy['operating_airline'].value_counts().sort_index()\n"
   ]
  },
  {
   "cell_type": "code",
   "execution_count": 10,
   "id": "6226fd8f",
   "metadata": {
    "execution": {
     "iopub.execute_input": "2024-01-30T05:39:03.765043Z",
     "iopub.status.busy": "2024-01-30T05:39:03.764544Z",
     "iopub.status.idle": "2024-01-30T05:39:03.788186Z",
     "shell.execute_reply": "2024-01-30T05:39:03.786521Z"
    },
    "papermill": {
     "duration": 0.036638,
     "end_time": "2024-01-30T05:39:03.791365",
     "exception": false,
     "start_time": "2024-01-30T05:39:03.754727",
     "status": "completed"
    },
    "tags": []
   },
   "outputs": [],
   "source": [
    "#mengubah variable time nya ke dtype datetime\n",
    "df['activity_period_start_date'] = pd.to_datetime(df['activity_period_start_date'])"
   ]
  },
  {
   "cell_type": "code",
   "execution_count": 11,
   "id": "55babddb",
   "metadata": {
    "execution": {
     "iopub.execute_input": "2024-01-30T05:39:03.810322Z",
     "iopub.status.busy": "2024-01-30T05:39:03.809897Z",
     "iopub.status.idle": "2024-01-30T05:39:03.849710Z",
     "shell.execute_reply": "2024-01-30T05:39:03.848384Z"
    },
    "papermill": {
     "duration": 0.052916,
     "end_time": "2024-01-30T05:39:03.853033",
     "exception": false,
     "start_time": "2024-01-30T05:39:03.800117",
     "status": "completed"
    },
    "tags": []
   },
   "outputs": [
    {
     "data": {
      "text/html": [
       "<div>\n",
       "<style scoped>\n",
       "    .dataframe tbody tr th:only-of-type {\n",
       "        vertical-align: middle;\n",
       "    }\n",
       "\n",
       "    .dataframe tbody tr th {\n",
       "        vertical-align: top;\n",
       "    }\n",
       "\n",
       "    .dataframe thead th {\n",
       "        text-align: right;\n",
       "    }\n",
       "</style>\n",
       "<table border=\"1\" class=\"dataframe\">\n",
       "  <thead>\n",
       "    <tr style=\"text-align: right;\">\n",
       "      <th></th>\n",
       "      <th>activity_period_start_date</th>\n",
       "      <th>cargo_weight_lbs</th>\n",
       "      <th>cargo_metric_tons</th>\n",
       "    </tr>\n",
       "  </thead>\n",
       "  <tbody>\n",
       "    <tr>\n",
       "      <th>count</th>\n",
       "      <td>54043</td>\n",
       "      <td>5.404300e+04</td>\n",
       "      <td>54043.000000</td>\n",
       "    </tr>\n",
       "    <tr>\n",
       "      <th>mean</th>\n",
       "      <td>2011-04-10 05:33:47.252372992</td>\n",
       "      <td>5.194877e+05</td>\n",
       "      <td>235.639615</td>\n",
       "    </tr>\n",
       "    <tr>\n",
       "      <th>min</th>\n",
       "      <td>1999-07-01 00:00:00</td>\n",
       "      <td>1.000000e+00</td>\n",
       "      <td>0.000454</td>\n",
       "    </tr>\n",
       "    <tr>\n",
       "      <th>25%</th>\n",
       "      <td>2005-02-01 00:00:00</td>\n",
       "      <td>1.961600e+04</td>\n",
       "      <td>8.897818</td>\n",
       "    </tr>\n",
       "    <tr>\n",
       "      <th>50%</th>\n",
       "      <td>2011-02-01 00:00:00</td>\n",
       "      <td>1.443320e+05</td>\n",
       "      <td>65.468995</td>\n",
       "    </tr>\n",
       "    <tr>\n",
       "      <th>75%</th>\n",
       "      <td>2017-07-01 00:00:00</td>\n",
       "      <td>5.918965e+05</td>\n",
       "      <td>268.484252</td>\n",
       "    </tr>\n",
       "    <tr>\n",
       "      <th>max</th>\n",
       "      <td>2023-10-01 00:00:00</td>\n",
       "      <td>2.381234e+07</td>\n",
       "      <td>10801.278331</td>\n",
       "    </tr>\n",
       "    <tr>\n",
       "      <th>std</th>\n",
       "      <td>NaN</td>\n",
       "      <td>1.015188e+06</td>\n",
       "      <td>460.489304</td>\n",
       "    </tr>\n",
       "  </tbody>\n",
       "</table>\n",
       "</div>"
      ],
      "text/plain": [
       "          activity_period_start_date  cargo_weight_lbs  cargo_metric_tons\n",
       "count                          54043      5.404300e+04       54043.000000\n",
       "mean   2011-04-10 05:33:47.252372992      5.194877e+05         235.639615\n",
       "min              1999-07-01 00:00:00      1.000000e+00           0.000454\n",
       "25%              2005-02-01 00:00:00      1.961600e+04           8.897818\n",
       "50%              2011-02-01 00:00:00      1.443320e+05          65.468995\n",
       "75%              2017-07-01 00:00:00      5.918965e+05         268.484252\n",
       "max              2023-10-01 00:00:00      2.381234e+07       10801.278331\n",
       "std                              NaN      1.015188e+06         460.489304"
      ]
     },
     "execution_count": 11,
     "metadata": {},
     "output_type": "execute_result"
    }
   ],
   "source": [
    "df.describe()"
   ]
  },
  {
   "cell_type": "code",
   "execution_count": 12,
   "id": "8bff95b9",
   "metadata": {
    "execution": {
     "iopub.execute_input": "2024-01-30T05:39:03.871650Z",
     "iopub.status.busy": "2024-01-30T05:39:03.871078Z",
     "iopub.status.idle": "2024-01-30T05:39:03.990129Z",
     "shell.execute_reply": "2024-01-30T05:39:03.989012Z"
    },
    "papermill": {
     "duration": 0.131614,
     "end_time": "2024-01-30T05:39:03.992929",
     "exception": false,
     "start_time": "2024-01-30T05:39:03.861315",
     "status": "completed"
    },
    "tags": []
   },
   "outputs": [
    {
     "data": {
      "text/html": [
       "<div>\n",
       "<style scoped>\n",
       "    .dataframe tbody tr th:only-of-type {\n",
       "        vertical-align: middle;\n",
       "    }\n",
       "\n",
       "    .dataframe tbody tr th {\n",
       "        vertical-align: top;\n",
       "    }\n",
       "\n",
       "    .dataframe thead th {\n",
       "        text-align: right;\n",
       "    }\n",
       "</style>\n",
       "<table border=\"1\" class=\"dataframe\">\n",
       "  <thead>\n",
       "    <tr style=\"text-align: right;\">\n",
       "      <th></th>\n",
       "      <th>operating_airline</th>\n",
       "      <th>published_airline</th>\n",
       "      <th>geo_summary</th>\n",
       "      <th>geo_region</th>\n",
       "      <th>activity_type_code</th>\n",
       "      <th>cargo_type_code</th>\n",
       "      <th>cargo_aircraft_type</th>\n",
       "    </tr>\n",
       "  </thead>\n",
       "  <tbody>\n",
       "    <tr>\n",
       "      <th>count</th>\n",
       "      <td>54043</td>\n",
       "      <td>54043</td>\n",
       "      <td>54043</td>\n",
       "      <td>54043</td>\n",
       "      <td>54043</td>\n",
       "      <td>54043</td>\n",
       "      <td>54043</td>\n",
       "    </tr>\n",
       "    <tr>\n",
       "      <th>unique</th>\n",
       "      <td>130</td>\n",
       "      <td>119</td>\n",
       "      <td>2</td>\n",
       "      <td>9</td>\n",
       "      <td>2</td>\n",
       "      <td>3</td>\n",
       "      <td>3</td>\n",
       "    </tr>\n",
       "    <tr>\n",
       "      <th>top</th>\n",
       "      <td>United Airlines</td>\n",
       "      <td>United Airlines</td>\n",
       "      <td>International</td>\n",
       "      <td>Asia</td>\n",
       "      <td>Deplaned</td>\n",
       "      <td>Cargo</td>\n",
       "      <td>Passenger</td>\n",
       "    </tr>\n",
       "    <tr>\n",
       "      <th>freq</th>\n",
       "      <td>4758</td>\n",
       "      <td>4766</td>\n",
       "      <td>37735</td>\n",
       "      <td>19012</td>\n",
       "      <td>27630</td>\n",
       "      <td>29954</td>\n",
       "      <td>44391</td>\n",
       "    </tr>\n",
       "  </tbody>\n",
       "</table>\n",
       "</div>"
      ],
      "text/plain": [
       "       operating_airline published_airline    geo_summary geo_region  \\\n",
       "count              54043             54043          54043      54043   \n",
       "unique               130               119              2          9   \n",
       "top      United Airlines   United Airlines  International       Asia   \n",
       "freq                4758              4766          37735      19012   \n",
       "\n",
       "       activity_type_code cargo_type_code cargo_aircraft_type  \n",
       "count               54043           54043               54043  \n",
       "unique                  2               3                   3  \n",
       "top              Deplaned           Cargo           Passenger  \n",
       "freq                27630           29954               44391  "
      ]
     },
     "execution_count": 12,
     "metadata": {},
     "output_type": "execute_result"
    }
   ],
   "source": [
    "df.describe(include='object')"
   ]
  },
  {
   "cell_type": "markdown",
   "id": "872c04f3",
   "metadata": {
    "papermill": {
     "duration": 0.008885,
     "end_time": "2024-01-30T05:39:04.010396",
     "exception": false,
     "start_time": "2024-01-30T05:39:04.001511",
     "status": "completed"
    },
    "tags": []
   },
   "source": [
    "# Data Visualization"
   ]
  },
  {
   "cell_type": "code",
   "execution_count": null,
   "id": "b37e2032",
   "metadata": {
    "papermill": {
     "duration": 0.008473,
     "end_time": "2024-01-30T05:39:04.029007",
     "exception": false,
     "start_time": "2024-01-30T05:39:04.020534",
     "status": "completed"
    },
    "tags": []
   },
   "outputs": [],
   "source": []
  },
  {
   "cell_type": "markdown",
   "id": "fc680460",
   "metadata": {
    "papermill": {
     "duration": 0.008075,
     "end_time": "2024-01-30T05:39:04.045503",
     "exception": false,
     "start_time": "2024-01-30T05:39:04.037428",
     "status": "completed"
    },
    "tags": []
   },
   "source": []
  }
 ],
 "metadata": {
  "kaggle": {
   "accelerator": "none",
   "dataSources": [
    {
     "datasetId": 4234831,
     "sourceId": 7300010,
     "sourceType": "datasetVersion"
    }
   ],
   "dockerImageVersionId": 30626,
   "isGpuEnabled": false,
   "isInternetEnabled": true,
   "language": "python",
   "sourceType": "notebook"
  },
  "kernelspec": {
   "display_name": "Python 3",
   "language": "python",
   "name": "python3"
  },
  "language_info": {
   "codemirror_mode": {
    "name": "ipython",
    "version": 3
   },
   "file_extension": ".py",
   "mimetype": "text/x-python",
   "name": "python",
   "nbconvert_exporter": "python",
   "pygments_lexer": "ipython3",
   "version": "3.10.12"
  },
  "papermill": {
   "default_parameters": {},
   "duration": 11.898819,
   "end_time": "2024-01-30T05:39:04.878170",
   "environment_variables": {},
   "exception": null,
   "input_path": "__notebook__.ipynb",
   "output_path": "__notebook__.ipynb",
   "parameters": {},
   "start_time": "2024-01-30T05:38:52.979351",
   "version": "2.4.0"
  }
 },
 "nbformat": 4,
 "nbformat_minor": 5
}
